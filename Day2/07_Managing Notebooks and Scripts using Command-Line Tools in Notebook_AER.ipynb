{
 "cells": [
  {
   "cell_type": "code",
   "execution_count": 35,
   "id": "42876d32-5d40-40f4-abad-ce46f1e23851",
   "metadata": {},
   "outputs": [],
   "source": [
    "# !pip install papermill nbconvert jupytext pandoc"
   ]
  },
  {
   "cell_type": "code",
   "execution_count": 1,
   "id": "c7396ea5-e22d-4568-bcc6-c949dd7204fd",
   "metadata": {},
   "outputs": [],
   "source": [
    "import pandas as pd"
   ]
  },
  {
   "cell_type": "markdown",
   "id": "8bcc4f64-54d2-4b67-8810-18214284da75",
   "metadata": {},
   "source": [
    "# Managing Notebooks and Scripts using Command-Line Tools in Jupyter\n",
    "\n",
    "In this notebook we learn how to use command-line tools inside Jupyter notebooks to make our work easier and more efficient. \n",
    "We start by learning how to run command-line commands, like managing files or installing software, directly from the notebook. \n",
    "Then, we explore how to run entire notebooks from the command line, which helps when we need to automate tasks. \n",
    "We also see how to turn regular Python scripts into notebooks, making them easier version control with Git. \n",
    "Lastly, we see how to convert notebooks into other formats, like HTML or PDF from command line tools, so they can be shared with others."
   ]
  },
  {
   "cell_type": "markdown",
   "id": "e8a26f42-2c0e-4757-a4be-6896a9abceb4",
   "metadata": {},
   "source": [
    "## Running Command-Line Commands in Jupyter\n",
    "\n",
    "A command line is a text-based interface that allows users to interact with their computer’s operating system by typing commands, rather than using graphical interfaces.\n",
    "In this interface, users can navigate directories, manage files, run programs, and perform a wide range of tasks by typing specific commands.\n",
    "Popular command-line environments include Bash (common in Linux and macOS) and the Windows Command Prompt or PowerShell.\n",
    "\n",
    "As researchers we may need to use command-line for file management (move, rename, delete, or organize datasets), automate repeating tasks that may involve external tools, install software etc. \n",
    "\n",
    "Incorporating command-line commands into our analysis notebooks allows us to integrate external tools, automate repeating tasks, and manage data all within the same environment. \n",
    "\n",
    "**Run below code to downlaod data for this section. You do not have to know the contents of the file as we are only learning how to manage files**"
   ]
  },
  {
   "cell_type": "code",
   "execution_count": 2,
   "id": "1996a51c-b4c8-4170-8893-c19d40b24163",
   "metadata": {},
   "outputs": [
    {
     "name": "stderr",
     "output_type": "stream",
     "text": [
      "Downloading magic_commands/text_config.txt: 100%|██████████| 79.0/79.0 [00:00<00:00, 135kB/s]\n",
      "Downloading magic_commands/python_config.py: 100%|██████████| 80.0/80.0 [00:00<00:00, 54.4kB/s]\n",
      "Downloading magic_commands/notebook_config.ipynb: 100%|██████████| 2.41k/2.41k [00:00<00:00, 1.72MB/s]\n"
     ]
    }
   ],
   "source": [
    "import sys\n",
    "sys.path.append('src')\n",
    "import sciebo\n",
    "\n",
    "sciebo.download_file('https://uni-bonn.sciebo.de/s/yDiGZT44SXLvK5r', 'magic_commands/text_config.txt')\n",
    "sciebo.download_file('https://uni-bonn.sciebo.de/s/apw9RMXjgfhQaK5', 'magic_commands/python_config.py')\n",
    "sciebo.download_file('https://uni-bonn.sciebo.de/s/lwVMGbzKQXFuIax', 'magic_commands/notebook_config.ipynb')"
   ]
  },
  {
   "cell_type": "markdown",
   "id": "a605215f-2769-4b39-bb7f-4b0b113e8f8d",
   "metadata": {},
   "source": [
    "**Example** Install `pandas`"
   ]
  },
  {
   "cell_type": "code",
   "execution_count": 12,
   "id": "5fe656bc-129a-41f2-8a69-b4ae6b943f1c",
   "metadata": {},
   "outputs": [],
   "source": [
    "# !pip install pandas"
   ]
  },
  {
   "cell_type": "markdown",
   "id": "0d956b96-f449-44b9-bab6-871bb1abc912",
   "metadata": {},
   "source": [
    "Install `numpy`"
   ]
  },
  {
   "cell_type": "code",
   "execution_count": 14,
   "id": "02b334e3-29c7-49d6-889a-7b2287dd78f0",
   "metadata": {},
   "outputs": [],
   "source": [
    "# !pip install numpy"
   ]
  },
  {
   "cell_type": "markdown",
   "id": "8b5edc6a-f6ed-4b54-a6b4-ca74a531a502",
   "metadata": {},
   "source": [
    "Install seaborn"
   ]
  },
  {
   "cell_type": "code",
   "execution_count": 16,
   "id": "21ed7160-20d1-46e9-93f8-d2c70f4f2782",
   "metadata": {},
   "outputs": [],
   "source": [
    "# !pip install seaborn"
   ]
  },
  {
   "cell_type": "markdown",
   "id": "bfc7c6b2-c365-4a5b-80d1-640d6d8fcc18",
   "metadata": {},
   "source": [
    "You can use any option that comes along with the command-line command"
   ]
  },
  {
   "cell_type": "markdown",
   "id": "7a2569b3-858d-40b0-9c91-1d8fc62e3cec",
   "metadata": {},
   "source": [
    "**Example** Upgrade matplotlib"
   ]
  },
  {
   "cell_type": "code",
   "execution_count": 18,
   "id": "351bb5ba-89eb-44ac-b1bd-333264432974",
   "metadata": {},
   "outputs": [],
   "source": [
    "# !pip install --upgrade matplotlib"
   ]
  },
  {
   "cell_type": "markdown",
   "id": "48fdf38d-e7c9-465d-9632-ba157c52181f",
   "metadata": {},
   "source": [
    "Upgrade seaborn"
   ]
  },
  {
   "cell_type": "code",
   "execution_count": 20,
   "id": "a2ecb8b4-6ff4-42e1-ad95-9813bab29e72",
   "metadata": {},
   "outputs": [],
   "source": [
    "# !pip install seaborn"
   ]
  },
  {
   "cell_type": "markdown",
   "id": "b1368d5c-e13c-4fbc-a85f-ec7230137931",
   "metadata": {},
   "source": [
    "Upgrade nbformat"
   ]
  },
  {
   "cell_type": "code",
   "execution_count": 23,
   "id": "43aa83ed-1111-424e-92d9-bde1bdc61365",
   "metadata": {},
   "outputs": [],
   "source": [
    "# !pip install --upgrade nbformat"
   ]
  },
  {
   "cell_type": "markdown",
   "id": "437b2134-9d62-47cb-8b45-a67164de0c97",
   "metadata": {},
   "source": [
    "**Example** Create a new directory called `data_1`"
   ]
  },
  {
   "cell_type": "code",
   "execution_count": 9,
   "id": "3c1ddcdf-9e9d-4aa9-9cee-bd744f176f7e",
   "metadata": {},
   "outputs": [],
   "source": [
    "!mkdir data_1"
   ]
  },
  {
   "cell_type": "markdown",
   "id": "7876eec0-cf45-49ae-89a9-9b375043a221",
   "metadata": {},
   "source": [
    "Create a new directory `data_2`"
   ]
  },
  {
   "cell_type": "code",
   "execution_count": 10,
   "id": "ae8bff92-d2cd-416e-8e72-011b9bc796dc",
   "metadata": {},
   "outputs": [],
   "source": [
    "!mkdir data_2"
   ]
  },
  {
   "cell_type": "markdown",
   "id": "dd185198-f5b6-4e25-a003-2a6e362057de",
   "metadata": {},
   "source": [
    "Create a new directory `data_1/data_1_sub`\n",
    "\n",
    "(`data_1\\data_1_sub` for windows machines)"
   ]
  },
  {
   "cell_type": "code",
   "execution_count": 22,
   "id": "359f1dc0-ed2a-4ca5-9324-db1e5e6195ce",
   "metadata": {},
   "outputs": [],
   "source": [
    "!mkdir data_1\\data_1_sub"
   ]
  },
  {
   "cell_type": "markdown",
   "id": "5a54e792-8afb-4963-8b88-84475be0c969",
   "metadata": {},
   "source": [
    "We can run Linux command-line commands within a cell using %%bash\n",
    "\n",
    "**Example** Copy `magic_commands/hello.py` to `data_1` directory"
   ]
  },
  {
   "cell_type": "code",
   "execution_count": 24,
   "id": "af6b8ae4-4cde-4530-ab03-9ce13e3edcba",
   "metadata": {},
   "outputs": [],
   "source": [
    "%%bash\n",
    "cp magic_commands/python_config.py data_1/python_config.py"
   ]
  },
  {
   "cell_type": "markdown",
   "id": "654ba857-6673-499a-811a-902f492f3cea",
   "metadata": {},
   "source": [
    "Copy `magic_commands/text_config.txt` to `data_1`"
   ]
  },
  {
   "cell_type": "code",
   "execution_count": 25,
   "id": "a41c71d7-7416-4c4b-b8a0-70fac5e764bb",
   "metadata": {},
   "outputs": [],
   "source": [
    "%%bash\n",
    "cp magic_commands/text_config.txt data_1/text_config.txt"
   ]
  },
  {
   "cell_type": "markdown",
   "id": "5b0872bb-66eb-4ceb-ada0-3f43a0e05b05",
   "metadata": {},
   "source": [
    "Copy `magic_commands/notebook_config.ipynb` to `data_1/data_1_sub` with a name `nb_config.ipynb`"
   ]
  },
  {
   "cell_type": "code",
   "execution_count": 26,
   "id": "a57def14-dbd1-4168-b266-b4ee6f82abc8",
   "metadata": {},
   "outputs": [],
   "source": [
    "%%bash\n",
    "cp magic_commands/notebook_config.ipynb data_1/data_1_sub/nb_config.ipynb"
   ]
  },
  {
   "cell_type": "markdown",
   "id": "15ac97a7-8355-44ea-9d9f-9a44844f0923",
   "metadata": {},
   "source": [
    "Let's practice deleting files and folders. **Always be cautious when deleting any file**\n",
    "\n",
    "**Example** Delete `data_1/text_config.txt` file. (Only file)"
   ]
  },
  {
   "cell_type": "code",
   "execution_count": 27,
   "id": "4a18a6a1-e4ce-48a0-97ce-50b5e95694e5",
   "metadata": {},
   "outputs": [],
   "source": [
    "%%bash\n",
    "rm data_1/text_config.txt"
   ]
  },
  {
   "cell_type": "markdown",
   "id": "f48aefca-d19d-4e41-835f-a3890787f98f",
   "metadata": {},
   "source": [
    "Delete `data_1/python_config.txt` (Only file)"
   ]
  },
  {
   "cell_type": "code",
   "execution_count": 28,
   "id": "14c573a0-7d5e-416c-8868-71a74dbb9b7f",
   "metadata": {},
   "outputs": [],
   "source": [
    "%%bash\n",
    "rm data_1/python_config.py"
   ]
  },
  {
   "cell_type": "markdown",
   "id": "ab460ad8-1e82-4ef0-aef7-ebe0ad8edbae",
   "metadata": {},
   "source": [
    "Delete `data_2` directory"
   ]
  },
  {
   "cell_type": "code",
   "execution_count": 29,
   "id": "e027268a-a966-4877-a3de-d660e49b4501",
   "metadata": {},
   "outputs": [],
   "source": [
    "%%bash\n",
    "rmdir data_2"
   ]
  },
  {
   "cell_type": "markdown",
   "id": "508613d6-3805-4ca4-8731-b444134799da",
   "metadata": {},
   "source": [
    "Delete `data_1` including sub-directories"
   ]
  },
  {
   "cell_type": "markdown",
   "id": "2224c9ef-cc94-4100-956f-b2a12edc7c89",
   "metadata": {},
   "source": [
    "---"
   ]
  },
  {
   "cell_type": "markdown",
   "id": "d7e2ddba-c6b7-484b-bf92-7b83518ae117",
   "metadata": {},
   "source": [
    "## Executing Notebooks from Command Line\n",
    "\n",
    "Running a notebook from command-line can be useful to automate execution of Jupyter notebook as part of a workflow or pipeline.\n",
    "It can help us integrate it with task scheduling tools to perform routine tasks without manually opening and running the notebook.\n",
    "Another use would be when dealing with multiple notebooks, running from command-line allows for batch processing enabling us to execute several notebooks sequentially without manually interacting with each one.\n",
    "\n",
    "Here we will look into a tool called `papermill` that can execute notebooks from command-line. We will also see how to execute notebooks sequentially and in parallel. For this, we use three notebooks\n",
    "\n",
    "1. `analysis_workflow/1_data_access.ipynb`: Prepares the dataset `steinmetz_active.csv`\n",
    "2. `analysis_workflow/2_contrast_level.ipynb`: Uses `steinmetz_active.csv` for contrast level analysis\n",
    "3. `analysis_workflow/3_mouse_analysis.ipynb`: Uses `steinmetz_active.csv` for mouse analysis\n",
    "\n",
    "\n",
    "Notebooks 2 and 3 are not dependent on each other.\n",
    "Both use the output from `notebook 1` for their analysis. \n",
    "\n",
    "**Run below code to downlaod data for this section. You do not have to know the contents of the file as we are only learning how to execute notebooks from command-line**"
   ]
  },
  {
   "cell_type": "code",
   "execution_count": 30,
   "id": "59b563ea-cf01-46f5-bb55-53bab4b8fd17",
   "metadata": {},
   "outputs": [
    {
     "name": "stderr",
     "output_type": "stream",
     "text": [
      "Downloading execute_notebooks/1_data_access.ipynb: 100%|██████████| 26.0k/26.0k [00:00<00:00, 4.92MB/s]\n",
      "Downloading execute_notebooks/2_contrast_level.ipynb: 100%|██████████| 93.0k/93.0k [00:00<00:00, 5.28MB/s]\n",
      "Downloading execute_notebooks/3_mouse_analysis.ipynb: 100%|██████████| 84.1k/84.1k [00:00<00:00, 6.32MB/s]\n"
     ]
    }
   ],
   "source": [
    "import sys\n",
    "sys.path.append('src')\n",
    "import sciebo\n",
    "\n",
    "sciebo.download_file('https://uni-bonn.sciebo.de/s/sqOWyThRHtrwDNH', 'execute_notebooks/1_data_access.ipynb')\n",
    "sciebo.download_file('https://uni-bonn.sciebo.de/s/iHXsgis2cTJ52rj', 'execute_notebooks/2_contrast_level.ipynb')\n",
    "sciebo.download_file('https://uni-bonn.sciebo.de/s/IC2NHoU7EOcsoMK', 'execute_notebooks/3_mouse_analysis.ipynb')"
   ]
  },
  {
   "cell_type": "markdown",
   "id": "dabf7941-b2a7-44e2-b79a-f3dc0a074ea0",
   "metadata": {},
   "source": [
    "**Example** Execute `execute_notebooks/1_data_access.ipynb` as `output.ipynb` and examine it. Was any other file generated from this?"
   ]
  },
  {
   "cell_type": "code",
   "execution_count": 36,
   "id": "431aebbe-757c-4ba5-8eac-cb380f3f5484",
   "metadata": {},
   "outputs": [
    {
     "name": "stderr",
     "output_type": "stream",
     "text": [
      "C:\\Users\\atle_\\anaconda3\\envs\\notebook_driven_development_test\\Scripts\\papermill.exe\\__main__.py:4: DeprecationWarning: Parsing dates involving a day of month without a year specified is ambiguious\n",
      "and fails to parse leap day. The default behavior will change in Python 3.15\n",
      "to either always raise an exception or to use a different default year (TBD).\n",
      "To avoid trouble, add a specific year to the input & format.\n",
      "See https://github.com/python/cpython/issues/70647.\n",
      "Input Notebook:  execute_notebooks/1_data_access.ipynb\n",
      "Output Notebook: output.ipynb\n",
      "\n",
      "Executing:   0%|          | 0/12 [00:00<?, ?cell/s]Executing notebook with kernel: python3\n",
      "\n",
      "Executing:   8%|▊         | 1/12 [00:01<00:18,  1.67s/cell]\n",
      "Executing:  17%|█▋        | 2/12 [00:01<00:08,  1.17cell/s]\n",
      "Executing:  33%|███▎      | 4/12 [00:02<00:04,  1.85cell/s]\n",
      "Executing: 100%|██████████| 12/12 [00:02<00:00,  7.80cell/s]\n",
      "Executing: 100%|██████████| 12/12 [00:05<00:00,  2.19cell/s]\n"
     ]
    }
   ],
   "source": [
    "!papermill execute_notebooks/1_data_access.ipynb output.ipynb"
   ]
  },
  {
   "cell_type": "markdown",
   "id": "3b2c4268-79ad-4d47-a09c-6dd13a61462b",
   "metadata": {},
   "source": [
    "It has created the `steinmetz_active.csv` file. `output.ipynb` file is the same\n",
    "\n",
    "Execute `execute_notebooks/2_contrast_level.ipynb` as `output.ipynb` and examine the output."
   ]
  },
  {
   "cell_type": "code",
   "execution_count": 37,
   "id": "1328b0b1-57ba-428c-ab39-fcf727f9e590",
   "metadata": {},
   "outputs": [
    {
     "name": "stderr",
     "output_type": "stream",
     "text": [
      "C:\\Users\\atle_\\anaconda3\\envs\\notebook_driven_development_test\\Scripts\\papermill.exe\\__main__.py:4: DeprecationWarning: Parsing dates involving a day of month without a year specified is ambiguious\n",
      "and fails to parse leap day. The default behavior will change in Python 3.15\n",
      "to either always raise an exception or to use a different default year (TBD).\n",
      "To avoid trouble, add a specific year to the input & format.\n",
      "See https://github.com/python/cpython/issues/70647.\n",
      "Input Notebook:  execute_notebooks/2_contrast_level.ipynb\n",
      "Output Notebook: output.ipynb\n",
      "\n",
      "Executing:   0%|          | 0/18 [00:00<?, ?cell/s]Executing notebook with kernel: python3\n",
      "\n",
      "Executing:   6%|▌         | 1/18 [00:01<00:28,  1.69s/cell]\n",
      "Executing:  11%|█         | 2/18 [00:03<00:32,  2.05s/cell]\n",
      "Executing:  72%|███████▏  | 13/18 [00:04<00:01,  4.80cell/s]\n",
      "Executing: 100%|██████████| 18/18 [00:04<00:00,  7.08cell/s]\n",
      "Executing: 100%|██████████| 18/18 [00:04<00:00,  3.68cell/s]\n"
     ]
    }
   ],
   "source": [
    "!papermill execute_notebooks/2_contrast_level.ipynb output.ipynb"
   ]
  },
  {
   "cell_type": "markdown",
   "id": "1ac9c23d-51d3-4a5e-bb9f-18c90d3e2907",
   "metadata": {},
   "source": [
    "Execute `execute_notebooks/3_mouse_analysis.ipynb` as `output.ipynb` and the output."
   ]
  },
  {
   "cell_type": "code",
   "execution_count": 38,
   "id": "31d82c8d-d817-4b36-9966-3a8e4b2fb713",
   "metadata": {},
   "outputs": [
    {
     "name": "stderr",
     "output_type": "stream",
     "text": [
      "C:\\Users\\atle_\\anaconda3\\envs\\notebook_driven_development_test\\Scripts\\papermill.exe\\__main__.py:4: DeprecationWarning: Parsing dates involving a day of month without a year specified is ambiguious\n",
      "and fails to parse leap day. The default behavior will change in Python 3.15\n",
      "to either always raise an exception or to use a different default year (TBD).\n",
      "To avoid trouble, add a specific year to the input & format.\n",
      "See https://github.com/python/cpython/issues/70647.\n",
      "Input Notebook:  execute_notebooks/3_mouse_analysis.ipynb\n",
      "Output Notebook: output.ipynb\n",
      "\n",
      "Executing:   0%|          | 0/12 [00:00<?, ?cell/s]Executing notebook with kernel: python3\n",
      "\n",
      "Executing:   8%|▊         | 1/12 [00:01<00:20,  1.83s/cell]\n",
      "Executing:  17%|█▋        | 2/12 [00:04<00:24,  2.42s/cell]\n",
      "Executing:  92%|█████████▏| 11/12 [00:04<00:00,  3.42cell/s]\n",
      "Executing: 100%|██████████| 12/12 [00:05<00:00,  2.17cell/s]\n"
     ]
    }
   ],
   "source": [
    "!papermill execute_notebooks/3_mouse_analysis.ipynb output.ipynb"
   ]
  },
  {
   "cell_type": "markdown",
   "id": "baf4edfe-c280-42e0-ac2c-5ee1730077dc",
   "metadata": {},
   "source": [
    "Delete `data_analysis/steinmetz_active.csv` file.\n",
    "\n",
    "Execute `execute_notebooks/3_mouse_analysis.ipynb` as `output.ipynb` and examine `output.ipynb` directory. What do you see?"
   ]
  },
  {
   "cell_type": "code",
   "execution_count": 39,
   "id": "979869f4-055a-43de-94ce-a8459d53d91a",
   "metadata": {},
   "outputs": [
    {
     "name": "stderr",
     "output_type": "stream",
     "text": [
      "C:\\Users\\atle_\\anaconda3\\envs\\notebook_driven_development_test\\Scripts\\papermill.exe\\__main__.py:4: DeprecationWarning: Parsing dates involving a day of month without a year specified is ambiguious\n",
      "and fails to parse leap day. The default behavior will change in Python 3.15\n",
      "to either always raise an exception or to use a different default year (TBD).\n",
      "To avoid trouble, add a specific year to the input & format.\n",
      "See https://github.com/python/cpython/issues/70647.\n",
      "Input Notebook:  execute_notebooks/3_mouse_analysis.ipynb\n",
      "Output Notebook: output.ipynb\n",
      "\n",
      "Executing:   0%|          | 0/12 [00:00<?, ?cell/s]Executing notebook with kernel: python3\n",
      "\n",
      "Executing:   8%|▊         | 1/12 [00:01<00:19,  1.76s/cell]\n",
      "Executing:  17%|█▋        | 2/12 [00:03<00:20,  2.02s/cell]\n",
      "Executing: 100%|██████████| 12/12 [00:04<00:00,  4.36cell/s]\n",
      "Executing: 100%|██████████| 12/12 [00:04<00:00,  2.55cell/s]\n"
     ]
    }
   ],
   "source": [
    "!papermill execute_notebooks/3_mouse_analysis.ipynb output.ipynb"
   ]
  },
  {
   "cell_type": "markdown",
   "id": "f515468a-f138-4460-b9ab-89797378c391",
   "metadata": {},
   "source": [
    "It gives an error in the output of the cell. \n",
    "In `data_analysis/output.ipynb`, you will see a huge error in red on top of the notebook and another red text before the cell where it encountered an error."
   ]
  },
  {
   "cell_type": "markdown",
   "id": "4cf8db1f-ee49-4243-8451-836dc4995ca2",
   "metadata": {},
   "source": [
    "If you are not interested in creating an output file\n",
    "\n",
    "**Example** Execute `execute_notebooks/1_data_access.ipynb` inplace"
   ]
  },
  {
   "cell_type": "code",
   "execution_count": 40,
   "id": "50ced1b2-1c3b-4062-9a00-db5cc9c93f71",
   "metadata": {},
   "outputs": [
    {
     "name": "stderr",
     "output_type": "stream",
     "text": [
      "C:\\Users\\atle_\\anaconda3\\envs\\notebook_driven_development_test\\Scripts\\papermill.exe\\__main__.py:4: DeprecationWarning: Parsing dates involving a day of month without a year specified is ambiguious\n",
      "and fails to parse leap day. The default behavior will change in Python 3.15\n",
      "to either always raise an exception or to use a different default year (TBD).\n",
      "To avoid trouble, add a specific year to the input & format.\n",
      "See https://github.com/python/cpython/issues/70647.\n",
      "Input Notebook:  execute_notebooks/1_data_access.ipynb\n",
      "Output Notebook: execute_notebooks/1_data_access.ipynb\n",
      "\n",
      "Executing:   0%|          | 0/12 [00:00<?, ?cell/s]Executing notebook with kernel: python3\n",
      "\n",
      "Executing:   8%|▊         | 1/12 [00:01<00:18,  1.65s/cell]\n",
      "Executing:  17%|█▋        | 2/12 [00:01<00:08,  1.17cell/s]\n",
      "Executing:  33%|███▎      | 4/12 [00:02<00:04,  1.85cell/s]\n",
      "Executing: 100%|██████████| 12/12 [00:02<00:00,  4.01cell/s]\n"
     ]
    }
   ],
   "source": [
    "!papermill execute_notebooks/1_data_access.ipynb execute_notebooks/1_data_access.ipynb"
   ]
  },
  {
   "cell_type": "markdown",
   "id": "3938e5f0-712c-48ff-8252-5b1158043518",
   "metadata": {},
   "source": [
    "Execute `execute_notebooks/2_contrast_level.ipynb` in place"
   ]
  },
  {
   "cell_type": "code",
   "execution_count": 41,
   "id": "31529d63-89db-4a54-ae3b-974192942145",
   "metadata": {},
   "outputs": [
    {
     "name": "stderr",
     "output_type": "stream",
     "text": [
      "C:\\Users\\atle_\\anaconda3\\envs\\notebook_driven_development_test\\Scripts\\papermill.exe\\__main__.py:4: DeprecationWarning: Parsing dates involving a day of month without a year specified is ambiguious\n",
      "and fails to parse leap day. The default behavior will change in Python 3.15\n",
      "to either always raise an exception or to use a different default year (TBD).\n",
      "To avoid trouble, add a specific year to the input & format.\n",
      "See https://github.com/python/cpython/issues/70647.\n",
      "Input Notebook:  execute_notebooks/2_contrast_level.ipynb\n",
      "Output Notebook: execute_notebooks/2_contrast_level.ipynb\n",
      "\n",
      "Executing:   0%|          | 0/18 [00:00<?, ?cell/s]Executing notebook with kernel: python3\n",
      "\n",
      "Executing:   6%|▌         | 1/18 [00:01<00:33,  2.00s/cell]\n",
      "Executing:  11%|█         | 2/18 [00:05<00:45,  2.82s/cell]\n",
      "Executing:  44%|████▍     | 8/18 [00:05<00:04,  2.07cell/s]\n",
      "Executing:  94%|█████████▍| 17/18 [00:05<00:00,  5.55cell/s]\n",
      "Executing: 100%|██████████| 18/18 [00:06<00:00,  2.85cell/s]\n"
     ]
    }
   ],
   "source": [
    "!papermill execute_notebooks/2_contrast_level.ipynb execute_notebooks/2_contrast_level.ipynb"
   ]
  },
  {
   "cell_type": "markdown",
   "id": "300543f0-52eb-4dce-8d0d-8195163500cf",
   "metadata": {},
   "source": [
    "Execute `execute_notebooks/3_mouse_analysis.ipynb` as `execute_notebooks/3_mouse_analysis.ipynb`"
   ]
  },
  {
   "cell_type": "code",
   "execution_count": 42,
   "id": "347f9b34-2e46-40fe-99e0-98ebef5b1640",
   "metadata": {},
   "outputs": [
    {
     "name": "stderr",
     "output_type": "stream",
     "text": [
      "C:\\Users\\atle_\\anaconda3\\envs\\notebook_driven_development_test\\Scripts\\papermill.exe\\__main__.py:4: DeprecationWarning: Parsing dates involving a day of month without a year specified is ambiguious\n",
      "and fails to parse leap day. The default behavior will change in Python 3.15\n",
      "to either always raise an exception or to use a different default year (TBD).\n",
      "To avoid trouble, add a specific year to the input & format.\n",
      "See https://github.com/python/cpython/issues/70647.\n",
      "Input Notebook:  execute_notebooks/3_mouse_analysis.ipynb\n",
      "Output Notebook: execute_notebooks/3_mouse_analysis.ipynb\n",
      "\n",
      "Executing:   0%|          | 0/12 [00:00<?, ?cell/s]Executing notebook with kernel: python3\n",
      "\n",
      "Executing:   8%|▊         | 1/12 [00:01<00:21,  1.96s/cell]\n",
      "Executing:  17%|█▋        | 2/12 [00:05<00:28,  2.81s/cell]\n",
      "Executing:  75%|███████▌  | 9/12 [00:05<00:01,  2.37cell/s]\n",
      "Executing: 100%|██████████| 12/12 [00:05<00:00,  3.41cell/s]\n",
      "Executing: 100%|██████████| 12/12 [00:06<00:00,  1.91cell/s]\n"
     ]
    }
   ],
   "source": [
    "!papermill execute_notebooks/3_mouse_analysis.ipynb execute_notebooks/3_mouse_analysis.ipynb"
   ]
  },
  {
   "cell_type": "markdown",
   "id": "aa9c2208-8268-42f2-9ca9-7ca2ee3bb4d1",
   "metadata": {},
   "source": [
    "**Example** Execute `1_data_access.ipynb` and `2_contrast_level.ipynb` sequentially"
   ]
  },
  {
   "cell_type": "code",
   "execution_count": 43,
   "id": "55f4a798-2f8b-4f8c-8fe5-2780ec64c1c0",
   "metadata": {},
   "outputs": [
    {
     "name": "stderr",
     "output_type": "stream",
     "text": [
      "C:\\Users\\atle_\\anaconda3\\envs\\notebook_driven_development_test\\Scripts\\papermill.exe\\__main__.py:4: DeprecationWarning: Parsing dates involving a day of month without a year specified is ambiguious\n",
      "and fails to parse leap day. The default behavior will change in Python 3.15\n",
      "to either always raise an exception or to use a different default year (TBD).\n",
      "To avoid trouble, add a specific year to the input & format.\n",
      "See https://github.com/python/cpython/issues/70647.\n",
      "Input Notebook:  execute_notebooks/1_data_access.ipynb\n",
      "Output Notebook: output_1.ipynb\n",
      "\n",
      "Executing:   0%|          | 0/12 [00:00<?, ?cell/s]Executing notebook with kernel: python3\n",
      "\n",
      "Executing:   8%|▊         | 1/12 [00:01<00:20,  1.84s/cell]\n",
      "Executing:  17%|█▋        | 2/12 [00:02<00:09,  1.04cell/s]\n",
      "Executing:  33%|███▎      | 4/12 [00:02<00:04,  1.71cell/s]\n",
      "Executing: 100%|██████████| 12/12 [00:03<00:00,  7.26cell/s]\n",
      "Executing: 100%|██████████| 12/12 [00:03<00:00,  3.70cell/s]\n",
      "C:\\Users\\atle_\\anaconda3\\envs\\notebook_driven_development_test\\Scripts\\papermill.exe\\__main__.py:4: DeprecationWarning: Parsing dates involving a day of month without a year specified is ambiguious\n",
      "and fails to parse leap day. The default behavior will change in Python 3.15\n",
      "to either always raise an exception or to use a different default year (TBD).\n",
      "To avoid trouble, add a specific year to the input & format.\n",
      "See https://github.com/python/cpython/issues/70647.\n",
      "Input Notebook:  execute_notebooks/2_contrast_level.ipynb\n",
      "Output Notebook: output_2.ipynb\n",
      "\n",
      "Executing:   0%|          | 0/18 [00:00<?, ?cell/s]Executing notebook with kernel: python3\n",
      "\n",
      "Executing:   6%|▌         | 1/18 [00:01<00:32,  1.91s/cell]\n",
      "Executing:  11%|█         | 2/18 [00:04<00:40,  2.52s/cell]\n",
      "Executing:  67%|██████▋   | 12/18 [00:04<00:01,  3.59cell/s]\n",
      "Executing: 100%|██████████| 18/18 [00:05<00:00,  5.90cell/s]\n",
      "Executing: 100%|██████████| 18/18 [00:05<00:00,  3.22cell/s]\n"
     ]
    }
   ],
   "source": [
    "!papermill execute_notebooks/1_data_access.ipynb output_1.ipynb\n",
    "!papermill execute_notebooks/2_contrast_level.ipynb output_2.ipynb"
   ]
  },
  {
   "cell_type": "markdown",
   "id": "7d981c37-f314-4d72-be5f-8989362249b4",
   "metadata": {},
   "source": [
    "Execute `1_data_access.ipynb` and `3_mouse_analysis.ipynb` sequentially"
   ]
  },
  {
   "cell_type": "code",
   "execution_count": 44,
   "id": "2679ec8f-4169-430f-bde4-45bf2fa1fdc0",
   "metadata": {},
   "outputs": [
    {
     "name": "stderr",
     "output_type": "stream",
     "text": [
      "C:\\Users\\atle_\\anaconda3\\envs\\notebook_driven_development_test\\Scripts\\papermill.exe\\__main__.py:4: DeprecationWarning: Parsing dates involving a day of month without a year specified is ambiguious\n",
      "and fails to parse leap day. The default behavior will change in Python 3.15\n",
      "to either always raise an exception or to use a different default year (TBD).\n",
      "To avoid trouble, add a specific year to the input & format.\n",
      "See https://github.com/python/cpython/issues/70647.\n",
      "Input Notebook:  execute_notebooks/1_data_access.ipynb\n",
      "Output Notebook: output_1.ipynb\n",
      "\n",
      "Executing:   0%|          | 0/12 [00:00<?, ?cell/s]Executing notebook with kernel: python3\n",
      "\n",
      "Executing:   8%|▊         | 1/12 [00:01<00:18,  1.67s/cell]\n",
      "Executing:  17%|█▋        | 2/12 [00:01<00:08,  1.17cell/s]\n",
      "Executing:  33%|███▎      | 4/12 [00:02<00:04,  1.64cell/s]\n",
      "Executing: 100%|██████████| 12/12 [00:03<00:00,  3.73cell/s]\n",
      "C:\\Users\\atle_\\anaconda3\\envs\\notebook_driven_development_test\\Scripts\\papermill.exe\\__main__.py:4: DeprecationWarning: Parsing dates involving a day of month without a year specified is ambiguious\n",
      "and fails to parse leap day. The default behavior will change in Python 3.15\n",
      "to either always raise an exception or to use a different default year (TBD).\n",
      "To avoid trouble, add a specific year to the input & format.\n",
      "See https://github.com/python/cpython/issues/70647.\n",
      "Input Notebook:  execute_notebooks/3_mouse_analysis.ipynb\n",
      "Output Notebook: output_3.ipynb\n",
      "\n",
      "Executing:   0%|          | 0/12 [00:00<?, ?cell/s]Executing notebook with kernel: python3\n",
      "\n",
      "Executing:   8%|▊         | 1/12 [00:01<00:19,  1.76s/cell]\n",
      "Executing:  17%|█▋        | 2/12 [00:03<00:20,  2.04s/cell]\n",
      "Executing: 100%|██████████| 12/12 [00:04<00:00,  4.32cell/s]\n",
      "Executing: 100%|██████████| 12/12 [00:04<00:00,  2.54cell/s]\n"
     ]
    }
   ],
   "source": [
    "!papermill execute_notebooks/1_data_access.ipynb output_1.ipynb\n",
    "!papermill execute_notebooks/3_mouse_analysis.ipynb output_3.ipynb"
   ]
  },
  {
   "cell_type": "markdown",
   "id": "b80e51f8-7596-4f7a-871a-270abcdd0eb4",
   "metadata": {},
   "source": [
    "Execute all the three notebooks one after the other"
   ]
  },
  {
   "cell_type": "code",
   "execution_count": 45,
   "id": "5d550f71-4317-4a74-b9eb-f19c3d53729c",
   "metadata": {},
   "outputs": [
    {
     "name": "stderr",
     "output_type": "stream",
     "text": [
      "C:\\Users\\atle_\\anaconda3\\envs\\notebook_driven_development_test\\Scripts\\papermill.exe\\__main__.py:4: DeprecationWarning: Parsing dates involving a day of month without a year specified is ambiguious\n",
      "and fails to parse leap day. The default behavior will change in Python 3.15\n",
      "to either always raise an exception or to use a different default year (TBD).\n",
      "To avoid trouble, add a specific year to the input & format.\n",
      "See https://github.com/python/cpython/issues/70647.\n",
      "Input Notebook:  execute_notebooks/1_data_access.ipynb\n",
      "Output Notebook: output_1.ipynb\n",
      "\n",
      "Executing:   0%|          | 0/12 [00:00<?, ?cell/s]Executing notebook with kernel: python3\n",
      "\n",
      "Executing:   8%|▊         | 1/12 [00:01<00:17,  1.63s/cell]\n",
      "Executing:  17%|█▋        | 2/12 [00:01<00:08,  1.19cell/s]\n",
      "Executing:  33%|███▎      | 4/12 [00:02<00:04,  1.88cell/s]\n",
      "Executing: 100%|██████████| 12/12 [00:05<00:00,  2.21cell/s]\n",
      "C:\\Users\\atle_\\anaconda3\\envs\\notebook_driven_development_test\\Scripts\\papermill.exe\\__main__.py:4: DeprecationWarning: Parsing dates involving a day of month without a year specified is ambiguious\n",
      "and fails to parse leap day. The default behavior will change in Python 3.15\n",
      "to either always raise an exception or to use a different default year (TBD).\n",
      "To avoid trouble, add a specific year to the input & format.\n",
      "See https://github.com/python/cpython/issues/70647.\n",
      "Input Notebook:  execute_notebooks/2_contrast_level.ipynb\n",
      "Output Notebook: output_2.ipynb\n",
      "\n",
      "Executing:   0%|          | 0/18 [00:00<?, ?cell/s]Executing notebook with kernel: python3\n",
      "\n",
      "Executing:   6%|▌         | 1/18 [00:01<00:28,  1.66s/cell]\n",
      "Executing:  11%|█         | 2/18 [00:03<00:31,  1.98s/cell]\n",
      "Executing:  83%|████████▎ | 15/18 [00:03<00:00,  5.76cell/s]\n",
      "Executing: 100%|██████████| 18/18 [00:04<00:00,  3.87cell/s]\n",
      "C:\\Users\\atle_\\anaconda3\\envs\\notebook_driven_development_test\\Scripts\\papermill.exe\\__main__.py:4: DeprecationWarning: Parsing dates involving a day of month without a year specified is ambiguious\n",
      "and fails to parse leap day. The default behavior will change in Python 3.15\n",
      "to either always raise an exception or to use a different default year (TBD).\n",
      "To avoid trouble, add a specific year to the input & format.\n",
      "See https://github.com/python/cpython/issues/70647.\n",
      "Input Notebook:  execute_notebooks/3_mouse_analysis.ipynb\n",
      "Output Notebook: output_3.ipynb\n",
      "\n",
      "Executing:   0%|          | 0/12 [00:00<?, ?cell/s]Executing notebook with kernel: python3\n",
      "\n",
      "Executing:   8%|▊         | 1/12 [00:01<00:18,  1.67s/cell]\n",
      "Executing:  17%|█▋        | 2/12 [00:03<00:20,  2.06s/cell]\n",
      "Executing: 100%|██████████| 12/12 [00:04<00:00,  4.31cell/s]Assertion failed: pfd.revents & POLLIN (D:\\bld\\zeromq_1728363607441\\work\\src\\signaler.cpp:238)\n",
      "\n",
      "Executing: 100%|██████████| 12/12 [00:04<00:00,  2.74cell/s]\n"
     ]
    }
   ],
   "source": [
    "!papermill execute_notebooks/1_data_access.ipynb output_1.ipynb\n",
    "!papermill execute_notebooks/2_contrast_level.ipynb output_2.ipynb\n",
    "!papermill execute_notebooks/3_mouse_analysis.ipynb output_3.ipynb"
   ]
  },
  {
   "cell_type": "markdown",
   "id": "f98c2cce-9d6c-487a-baa5-d4dbfed03747",
   "metadata": {},
   "source": [
    "---"
   ]
  },
  {
   "cell_type": "markdown",
   "id": "a5b216c5-3185-4311-8b07-0ead9ec56210",
   "metadata": {},
   "source": [
    "## Turning Scripts into Notebooks\n",
    "\n",
    "Converting a script into a Jupyter notebook can be valuable for enhancing code readability, facilitating interactive analysis, and improving collaboration. \n",
    "Notebooks provide an environment where code, explanations, and results are combined in a clear, organized format. \n",
    "This allows users to document their thought process alongside the code, include visualizations directly within the workflow, and run individual code cells for step-by-step debugging or exploration."
   ]
  },
  {
   "cell_type": "markdown",
   "id": "a342f94b-d112-4150-8d8c-80ca98a3a9d2",
   "metadata": {},
   "source": [
    "**Example** Create `script.py` with the below code and convert it to notebook. How does the resulting notebook look? <font color='red'> The example cell (and the following cells) didn't run through because script.py can't be found. Is something not done or have I forgotten to run some previous cell? </font>\n",
    "\n",
    "```python\n",
    "num_mouse = 10\n",
    "num_contrast_left = 4\n",
    "num_contrast_right = 4\n",
    "```"
   ]
  },
  {
   "cell_type": "code",
   "execution_count": 46,
   "id": "ec88ab2a-eb64-4407-8542-0b02d969f9b3",
   "metadata": {},
   "outputs": [
    {
     "name": "stdout",
     "output_type": "stream",
     "text": [
      "[jupytext] Reading script.py in format py\n"
     ]
    },
    {
     "name": "stderr",
     "output_type": "stream",
     "text": [
      "Traceback (most recent call last):\n",
      "  File \"<frozen runpy>\", line 198, in _run_module_as_main\n",
      "  File \"<frozen runpy>\", line 88, in _run_code\n",
      "  File \"C:\\Users\\atle_\\anaconda3\\envs\\notebook_driven_development_test\\Scripts\\jupytext.exe\\__main__.py\", line 7, in <module>\n",
      "    sys.exit(jupytext())\n",
      "             ~~~~~~~~^^\n",
      "  File \"C:\\Users\\atle_\\anaconda3\\envs\\notebook_driven_development_test\\Lib\\site-packages\\jupytext\\cli.py\", line 497, in jupytext\n",
      "    exit_code += jupytext_single_file(nb_file, args, log)\n",
      "                 ~~~~~~~~~~~~~~~~~~~~^^^^^^^^^^^^^^^^^^^^\n",
      "  File \"C:\\Users\\atle_\\anaconda3\\envs\\notebook_driven_development_test\\Lib\\site-packages\\jupytext\\cli.py\", line 561, in jupytext_single_file\n",
      "    notebook = read(nb_file, fmt=fmt, config=config)\n",
      "  File \"C:\\Users\\atle_\\anaconda3\\envs\\notebook_driven_development_test\\Lib\\site-packages\\jupytext\\jupytext.py\", line 431, in read\n",
      "    with open(fp, encoding=\"utf-8\") as stream:\n",
      "         ~~~~^^^^^^^^^^^^^^^^^^^^^^\n",
      "FileNotFoundError: [Errno 2] No such file or directory: 'script.py'\n"
     ]
    }
   ],
   "source": [
    "!jupytext --to notebook script.py"
   ]
  },
  {
   "cell_type": "markdown",
   "id": "af705b46-9345-4ac6-a224-7becd1d31356",
   "metadata": {},
   "source": [
    "Create `script.py` with the below code and convert it to notebook. How does the resulting notebook look?\n",
    "\n",
    "```python\n",
    "num_mouse = 10\n",
    "num_contrast_left = 4\n",
    "num_contrast_right = 4\n",
    "\n",
    "print(num_mouse)\n",
    "```"
   ]
  },
  {
   "cell_type": "code",
   "execution_count": 47,
   "id": "e32e3ef7-ca14-4035-a731-f8febbe30d8b",
   "metadata": {},
   "outputs": [
    {
     "name": "stdout",
     "output_type": "stream",
     "text": [
      "[jupytext] Reading script.py in format py\n"
     ]
    },
    {
     "name": "stderr",
     "output_type": "stream",
     "text": [
      "Traceback (most recent call last):\n",
      "  File \"<frozen runpy>\", line 198, in _run_module_as_main\n",
      "  File \"<frozen runpy>\", line 88, in _run_code\n",
      "  File \"C:\\Users\\atle_\\anaconda3\\envs\\notebook_driven_development_test\\Scripts\\jupytext.exe\\__main__.py\", line 7, in <module>\n",
      "    sys.exit(jupytext())\n",
      "             ~~~~~~~~^^\n",
      "  File \"C:\\Users\\atle_\\anaconda3\\envs\\notebook_driven_development_test\\Lib\\site-packages\\jupytext\\cli.py\", line 497, in jupytext\n",
      "    exit_code += jupytext_single_file(nb_file, args, log)\n",
      "                 ~~~~~~~~~~~~~~~~~~~~^^^^^^^^^^^^^^^^^^^^\n",
      "  File \"C:\\Users\\atle_\\anaconda3\\envs\\notebook_driven_development_test\\Lib\\site-packages\\jupytext\\cli.py\", line 561, in jupytext_single_file\n",
      "    notebook = read(nb_file, fmt=fmt, config=config)\n",
      "  File \"C:\\Users\\atle_\\anaconda3\\envs\\notebook_driven_development_test\\Lib\\site-packages\\jupytext\\jupytext.py\", line 431, in read\n",
      "    with open(fp, encoding=\"utf-8\") as stream:\n",
      "         ~~~~^^^^^^^^^^^^^^^^^^^^^^\n",
      "FileNotFoundError: [Errno 2] No such file or directory: 'script.py'\n"
     ]
    }
   ],
   "source": [
    "# !jupytext --to notebook script.py"
   ]
  },
  {
   "cell_type": "markdown",
   "id": "3be933da-0bcd-408b-8123-a5591842e199",
   "metadata": {},
   "source": [
    "Create `script.py` with the below code and convert it to notebook. How does the resulting notebook look?\n",
    "\n",
    "```python\n",
    "num_mouse = 10\n",
    "num_contrast_left = 4\n",
    "num_contrast_right = 4\n",
    "\n",
    "num_mouse\n",
    "```"
   ]
  },
  {
   "cell_type": "code",
   "execution_count": null,
   "id": "b713d9b7-31e7-4074-b2f0-dd31692c5aff",
   "metadata": {},
   "outputs": [],
   "source": [
    "# !jupytext --to notebook script.py"
   ]
  },
  {
   "cell_type": "markdown",
   "id": "002d7612-ebc0-4c29-9f9f-c7b84a07e5fa",
   "metadata": {},
   "source": [
    "Let's practice with markdown\n",
    "\n",
    "**Example** Create a python `script.py` with markdown text \"This is markdown text\"\n",
    "\n",
    "```python\n",
    "# %% [markdown]\n",
    "# This is a markdown cell\n",
    "```"
   ]
  },
  {
   "cell_type": "code",
   "execution_count": null,
   "id": "54985321-7e1e-4ea3-abd4-811182880b8e",
   "metadata": {},
   "outputs": [],
   "source": [
    "# !jupytext --to notebook script.py"
   ]
  },
  {
   "cell_type": "markdown",
   "id": "5c749d29-6f85-4210-a98d-7a22384d3d14",
   "metadata": {},
   "source": [
    " Create a python `script.py` with multiple lines of markdown text. \n",
    " Convert it to notebook and examine the resulting notebook."
   ]
  },
  {
   "cell_type": "code",
   "execution_count": null,
   "id": "39e3179a-b199-42c9-a592-6300bdc7c7c4",
   "metadata": {},
   "outputs": [],
   "source": [
    "# !jupytext --to notebook script.py"
   ]
  },
  {
   "cell_type": "markdown",
   "id": "4c083e8d-a487-41db-a312-f48e5d9ffe6c",
   "metadata": {},
   "source": [
    "**Example** Create `script.py` with the a title \"Data Analysis\" and `a=10`. \n",
    "Convert it to notebook. \n",
    "How does the resulting notebook look?\n",
    "\n",
    "```python\n",
    "# %% [markdown]\n",
    "# Title\n",
    "\n",
    "# %%\n",
    "a = 10\n",
    "```"
   ]
  },
  {
   "cell_type": "code",
   "execution_count": null,
   "id": "daeaae02-fcc4-45e0-b2b7-5afe543e64cd",
   "metadata": {},
   "outputs": [],
   "source": [
    "# !jupytext --to notebook script.py"
   ]
  },
  {
   "cell_type": "markdown",
   "id": "01e46751-209f-4b86-9cdf-e9a7f09ccb7f",
   "metadata": {},
   "source": [
    "Create `script.py` with the a title \"Data Analysis\" and `a=10`, `b=100`. \n",
    "Convert it to notebook. \n",
    "How does the resulting notebook look?"
   ]
  },
  {
   "cell_type": "code",
   "execution_count": null,
   "id": "be5fd7af-c81b-437f-a0b8-c97fd0581099",
   "metadata": {},
   "outputs": [],
   "source": [
    "# !jupytext --to notebook script.py"
   ]
  },
  {
   "cell_type": "markdown",
   "id": "9931b97e-a2c6-4c77-81ed-ab7dc70c204b",
   "metadata": {},
   "source": [
    "---"
   ]
  },
  {
   "cell_type": "markdown",
   "id": "6e795300-8367-4a43-8d97-4eb6131f8b99",
   "metadata": {},
   "source": [
    "## Turning Notebooks into Other Formats\n",
    "\n",
    "Sometimes, we would want to convert jupyter notebooks to other formats.\n",
    "Mainly, we would convert to python scripts or HTML. \n",
    "Converting to Python scripts can often help in version controlling and usage in large libraries.\n",
    "\n",
    "Converting to HTML enables embedding the notebook within websites or presentations, enhancing communication of data and findings."
   ]
  },
  {
   "cell_type": "markdown",
   "id": "25f104d3-e9c2-443d-850b-11e4c4befcef",
   "metadata": {},
   "source": [
    "**Example** Convert `execute_notebooks/1_data_access.ipynb` to python script"
   ]
  },
  {
   "cell_type": "code",
   "execution_count": 48,
   "id": "0085d79a-c6cf-4249-b44b-d5cc812e9110",
   "metadata": {},
   "outputs": [
    {
     "name": "stderr",
     "output_type": "stream",
     "text": [
      "C:\\Users\\atle_\\anaconda3\\envs\\notebook_driven_development_test\\Scripts\\jupyter-nbconvert.EXE\\__main__.py:4: DeprecationWarning: Parsing dates involving a day of month without a year specified is ambiguious\n",
      "and fails to parse leap day. The default behavior will change in Python 3.15\n",
      "to either always raise an exception or to use a different default year (TBD).\n",
      "To avoid trouble, add a specific year to the input & format.\n",
      "See https://github.com/python/cpython/issues/70647.\n",
      "[NbConvertApp] Converting notebook execute_notebooks/1_data_access.ipynb to script\n",
      "[NbConvertApp] Writing 915 bytes to execute_notebooks\\1_data_access.py\n"
     ]
    }
   ],
   "source": [
    "!jupyter nbconvert --to script execute_notebooks/1_data_access.ipynb"
   ]
  },
  {
   "cell_type": "markdown",
   "id": "8e93d002-3d79-4811-a880-76caffb6dd1d",
   "metadata": {},
   "source": [
    "Convert `execute_notebooks/2_contrast_level.ipynb` to python script"
   ]
  },
  {
   "cell_type": "code",
   "execution_count": 49,
   "id": "62556f7e-62a8-4cf0-b7a9-42773239bb0a",
   "metadata": {},
   "outputs": [
    {
     "name": "stderr",
     "output_type": "stream",
     "text": [
      "C:\\Users\\atle_\\anaconda3\\envs\\notebook_driven_development_test\\Scripts\\jupyter-nbconvert.EXE\\__main__.py:4: DeprecationWarning: Parsing dates involving a day of month without a year specified is ambiguious\n",
      "and fails to parse leap day. The default behavior will change in Python 3.15\n",
      "to either always raise an exception or to use a different default year (TBD).\n",
      "To avoid trouble, add a specific year to the input & format.\n",
      "See https://github.com/python/cpython/issues/70647.\n",
      "[NbConvertApp] Converting notebook execute_notebooks/2_contrast_level.ipynb to script\n",
      "[NbConvertApp] Writing 1282 bytes to execute_notebooks\\2_contrast_level.py\n"
     ]
    }
   ],
   "source": [
    "# !jupyter nbconvert --to script execute_notebooks/2_contrast_level.ipynb"
   ]
  },
  {
   "cell_type": "markdown",
   "id": "2f8288e8-75d0-4320-a21c-a9d35dba0262",
   "metadata": {},
   "source": [
    "Convert `execute_notebooks/3_mouse_analysis.ipynb` to python script"
   ]
  },
  {
   "cell_type": "code",
   "execution_count": 50,
   "id": "e9973cb8-0a5e-48a4-a89f-5a3accd3bf1e",
   "metadata": {},
   "outputs": [
    {
     "name": "stderr",
     "output_type": "stream",
     "text": [
      "C:\\Users\\atle_\\anaconda3\\envs\\notebook_driven_development_test\\Scripts\\jupyter-nbconvert.EXE\\__main__.py:4: DeprecationWarning: Parsing dates involving a day of month without a year specified is ambiguious\n",
      "and fails to parse leap day. The default behavior will change in Python 3.15\n",
      "to either always raise an exception or to use a different default year (TBD).\n",
      "To avoid trouble, add a specific year to the input & format.\n",
      "See https://github.com/python/cpython/issues/70647.\n",
      "[NbConvertApp] Converting notebook execute_notebooks/3_mouse_analysis.ipynb to script\n",
      "[NbConvertApp] Writing 745 bytes to execute_notebooks\\3_mouse_analysis.py\n"
     ]
    }
   ],
   "source": [
    "#!jupyter nbconvert --to script execute_notebooks/3_mouse_analysis.ipynb"
   ]
  },
  {
   "cell_type": "markdown",
   "id": "69fdce86-d1a1-41d4-ae84-d596379a886b",
   "metadata": {},
   "source": [
    "**Example** Convert `execute_notebooks/1_data_access.ipynb` to HTML and open in new browser to examine."
   ]
  },
  {
   "cell_type": "code",
   "execution_count": 51,
   "id": "aff153f1-46ae-4438-a88d-e50c7f83a7ab",
   "metadata": {},
   "outputs": [
    {
     "name": "stderr",
     "output_type": "stream",
     "text": [
      "C:\\Users\\atle_\\anaconda3\\envs\\notebook_driven_development_test\\Scripts\\jupyter-nbconvert.EXE\\__main__.py:4: DeprecationWarning: Parsing dates involving a day of month without a year specified is ambiguious\n",
      "and fails to parse leap day. The default behavior will change in Python 3.15\n",
      "to either always raise an exception or to use a different default year (TBD).\n",
      "To avoid trouble, add a specific year to the input & format.\n",
      "See https://github.com/python/cpython/issues/70647.\n",
      "[NbConvertApp] Converting notebook execute_notebooks/1_data_access.ipynb to html\n",
      "[NbConvertApp] Writing 285223 bytes to execute_notebooks\\1_data_access.html\n"
     ]
    }
   ],
   "source": [
    "# !jupyter nbconvert --to html execute_notebooks/1_data_access.ipynb"
   ]
  },
  {
   "cell_type": "markdown",
   "id": "a5bd8a96-7a2d-4e8e-ae30-7ead83d2b611",
   "metadata": {},
   "source": [
    "Convert `execute_notebooks/2_contrast_level.ipynb` to HTML and open in new browser to examine."
   ]
  },
  {
   "cell_type": "code",
   "execution_count": 52,
   "id": "5ac9e47c-7e89-4050-af63-7c552ae274e8",
   "metadata": {},
   "outputs": [
    {
     "name": "stderr",
     "output_type": "stream",
     "text": [
      "C:\\Users\\atle_\\anaconda3\\envs\\notebook_driven_development_test\\Scripts\\jupyter-nbconvert.EXE\\__main__.py:4: DeprecationWarning: Parsing dates involving a day of month without a year specified is ambiguious\n",
      "and fails to parse leap day. The default behavior will change in Python 3.15\n",
      "to either always raise an exception or to use a different default year (TBD).\n",
      "To avoid trouble, add a specific year to the input & format.\n",
      "See https://github.com/python/cpython/issues/70647.\n",
      "[NbConvertApp] Converting notebook execute_notebooks/2_contrast_level.ipynb to html\n",
      "C:\\Users\\atle_\\anaconda3\\envs\\notebook_driven_development_test\\share\\jupyter\\nbconvert\\templates\\base\\display_priority.j2:32: UserWarning: Your element with mimetype(s) dict_keys([]) is not able to be represented.\n",
      "  {%- elif type == 'text/vnd.mermaid' -%}\n",
      "[NbConvertApp] Writing 332406 bytes to execute_notebooks\\2_contrast_level.html\n"
     ]
    }
   ],
   "source": [
    "# !jupyter nbconvert --to html execute_notebooks/2_contrast_level.ipynb"
   ]
  },
  {
   "cell_type": "markdown",
   "id": "6d6dc0d9-3c60-4aba-bc53-36761082a1e0",
   "metadata": {},
   "source": [
    "Convert `execute_notebooks/3_mouse_analysis.ipynb` to HTML and open in new browser to examine."
   ]
  },
  {
   "cell_type": "code",
   "execution_count": 53,
   "id": "4647e3c1-f370-4ffa-8eea-6c691bfa402a",
   "metadata": {},
   "outputs": [
    {
     "name": "stderr",
     "output_type": "stream",
     "text": [
      "C:\\Users\\atle_\\anaconda3\\envs\\notebook_driven_development_test\\Scripts\\jupyter-nbconvert.EXE\\__main__.py:4: DeprecationWarning: Parsing dates involving a day of month without a year specified is ambiguious\n",
      "and fails to parse leap day. The default behavior will change in Python 3.15\n",
      "to either always raise an exception or to use a different default year (TBD).\n",
      "To avoid trouble, add a specific year to the input & format.\n",
      "See https://github.com/python/cpython/issues/70647.\n",
      "[NbConvertApp] Converting notebook execute_notebooks/3_mouse_analysis.ipynb to html\n",
      "C:\\Users\\atle_\\anaconda3\\envs\\notebook_driven_development_test\\share\\jupyter\\nbconvert\\templates\\base\\display_priority.j2:32: UserWarning: Your element with mimetype(s) dict_keys([]) is not able to be represented.\n",
      "  {%- elif type == 'text/vnd.mermaid' -%}\n",
      "[NbConvertApp] Writing 322378 bytes to execute_notebooks\\3_mouse_analysis.html\n"
     ]
    }
   ],
   "source": [
    "# !jupyter nbconvert --to html execute_notebooks/3_mouse_analysis.ipynb"
   ]
  },
  {
   "cell_type": "markdown",
   "id": "1f925b60-9ae2-4409-9c5b-99491eb078d2",
   "metadata": {},
   "source": [
    "**Example** Execute `1_data_access.ipynb` and convert output to HTML"
   ]
  },
  {
   "cell_type": "code",
   "execution_count": 54,
   "id": "ed4d51ac-3d06-4c90-b0fb-8d7c254c5631",
   "metadata": {},
   "outputs": [
    {
     "name": "stderr",
     "output_type": "stream",
     "text": [
      "C:\\Users\\atle_\\anaconda3\\envs\\notebook_driven_development_test\\Scripts\\papermill.exe\\__main__.py:4: DeprecationWarning: Parsing dates involving a day of month without a year specified is ambiguious\n",
      "and fails to parse leap day. The default behavior will change in Python 3.15\n",
      "to either always raise an exception or to use a different default year (TBD).\n",
      "To avoid trouble, add a specific year to the input & format.\n",
      "See https://github.com/python/cpython/issues/70647.\n",
      "Input Notebook:  execute_notebooks/1_data_access.ipynb\n",
      "Output Notebook: output_1.ipynb\n",
      "\n",
      "Executing:   0%|          | 0/12 [00:00<?, ?cell/s]Executing notebook with kernel: python3\n",
      "\n",
      "Executing:   8%|▊         | 1/12 [00:01<00:18,  1.64s/cell]\n",
      "Executing:  17%|█▋        | 2/12 [00:02<00:08,  1.12cell/s]\n",
      "Executing:  33%|███▎      | 4/12 [00:02<00:04,  1.85cell/s]\n",
      "Executing: 100%|██████████| 12/12 [00:02<00:00,  7.69cell/s]\n",
      "Executing: 100%|██████████| 12/12 [00:03<00:00,  3.96cell/s]\n",
      "C:\\Users\\atle_\\anaconda3\\envs\\notebook_driven_development_test\\Scripts\\jupyter-nbconvert.EXE\\__main__.py:4: DeprecationWarning: Parsing dates involving a day of month without a year specified is ambiguious\n",
      "and fails to parse leap day. The default behavior will change in Python 3.15\n",
      "to either always raise an exception or to use a different default year (TBD).\n",
      "To avoid trouble, add a specific year to the input & format.\n",
      "See https://github.com/python/cpython/issues/70647.\n",
      "[NbConvertApp] Converting notebook output_1.ipynb to html\n",
      "[NbConvertApp] Writing 285218 bytes to output_1.html\n"
     ]
    }
   ],
   "source": [
    "# !papermill execute_notebooks/1_data_access.ipynb output_1.ipynb\n",
    "# !jupyter nbconvert --to html output_1.ipynb"
   ]
  },
  {
   "cell_type": "markdown",
   "id": "84a032a8-ca16-417a-a502-b2466befbe99",
   "metadata": {},
   "source": [
    "Execute `2_contrast_levels.ipynb` and convert output to HTML"
   ]
  },
  {
   "cell_type": "code",
   "execution_count": 55,
   "id": "3c536fcd-8365-4805-be06-1d0125e4e86b",
   "metadata": {},
   "outputs": [
    {
     "name": "stderr",
     "output_type": "stream",
     "text": [
      "C:\\Users\\atle_\\anaconda3\\envs\\notebook_driven_development_test\\Scripts\\papermill.exe\\__main__.py:4: DeprecationWarning: Parsing dates involving a day of month without a year specified is ambiguious\n",
      "and fails to parse leap day. The default behavior will change in Python 3.15\n",
      "to either always raise an exception or to use a different default year (TBD).\n",
      "To avoid trouble, add a specific year to the input & format.\n",
      "See https://github.com/python/cpython/issues/70647.\n",
      "Input Notebook:  execute_notebooks/2_contrast_level.ipynb\n",
      "Output Notebook: output_2.ipynb\n",
      "\n",
      "Executing:   0%|          | 0/18 [00:00<?, ?cell/s]Executing notebook with kernel: python3\n",
      "\n",
      "Executing:   6%|▌         | 1/18 [00:01<00:28,  1.69s/cell]\n",
      "Executing:  11%|█         | 2/18 [00:04<00:37,  2.32s/cell]\n",
      "Executing:  56%|█████▌    | 10/18 [00:04<00:02,  3.21cell/s]\n",
      "Executing: 100%|██████████| 18/18 [00:04<00:00,  6.63cell/s]\n",
      "Executing: 100%|██████████| 18/18 [00:05<00:00,  3.27cell/s]\n",
      "C:\\Users\\atle_\\anaconda3\\envs\\notebook_driven_development_test\\Scripts\\jupyter-nbconvert.EXE\\__main__.py:4: DeprecationWarning: Parsing dates involving a day of month without a year specified is ambiguious\n",
      "and fails to parse leap day. The default behavior will change in Python 3.15\n",
      "to either always raise an exception or to use a different default year (TBD).\n",
      "To avoid trouble, add a specific year to the input & format.\n",
      "See https://github.com/python/cpython/issues/70647.\n",
      "[NbConvertApp] Converting notebook output_2.ipynb to html\n",
      "C:\\Users\\atle_\\anaconda3\\envs\\notebook_driven_development_test\\share\\jupyter\\nbconvert\\templates\\base\\display_priority.j2:32: UserWarning: Your element with mimetype(s) dict_keys([]) is not able to be represented.\n",
      "  {%- elif type == 'text/vnd.mermaid' -%}\n",
      "[NbConvertApp] Writing 332398 bytes to output_2.html\n"
     ]
    }
   ],
   "source": [
    "# !papermill execute_notebooks/2_contrast_level.ipynb output_2.ipynb\n",
    "# !jupyter nbconvert --to html output_2.ipynb"
   ]
  },
  {
   "cell_type": "markdown",
   "id": "9150853b-6ea4-4437-8012-b50502b2d01b",
   "metadata": {},
   "source": [
    "Execute `3_mouse_analysis.ipynb` and convert output to HTML"
   ]
  },
  {
   "cell_type": "code",
   "execution_count": 56,
   "id": "ef181478-ae42-486e-bcb6-d022e6a648f2",
   "metadata": {},
   "outputs": [
    {
     "name": "stderr",
     "output_type": "stream",
     "text": [
      "C:\\Users\\atle_\\anaconda3\\envs\\notebook_driven_development_test\\Scripts\\papermill.exe\\__main__.py:4: DeprecationWarning: Parsing dates involving a day of month without a year specified is ambiguious\n",
      "and fails to parse leap day. The default behavior will change in Python 3.15\n",
      "to either always raise an exception or to use a different default year (TBD).\n",
      "To avoid trouble, add a specific year to the input & format.\n",
      "See https://github.com/python/cpython/issues/70647.\n",
      "Input Notebook:  execute_notebooks/3_mouse_analysis.ipynb\n",
      "Output Notebook: output_3.ipynb\n",
      "\n",
      "Executing:   0%|          | 0/12 [00:00<?, ?cell/s]Executing notebook with kernel: python3\n",
      "\n",
      "Executing:   8%|▊         | 1/12 [00:01<00:18,  1.68s/cell]\n",
      "Executing:  17%|█▋        | 2/12 [00:04<00:24,  2.47s/cell]\n",
      "Executing:  75%|███████▌  | 9/12 [00:04<00:01,  2.69cell/s]\n",
      "Executing: 100%|██████████| 12/12 [00:04<00:00,  3.87cell/s]\n",
      "Executing: 100%|██████████| 12/12 [00:05<00:00,  2.14cell/s]\n",
      "C:\\Users\\atle_\\anaconda3\\envs\\notebook_driven_development_test\\Scripts\\jupyter-nbconvert.EXE\\__main__.py:4: DeprecationWarning: Parsing dates involving a day of month without a year specified is ambiguious\n",
      "and fails to parse leap day. The default behavior will change in Python 3.15\n",
      "to either always raise an exception or to use a different default year (TBD).\n",
      "To avoid trouble, add a specific year to the input & format.\n",
      "See https://github.com/python/cpython/issues/70647.\n",
      "[NbConvertApp] Converting notebook output_3.ipynb to html\n",
      "C:\\Users\\atle_\\anaconda3\\envs\\notebook_driven_development_test\\share\\jupyter\\nbconvert\\templates\\base\\display_priority.j2:32: UserWarning: Your element with mimetype(s) dict_keys([]) is not able to be represented.\n",
      "  {%- elif type == 'text/vnd.mermaid' -%}\n",
      "[NbConvertApp] Writing 322370 bytes to output_3.html\n"
     ]
    }
   ],
   "source": [
    "#!papermill execute_notebooks/3_mouse_analysis.ipynb output_3.ipynb\n",
    "#!jupyter nbconvert --to html output_3.ipynb"
   ]
  }
 ],
 "metadata": {
  "kernelspec": {
   "display_name": "notebook_driven_development_test",
   "language": "python",
   "name": "python3"
  },
  "language_info": {
   "codemirror_mode": {
    "name": "ipython",
    "version": 3
   },
   "file_extension": ".py",
   "mimetype": "text/x-python",
   "name": "python",
   "nbconvert_exporter": "python",
   "pygments_lexer": "ipython3",
   "version": "3.13.0"
  }
 },
 "nbformat": 4,
 "nbformat_minor": 5
}
