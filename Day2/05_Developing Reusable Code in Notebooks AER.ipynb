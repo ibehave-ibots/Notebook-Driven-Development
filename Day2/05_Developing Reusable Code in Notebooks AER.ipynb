{
 "cells": [
  {
   "cell_type": "code",
   "execution_count": 1,
   "id": "d044e165-28e5-4fce-8074-f72437fa4c14",
   "metadata": {},
   "outputs": [
    {
     "name": "stdout",
     "output_type": "stream",
     "text": [
      "Collecting import-ipynb\n",
      "  Downloading import_ipynb-0.2-py3-none-any.whl.metadata (2.3 kB)\n",
      "Requirement already satisfied: pickleshare in c:\\users\\atle_\\anaconda3\\envs\\notebook_driven_development_test\\lib\\site-packages (0.7.5)\n",
      "Requirement already satisfied: IPython in c:\\users\\atle_\\anaconda3\\envs\\notebook_driven_development_test\\lib\\site-packages (from import-ipynb) (8.28.0)\n",
      "Collecting nbformat (from import-ipynb)\n",
      "  Using cached nbformat-5.10.4-py3-none-any.whl.metadata (3.6 kB)\n",
      "Requirement already satisfied: decorator in c:\\users\\atle_\\anaconda3\\envs\\notebook_driven_development_test\\lib\\site-packages (from IPython->import-ipynb) (5.1.1)\n",
      "Requirement already satisfied: jedi>=0.16 in c:\\users\\atle_\\anaconda3\\envs\\notebook_driven_development_test\\lib\\site-packages (from IPython->import-ipynb) (0.19.1)\n",
      "Requirement already satisfied: matplotlib-inline in c:\\users\\atle_\\anaconda3\\envs\\notebook_driven_development_test\\lib\\site-packages (from IPython->import-ipynb) (0.1.7)\n",
      "Requirement already satisfied: prompt-toolkit<3.1.0,>=3.0.41 in c:\\users\\atle_\\anaconda3\\envs\\notebook_driven_development_test\\lib\\site-packages (from IPython->import-ipynb) (3.0.48)\n",
      "Requirement already satisfied: pygments>=2.4.0 in c:\\users\\atle_\\anaconda3\\envs\\notebook_driven_development_test\\lib\\site-packages (from IPython->import-ipynb) (2.18.0)\n",
      "Requirement already satisfied: stack-data in c:\\users\\atle_\\anaconda3\\envs\\notebook_driven_development_test\\lib\\site-packages (from IPython->import-ipynb) (0.6.2)\n",
      "Requirement already satisfied: traitlets>=5.13.0 in c:\\users\\atle_\\anaconda3\\envs\\notebook_driven_development_test\\lib\\site-packages (from IPython->import-ipynb) (5.14.3)\n",
      "Requirement already satisfied: colorama in c:\\users\\atle_\\anaconda3\\envs\\notebook_driven_development_test\\lib\\site-packages (from IPython->import-ipynb) (0.4.6)\n",
      "Collecting fastjsonschema>=2.15 (from nbformat->import-ipynb)\n",
      "  Using cached fastjsonschema-2.20.0-py3-none-any.whl.metadata (2.1 kB)\n",
      "Collecting jsonschema>=2.6 (from nbformat->import-ipynb)\n",
      "  Using cached jsonschema-4.23.0-py3-none-any.whl.metadata (7.9 kB)\n",
      "Requirement already satisfied: jupyter-core!=5.0.*,>=4.12 in c:\\users\\atle_\\anaconda3\\envs\\notebook_driven_development_test\\lib\\site-packages (from nbformat->import-ipynb) (5.7.2)\n",
      "Requirement already satisfied: parso<0.9.0,>=0.8.3 in c:\\users\\atle_\\anaconda3\\envs\\notebook_driven_development_test\\lib\\site-packages (from jedi>=0.16->IPython->import-ipynb) (0.8.4)\n",
      "Collecting attrs>=22.2.0 (from jsonschema>=2.6->nbformat->import-ipynb)\n",
      "  Using cached attrs-24.2.0-py3-none-any.whl.metadata (11 kB)\n",
      "Collecting jsonschema-specifications>=2023.03.6 (from jsonschema>=2.6->nbformat->import-ipynb)\n",
      "  Downloading jsonschema_specifications-2024.10.1-py3-none-any.whl.metadata (3.0 kB)\n",
      "Collecting referencing>=0.28.4 (from jsonschema>=2.6->nbformat->import-ipynb)\n",
      "  Using cached referencing-0.35.1-py3-none-any.whl.metadata (2.8 kB)\n",
      "Collecting rpds-py>=0.7.1 (from jsonschema>=2.6->nbformat->import-ipynb)\n",
      "  Downloading rpds_py-0.20.0-cp313-none-win_amd64.whl.metadata (4.2 kB)\n",
      "Requirement already satisfied: platformdirs>=2.5 in c:\\users\\atle_\\anaconda3\\envs\\notebook_driven_development_test\\lib\\site-packages (from jupyter-core!=5.0.*,>=4.12->nbformat->import-ipynb) (4.3.6)\n",
      "Requirement already satisfied: pywin32>=300 in c:\\users\\atle_\\anaconda3\\envs\\notebook_driven_development_test\\lib\\site-packages (from jupyter-core!=5.0.*,>=4.12->nbformat->import-ipynb) (307)\n",
      "Requirement already satisfied: wcwidth in c:\\users\\atle_\\anaconda3\\envs\\notebook_driven_development_test\\lib\\site-packages (from prompt-toolkit<3.1.0,>=3.0.41->IPython->import-ipynb) (0.2.13)\n",
      "Requirement already satisfied: executing>=1.2.0 in c:\\users\\atle_\\anaconda3\\envs\\notebook_driven_development_test\\lib\\site-packages (from stack-data->IPython->import-ipynb) (2.1.0)\n",
      "Requirement already satisfied: asttokens>=2.1.0 in c:\\users\\atle_\\anaconda3\\envs\\notebook_driven_development_test\\lib\\site-packages (from stack-data->IPython->import-ipynb) (2.4.1)\n",
      "Requirement already satisfied: pure-eval in c:\\users\\atle_\\anaconda3\\envs\\notebook_driven_development_test\\lib\\site-packages (from stack-data->IPython->import-ipynb) (0.2.3)\n",
      "Requirement already satisfied: six>=1.12.0 in c:\\users\\atle_\\anaconda3\\envs\\notebook_driven_development_test\\lib\\site-packages (from asttokens>=2.1.0->stack-data->IPython->import-ipynb) (1.16.0)\n",
      "Downloading import_ipynb-0.2-py3-none-any.whl (4.0 kB)\n",
      "Using cached nbformat-5.10.4-py3-none-any.whl (78 kB)\n",
      "Using cached fastjsonschema-2.20.0-py3-none-any.whl (23 kB)\n",
      "Using cached jsonschema-4.23.0-py3-none-any.whl (88 kB)\n",
      "Using cached attrs-24.2.0-py3-none-any.whl (63 kB)\n",
      "Downloading jsonschema_specifications-2024.10.1-py3-none-any.whl (18 kB)\n",
      "Using cached referencing-0.35.1-py3-none-any.whl (26 kB)\n",
      "Downloading rpds_py-0.20.0-cp313-none-win_amd64.whl (214 kB)\n",
      "Installing collected packages: fastjsonschema, rpds-py, attrs, referencing, jsonschema-specifications, jsonschema, nbformat, import-ipynb\n",
      "Successfully installed attrs-24.2.0 fastjsonschema-2.20.0 import-ipynb-0.2 jsonschema-4.23.0 jsonschema-specifications-2024.10.1 nbformat-5.10.4 referencing-0.35.1 rpds-py-0.20.0\n"
     ]
    }
   ],
   "source": [
    "!pip install import-ipynb pickleshare"
   ]
  },
  {
   "cell_type": "markdown",
   "id": "87f0a5f2-8fc6-4f45-b083-9be35de4e12a",
   "metadata": {},
   "source": [
    "# Developing Reusable Code in Jupyter Notebooks\n",
    "\n",
    "In research projects, the analytical process often involves multiple, interconnected steps, such as data cleaning, model building, and visualization, where each step depends on the previous one. Managing these dependencies efficiently is crucial for maintaining organized and reproducible research. To streamline such workflows, developing reusable code in Jupyter notebooks is essential. By breaking down complex processes into reusable components—such as functions, configuration settings, or entire notebooks—researchers can ensure consistency, reduce redundancy, and focus on the analysis itself rather than rewriting code for each step. In this notebook, we will explore key techniques for developing reusable code, including the use of magic commands to manage notebook execution, running and sequencing notebooks from one another, and importing code from one notebook to another to treat them like modular scripts. \n",
    "\n",
    "We start by looking at magic commands to manage notebooks, how to use notebook's interactive nature to build functions, how to sequence of notebooks from another notebook, how to import contents of notebook like it was a script. "
   ]
  },
  {
   "cell_type": "code",
   "execution_count": 2,
   "id": "f3bfec62-c416-4b37-a473-278428533048",
   "metadata": {},
   "outputs": [
    {
     "name": "stderr",
     "output_type": "stream",
     "text": [
      "Downloading magic_commands/text_config.txt: 100%|██████████| 79.0/79.0 [00:00<00:00, 137kB/s]\n",
      "Downloading magic_commands/python_config.py: 100%|██████████| 80.0/80.0 [00:00<00:00, 52.5kB/s]\n",
      "Downloading magic_commands/notebook_config.ipynb: 100%|██████████| 2.41k/2.41k [00:00<00:00, 247kB/s]\n"
     ]
    }
   ],
   "source": [
    "import sys\n",
    "sys.path.append('src')\n",
    "import sciebo\n",
    "\n",
    "sciebo.download_file('https://uni-bonn.sciebo.de/s/yDiGZT44SXLvK5r', 'magic_commands/text_config.txt')\n",
    "sciebo.download_file('https://uni-bonn.sciebo.de/s/apw9RMXjgfhQaK5', 'magic_commands/python_config.py')\n",
    "sciebo.download_file('https://uni-bonn.sciebo.de/s/lwVMGbzKQXFuIax', 'magic_commands/notebook_config.ipynb')"
   ]
  },
  {
   "cell_type": "markdown",
   "id": "b3b71ec8-2e2d-4926-acd8-e56f087e5a6c",
   "metadata": {},
   "source": [
    "\n",
    "## Line Magic Commands\n",
    "\n",
    "Magic commands in Jupyter notebooks are special commands that provide a convenient way to perform certain tasks and control the behavior of the Jupyter environment. They start with a %. These commands are designed to facilitate tasks such as running scripts, timing execution, and integrating with other environments or languages.\n",
    "\n",
    "When we are developing an code as researchers, we are mainly concerned with how long an analysis runs and how to store and load results. In this section, let's focus on some of Jupyter magic commands that let's us do just that.\n",
    "\n",
    "**Example** Measure how long it takes to sum numbers from 1 to 100"
   ]
  },
  {
   "cell_type": "code",
   "execution_count": 1,
   "id": "01eaa0d4-a6e4-427d-8275-8b9145a543cb",
   "metadata": {},
   "outputs": [
    {
     "name": "stdout",
     "output_type": "stream",
     "text": [
      "391 ns ± 7.09 ns per loop (mean ± std. dev. of 7 runs, 1,000,000 loops each)\n"
     ]
    }
   ],
   "source": [
    "%timeit sum(range(100))"
   ]
  },
  {
   "cell_type": "markdown",
   "id": "542b520b-3ec2-42f1-b864-a323cab23946",
   "metadata": {},
   "source": [
    "You might be surprised that it took longer  <font color='red'>than [\"than\" should probably be removed, right?]</font> to just run the code. That is because `%timeit` runs the line of code multiple times with a lot of iterations in each run to get a reliable estimation of the execution time. The output you see here will look something like this\n",
    "\n",
    "`651 ns ± 11.4 ns per loop (mean ± std. dev. of 7 runs, 1,000,000 loops each)`\n",
    "\n",
    "Here's what it means:\n",
    "\n",
    "| **Number/Value**      | **Explanation**                                                                                                                                   |\n",
    "|-----------------------|---------------------------------------------------------------------------------------------------------------------------------------------------|\n",
    "| `651 ns`              | The mean (average) execution time of the code per loop. The unit here is nanoseconds (ns), meaning it took an average of 651 nanoseconds per loop. |\n",
    "| `± 11.4 ns`           | The standard deviation of the execution time. It indicates the variability in the execution time across different runs. In this case, it varies by 11.4 nanoseconds. |\n",
    "| `7 runs`              | The number of times `%timeit` ran the test. In this case, the test was executed 7 times to gather the statistics for the mean and standard deviation. |\n",
    "| `1,000,000 loops each`| The number of iterations (loops) that were executed per run. Here, the code was repeated 1,000,000 times in each of the 7 runs to get a more accurate timing. |\n",
    "\n",
    "\n",
    "Measure how long it takes to sum numbers from 1 to 1000"
   ]
  },
  {
   "cell_type": "code",
   "execution_count": 2,
   "id": "34dfd657-20f2-4a09-a9d9-52c86bc13561",
   "metadata": {},
   "outputs": [
    {
     "name": "stdout",
     "output_type": "stream",
     "text": [
      "8.36 μs ± 78.2 ns per loop (mean ± std. dev. of 7 runs, 100,000 loops each)\n"
     ]
    }
   ],
   "source": [
    "%timeit sum(range(1000))"
   ]
  },
  {
   "cell_type": "markdown",
   "id": "8ac29c35-e300-43d8-b0fe-7d71f0d54239",
   "metadata": {},
   "source": [
    "Measure how long it takes to sum numbers from 1 to 100000"
   ]
  },
  {
   "cell_type": "code",
   "execution_count": 3,
   "id": "458a673a-f096-4b90-9e8a-c7edbe0907ad",
   "metadata": {},
   "outputs": [
    {
     "name": "stdout",
     "output_type": "stream",
     "text": [
      "1.05 ms ± 15.1 μs per loop (mean ± std. dev. of 7 runs, 1,000 loops each)\n"
     ]
    }
   ],
   "source": [
    "%timeit sum(range(100000))"
   ]
  },
  {
   "cell_type": "markdown",
   "id": "a20ccda6-7ed4-435e-8c2d-c7bde73a51be",
   "metadata": {},
   "source": [
    "Do you notice that number of loops reduced as the code took longer to execute? \n",
    "This is because `%timeit` automatically adjusts the number of loops to ensure an accurate measurement based on the how quickly the code being tested runs. \n",
    "\n",
    "**Example** Measure how long it takes to sum numbers from 1 to 100 with 1000 loops per iteration"
   ]
  },
  {
   "cell_type": "code",
   "execution_count": 4,
   "id": "4ac38366-cfce-4166-8c09-daf98462a6cf",
   "metadata": {},
   "outputs": [
    {
     "name": "stdout",
     "output_type": "stream",
     "text": [
      "383 ns ± 17.7 ns per loop (mean ± std. dev. of 7 runs, 1,000 loops each)\n"
     ]
    }
   ],
   "source": [
    "%timeit -n 1000 sum(range(100))"
   ]
  },
  {
   "cell_type": "markdown",
   "id": "2b18b5be-6776-44a6-9c76-16f07bf17468",
   "metadata": {},
   "source": [
    "Measure how long it takes to sum numbers from 1 to 100 with 10000 loops per iteration"
   ]
  },
  {
   "cell_type": "code",
   "execution_count": 5,
   "id": "c792ed4e-2133-4740-9e38-f01882076f83",
   "metadata": {},
   "outputs": [
    {
     "name": "stdout",
     "output_type": "stream",
     "text": [
      "395 ns ± 24.4 ns per loop (mean ± std. dev. of 7 runs, 10,000 loops each)\n"
     ]
    }
   ],
   "source": [
    "%timeit -n 10000 sum(range(100))"
   ]
  },
  {
   "cell_type": "markdown",
   "id": "c777c64e-88d9-4e07-b268-37146a5fa7c9",
   "metadata": {},
   "source": [
    "Measure how long it takes to sum numbers from 1 to 100 with 5 iterations.\n",
    "\n",
    "Hint: Use -r to set number of iterations"
   ]
  },
  {
   "cell_type": "code",
   "execution_count": 6,
   "id": "4e38d836-8510-48b6-85b0-fedb784e1cc9",
   "metadata": {},
   "outputs": [
    {
     "name": "stdout",
     "output_type": "stream",
     "text": [
      "399 ns ± 7.37 ns per loop (mean ± std. dev. of 5 runs, 1,000,000 loops each)\n"
     ]
    }
   ],
   "source": [
    "%timeit -r 5 sum(range(100))"
   ]
  },
  {
   "cell_type": "markdown",
   "id": "80ee96c0-5c90-4b4e-9fa6-e815811522ee",
   "metadata": {},
   "source": [
    "Measure how long it takes to sum numbers from 1 to 100 with 5 iterations and 1000 loops per iteration"
   ]
  },
  {
   "cell_type": "code",
   "execution_count": 7,
   "id": "d6fa68ec-58db-48f6-9758-4413f00dcffe",
   "metadata": {},
   "outputs": [
    {
     "name": "stdout",
     "output_type": "stream",
     "text": [
      "458 ns ± 27.7 ns per loop (mean ± std. dev. of 5 runs, 1,000 loops each)\n"
     ]
    }
   ],
   "source": [
    "%timeit -r 5 -n 1000 sum(range(100))"
   ]
  },
  {
   "cell_type": "markdown",
   "id": "db3bcc99-407d-458f-a644-fcd41f0bc7eb",
   "metadata": {},
   "source": [
    "In the below exercises, let's practice loading contents of another file. \n",
    "\n",
    "**Example** Load contents of `magic_commands/text_config` file"
   ]
  },
  {
   "cell_type": "code",
   "execution_count": 12,
   "id": "089d3750-9a1f-4985-9dca-9bcdeef0e00f",
   "metadata": {},
   "outputs": [],
   "source": [
    "# %load magic_commands/text_config.txt\n",
    "num_exp=10 # number of experiments\n",
    "scientist=\"John Doe\" # name of the scientist"
   ]
  },
  {
   "cell_type": "markdown",
   "id": "a8e9c632-8527-4ba1-9d7b-627791e1c676",
   "metadata": {},
   "source": [
    "As soon as you execute the cell with %load, the following happens\n",
    "\n",
    "1. %load command itself is turned into a comment\n",
    "2. Below the comment, the contents of the file gets loaded\n",
    "3. You can edit it and then execute the line\n",
    "\n",
    "Load contents of `magic_commands/python_config` file"
   ]
  },
  {
   "cell_type": "code",
   "execution_count": 13,
   "id": "5c825eb2-60fe-4c7f-869f-ed5aa58160cc",
   "metadata": {},
   "outputs": [],
   "source": [
    "# %load magic_commands/python_config.py\n",
    "num_exp=10 # number of experiments\n",
    "scientist=\"John Doe\" # name of the scientist\n"
   ]
  },
  {
   "cell_type": "markdown",
   "id": "331585fd-98e3-402e-b46b-1e136170dddb",
   "metadata": {},
   "source": [
    "It can also work with other notebooks. It loads the whole notebook.\n",
    "\n",
    "Load contents of `magic_commands/notebook_config.ipynb`"
   ]
  },
  {
   "cell_type": "code",
   "execution_count": 14,
   "id": "51d8f68a-e82f-4563-82dc-70a9d7ac9f3c",
   "metadata": {},
   "outputs": [],
   "source": [
    "# %load magic_commands/notebook_config.ipynb\n",
    "{\n",
    " \"cells\": [\n",
    "  {\n",
    "   \"cell_type\": \"markdown\",\n",
    "   \"id\": \"4241faf6-feb5-404f-a227-369aa7057d93\",\n",
    "   \"metadata\": {},\n",
    "   \"source\": [\n",
    "    \"These values were changed on 2024-10-11\\n\",\n",
    "    \"\\n\",\n",
    "    \"Parameter `num_exp` describes how many experiments were conducted.\"\n",
    "   ]\n",
    "  },\n",
    "  {\n",
    "   \"cell_type\": \"code\",\n",
    "   \"execution_count\": 3,\n",
    "   \"id\": \"c20776fc-d2bf-4e4c-933d-6a0816dc0492\",\n",
    "   \"metadata\": {},\n",
    "   \"outputs\": [],\n",
    "   \"source\": [\n",
    "    \"num_exp = 10\"\n",
    "   ]\n",
    "  },\n",
    "  {\n",
    "   \"cell_type\": \"markdown\",\n",
    "   \"id\": \"41be7a78-31b2-47de-8fc4-22fd6867e29c\",\n",
    "   \"metadata\": {},\n",
    "   \"source\": [\n",
    "    \"Parameter `scientist` is the name of the person who conducted the series of experiments\"\n",
    "   ]\n",
    "  },\n",
    "  {\n",
    "   \"cell_type\": \"code\",\n",
    "   \"execution_count\": 4,\n",
    "   \"id\": \"cb3b0e40-77ad-4911-8671-ee719c2da1cf\",\n",
    "   \"metadata\": {},\n",
    "   \"outputs\": [],\n",
    "   \"source\": [\n",
    "    \"scientist = \\\"John Doe\\\"\"\n",
    "   ]\n",
    "  },\n",
    "  {\n",
    "   \"cell_type\": \"markdown\",\n",
    "   \"id\": \"68409304-8485-4c5b-9cc3-6db1e8066aab\",\n",
    "   \"metadata\": {},\n",
    "   \"source\": [\n",
    "    \"We have 100 mice in our lab\"\n",
    "   ]\n",
    "  },\n",
    "  {\n",
    "   \"cell_type\": \"code\",\n",
    "   \"execution_count\": 6,\n",
    "   \"id\": \"fbefbc56-c0d4-4f83-ae2b-bd63758233af\",\n",
    "   \"metadata\": {},\n",
    "   \"outputs\": [],\n",
    "   \"source\": [\n",
    "    \"num_mice = 100\"\n",
    "   ]\n",
    "  },\n",
    "  {\n",
    "   \"cell_type\": \"markdown\",\n",
    "   \"id\": \"6c52afae-eba1-47cd-9a34-541bd4624c4d\",\n",
    "   \"metadata\": {},\n",
    "   \"source\": [\n",
    "    \"Our lab is called \\\"Genius Lab\\\" because we have amazing experiments\"\n",
    "   ]\n",
    "  },\n",
    "  {\n",
    "   \"cell_type\": \"code\",\n",
    "   \"execution_count\": 7,\n",
    "   \"id\": \"95dfa39e-1dc2-4767-8f71-b2cfa570f606\",\n",
    "   \"metadata\": {},\n",
    "   \"outputs\": [],\n",
    "   \"source\": [\n",
    "    \"lab_name = \\\"Genius lab\\\"\"\n",
    "   ]\n",
    "  },\n",
    "  {\n",
    "   \"cell_type\": \"markdown\",\n",
    "   \"id\": \"0adba006-69e6-4d69-8256-af48653a6cdc\",\n",
    "   \"metadata\": {},\n",
    "   \"source\": [\n",
    "    \"---\\n\",\n",
    "    \"\\n\",\n",
    "    \"Our experimental setup is like this\\n\",\n",
    "    \"\\n\"\n",
    "   ]\n",
    "  },\n",
    "  {\n",
    "   \"cell_type\": \"code\",\n",
    "   \"execution_count\": null,\n",
    "   \"id\": \"9003a395-ec77-40da-a156-eb80d6b959f8\",\n",
    "   \"metadata\": {},\n",
    "   \"outputs\": [],\n",
    "   \"source\": []\n",
    "  }\n",
    " ],\n",
    " \"metadata\": {\n",
    "  \"kernelspec\": {\n",
    "   \"display_name\": \"Python 3 (ipykernel)\",\n",
    "   \"language\": \"python\",\n",
    "   \"name\": \"python3\"\n",
    "  },\n",
    "  \"language_info\": {\n",
    "   \"codemirror_mode\": {\n",
    "    \"name\": \"ipython\",\n",
    "    \"version\": 3\n",
    "   },\n",
    "   \"file_extension\": \".py\",\n",
    "   \"mimetype\": \"text/x-python\",\n",
    "   \"name\": \"python\",\n",
    "   \"nbconvert_exporter\": \"python\",\n",
    "   \"pygments_lexer\": \"ipython3\",\n",
    "   \"version\": \"3.12.7\"\n",
    "  }\n",
    " },\n",
    " \"nbformat\": 4,\n",
    " \"nbformat_minor\": 5\n",
    "}\n"
   ]
  },
  {
   "cell_type": "markdown",
   "id": "b9280c04-f8d6-41f2-907f-fa60ae24665f",
   "metadata": {},
   "source": [
    "**Example** Store \"Mice Visual Cortex Analysis\" as `project_name` so any notebook can access it"
   ]
  },
  {
   "cell_type": "code",
   "execution_count": 15,
   "id": "88d18f91-6499-4c89-aa86-c3e66c8cd6b1",
   "metadata": {},
   "outputs": [
    {
     "name": "stdout",
     "output_type": "stream",
     "text": [
      "Stored 'project_name' (str)\n"
     ]
    }
   ],
   "source": [
    "project_name = 'Mice Visual Cortex Analysis'\n",
    "%store project_name"
   ]
  },
  {
   "cell_type": "markdown",
   "id": "6cba6d12-b74b-45c2-b2b3-c0cac4d8dd36",
   "metadata": {},
   "source": [
    "Now this variable is stored on the disk in ~/.ipython. \n",
    "It will be available to all jupyter notebooks as long as the notebooks are run in same environment\n",
    "\n",
    "Store 123456 as `project_id` so any notebook can access it"
   ]
  },
  {
   "cell_type": "code",
   "execution_count": 16,
   "id": "2f00700e-2e65-414f-a4fb-c451301c39d6",
   "metadata": {},
   "outputs": [
    {
     "name": "stdout",
     "output_type": "stream",
     "text": [
      "Stored 'project_id' (int)\n"
     ]
    }
   ],
   "source": [
    "project_id = 123456\n",
    "%store project_id"
   ]
  },
  {
   "cell_type": "markdown",
   "id": "61a987ec-02a3-4ef1-ad22-4b82153dfc9b",
   "metadata": {},
   "source": [
    "Store \"Genius Lab\" as `lab_name` so any notebook can access it."
   ]
  },
  {
   "cell_type": "code",
   "execution_count": 19,
   "id": "5e51f4bd-f94b-483b-864b-db573405420c",
   "metadata": {},
   "outputs": [
    {
     "name": "stdout",
     "output_type": "stream",
     "text": [
      "Stored 'lab_name' (str)\n"
     ]
    }
   ],
   "source": [
    "lab_name = \"Genius lab\"\n",
    "%store lab_name"
   ]
  },
  {
   "cell_type": "markdown",
   "id": "ee96d98b-f054-470e-91a0-ead51523cc49",
   "metadata": {},
   "source": [
    "**Example** In another notebook, retrieve `project_name`"
   ]
  },
  {
   "cell_type": "code",
   "execution_count": 17,
   "id": "583314ce-4ac7-4517-ac76-a5c01b88bfc1",
   "metadata": {},
   "outputs": [
    {
     "data": {
      "text/plain": [
       "123456"
      ]
     },
     "execution_count": 17,
     "metadata": {},
     "output_type": "execute_result"
    }
   ],
   "source": [
    "%store -r project_id\n",
    "project_id"
   ]
  },
  {
   "cell_type": "markdown",
   "id": "c787d29e-39fa-40a2-82d8-8662f9e1c68c",
   "metadata": {},
   "source": [
    "In another notebook, retrieve `lab_name`"
   ]
  },
  {
   "cell_type": "code",
   "execution_count": 20,
   "id": "34580240-a672-4192-b1bb-d9ceb4f37a8a",
   "metadata": {},
   "outputs": [
    {
     "data": {
      "text/plain": [
       "'Genius lab'"
      ]
     },
     "execution_count": 20,
     "metadata": {},
     "output_type": "execute_result"
    }
   ],
   "source": [
    "%store -r lab_name\n",
    "lab_name"
   ]
  },
  {
   "cell_type": "markdown",
   "id": "7f41f744-b7f2-4cda-b5b3-85aa426577a8",
   "metadata": {},
   "source": [
    "In another notebook, retrieve `project_id`"
   ]
  },
  {
   "cell_type": "code",
   "execution_count": 21,
   "id": "593acb83-6fb4-462f-8b81-7f91c38fdcb3",
   "metadata": {},
   "outputs": [
    {
     "data": {
      "text/plain": [
       "123456"
      ]
     },
     "execution_count": 21,
     "metadata": {},
     "output_type": "execute_result"
    }
   ],
   "source": [
    "%store -r project_id\n",
    "project_id"
   ]
  },
  {
   "cell_type": "markdown",
   "id": "81661973-3ead-4c35-a967-c57446ce6044",
   "metadata": {},
   "source": [
    "## Cell Magic Commands\n",
    "\n",
    "Line magic commands run only on one line of code. \n",
    "However, when we are dealing with writing contents of a cell to a file, or timing a whole block of code, Jupyter provides Cell Magic Commands that start with `%%` which runs on <font color='red'>[\"a\" or \"the\" here, right?]</font>whole cell.\n",
    "\n",
    "Let's look into some cell magic commands that run on <font color='red'>[\"an\" or \"the\" here, right?]</font> entire cell.\n",
    "\n",
    "**Example** Measure how long it takes to sum numbers upto 1000 with loop. "
   ]
  },
  {
   "cell_type": "code",
   "execution_count": 24,
   "id": "f6a37da2-ce1c-4df9-aaaa-d49635648938",
   "metadata": {},
   "outputs": [
    {
     "name": "stdout",
     "output_type": "stream",
     "text": [
      "CPU times: total: 0 ns\n",
      "Wall time: 76.1 μs\n"
     ]
    }
   ],
   "source": [
    "%%time\n",
    "result = 0\n",
    "for i in range(1000):\n",
    "    result += i"
   ]
  },
  {
   "cell_type": "markdown",
   "id": "440e448d-68bc-4f19-b534-657b66598425",
   "metadata": {},
   "source": [
    "Measure how long it takes to sum numbers upto 10000000 with loop."
   ]
  },
  {
   "cell_type": "code",
   "execution_count": 25,
   "id": "cd1b1db8-ad6c-40d1-8947-047c29db5078",
   "metadata": {},
   "outputs": [
    {
     "name": "stdout",
     "output_type": "stream",
     "text": [
      "CPU times: total: 375 ms\n",
      "Wall time: 884 ms\n"
     ]
    }
   ],
   "source": [
    "%%time\n",
    "result = 0\n",
    "for i in range(10000000):\n",
    "    result += i"
   ]
  },
  {
   "cell_type": "markdown",
   "id": "1255ec62-23c0-466e-8671-f7e538c14f31",
   "metadata": {},
   "source": [
    "You can also use it for single line of code as long as the code is below `%%time`\n",
    "\n",
    "Measure how long it takes to sum numbers upto 10000000 without loop."
   ]
  },
  {
   "cell_type": "code",
   "execution_count": 26,
   "id": "f2685dc3-0798-4625-993b-da23b3b146fb",
   "metadata": {},
   "outputs": [
    {
     "name": "stdout",
     "output_type": "stream",
     "text": [
      "CPU times: total: 46.9 ms\n",
      "Wall time: 111 ms\n"
     ]
    },
    {
     "data": {
      "text/plain": [
       "49999995000000"
      ]
     },
     "execution_count": 26,
     "metadata": {},
     "output_type": "execute_result"
    }
   ],
   "source": [
    "%%time \n",
    "sum(range(10000000))"
   ]
  },
  {
   "cell_type": "markdown",
   "id": "22f2c655-6555-40ad-b593-b007d767c058",
   "metadata": {},
   "source": [
    "We might also want to write contents of a single cell into a file of its own. \n",
    "This can be useful when you write functions or have a list of variables that you want to store as a python script to access later on.\n",
    "\n",
    "**Example** Store `experiment_name`, `num_mice`, `num_neuropixels` in a file called `experiment_info.txt`"
   ]
  },
  {
   "cell_type": "code",
   "execution_count": 27,
   "id": "000bbf96-aed7-4b75-9d15-72710cff6771",
   "metadata": {},
   "outputs": [
    {
     "name": "stdout",
     "output_type": "stream",
     "text": [
      "Writing experiment_info.txt\n"
     ]
    }
   ],
   "source": [
    "%%writefile experiment_info.txt\n",
    "experiment_name = \"Mice Visual Cortex\"\n",
    "num_mice = 25\n",
    "num_neuropixels = 300"
   ]
  },
  {
   "cell_type": "markdown",
   "id": "15206b43-b72f-4665-b6d1-9c1191c26ff7",
   "metadata": {},
   "source": [
    "Store `experiment_name`, `num_mice`, `num_neuropixels` in a file called `experiment_info.py`"
   ]
  },
  {
   "cell_type": "code",
   "execution_count": 28,
   "id": "a326c8ec-5400-48eb-9ebf-6f4bfbb4d504",
   "metadata": {},
   "outputs": [
    {
     "name": "stdout",
     "output_type": "stream",
     "text": [
      "Writing experiment_info.py\n"
     ]
    }
   ],
   "source": [
    "%%writefile experiment_info.py\n",
    "experiment_name = \"Mice Visual Cortex\"\n",
    "num_mice = 25\n",
    "num_neuropixels = 300"
   ]
  },
  {
   "cell_type": "markdown",
   "id": "7d9a2fdb-a8e1-44c7-a7d7-941f12dfd284",
   "metadata": {},
   "source": [
    "Add `num_electrodes` to `experiment_info.py`\n",
    "\n",
    "Hint: Use -a"
   ]
  },
  {
   "cell_type": "code",
   "execution_count": 29,
   "id": "003ac7b9-02b4-4c6c-bf46-612f1d50344a",
   "metadata": {},
   "outputs": [
    {
     "name": "stdout",
     "output_type": "stream",
     "text": [
      "Appending to experiment_info.py\n"
     ]
    }
   ],
   "source": [
    "%%writefile -a experiment_info.py\n",
    "num_electrodes = 100"
   ]
  },
  {
   "cell_type": "markdown",
   "id": "108e4581-f278-4c93-b1ba-f7d503783aad",
   "metadata": {},
   "source": [
    "Sometimes the output can be too long and cluttering. \n",
    "We can deal with that by storing the output in a variable without displaying it on the screen\n",
    "\n",
    "**Example** `print(\"Hello World\")` but do not display the out"
   ]
  },
  {
   "cell_type": "code",
   "execution_count": 30,
   "id": "13207bef-0f25-484f-aab9-576f7b1514a0",
   "metadata": {},
   "outputs": [],
   "source": [
    "%%capture output\n",
    "print(\"Hello World\")"
   ]
  },
  {
   "cell_type": "code",
   "execution_count": 31,
   "id": "945cf341-448e-48eb-8b2a-b5042ae1b2aa",
   "metadata": {},
   "outputs": [
    {
     "data": {
      "text/plain": [
       "('Hello World\\n', '')"
      ]
     },
     "execution_count": 31,
     "metadata": {},
     "output_type": "execute_result"
    }
   ],
   "source": [
    "output.stdout, output.stderr"
   ]
  },
  {
   "cell_type": "markdown",
   "id": "20f3a370-f8a0-4173-9975-147289f7b864",
   "metadata": {},
   "source": [
    "Here the display is captured in stdout and if there are any errors, they are captured in stderr\n",
    "\n",
    "print(\"Hello\") and print(\"World\") in two separate lines but do not display the output"
   ]
  },
  {
   "cell_type": "code",
   "execution_count": 32,
   "id": "a13a0dee-2971-4d86-9cb6-c5faeb49a932",
   "metadata": {},
   "outputs": [],
   "source": [
    "%%capture output\n",
    "print(\"Hello\")\n",
    "print(\"World\")"
   ]
  },
  {
   "cell_type": "code",
   "execution_count": 33,
   "id": "27b0996b-a45e-48ff-a4af-a79d81d88554",
   "metadata": {},
   "outputs": [
    {
     "data": {
      "text/plain": [
       "'Hello\\nWorld\\n'"
      ]
     },
     "execution_count": 33,
     "metadata": {},
     "output_type": "execute_result"
    }
   ],
   "source": [
    "output.stdout"
   ]
  },
  {
   "cell_type": "markdown",
   "id": "5a6e01e6-3b9e-4081-b5c3-7ca3d0e9b46d",
   "metadata": {},
   "source": [
    "`1+2` on one line and `5*3` on another. But no display"
   ]
  },
  {
   "cell_type": "code",
   "execution_count": 36,
   "id": "a80eb971-040a-401d-8289-83ad87993d0e",
   "metadata": {},
   "outputs": [],
   "source": [
    "%%capture output\n",
    "1+2\n",
    "5*3"
   ]
  },
  {
   "cell_type": "code",
   "execution_count": 37,
   "id": "3fa71bc8-7d21-4921-8fb7-eceb995bb64f",
   "metadata": {},
   "outputs": [
    {
     "data": {
      "text/plain": [
       "('', '')"
      ]
     },
     "execution_count": 37,
     "metadata": {},
     "output_type": "execute_result"
    }
   ],
   "source": [
    "output.stdout, output.stderr"
   ]
  },
  {
   "cell_type": "markdown",
   "id": "5fd28835-ef5e-4c40-99a4-01847c86a754",
   "metadata": {},
   "source": [
    "The reason you're seeing ('', '') for both output.stdout and output.stderr is that neither 1 + 2 nor 5 * 3 produces any standard output or error. \n",
    "These expressions are evaluated, but unless you explicitly use print() or raise an exception, there is no output to capture."
   ]
  },
  {
   "cell_type": "markdown",
   "id": "d4e568d7-c364-4aa8-9a21-850f727b27ad",
   "metadata": {},
   "source": [
    "---"
   ]
  },
  {
   "cell_type": "markdown",
   "id": "2f74174b-0915-4496-8dda-33b5547c5793",
   "metadata": {},
   "source": [
    "## Writing Functions Inside Jupyter Notebook\n",
    "\n",
    "Writing functions in a Jupyter notebook provides a interactive and flexible environment for development and analysis. \n",
    "Notebooks allow for immediate feedback, enabling us to write, test, and modify functions incrementally by executing individual cells. \n",
    "The dynamic and iterative nature makes Jupyter notebooks an excellent tool for experimentation and fine-tuning functions in a user-friendly interface.\n",
    "\n",
    "In this section, let us practice writing functions. "
   ]
  },
  {
   "cell_type": "markdown",
   "id": "8170a538-f598-40a7-882e-06ae2290bdcf",
   "metadata": {},
   "source": [
    "**Example** Write a function called `add_two_nums` which adds `num1` and `num2` and prints sum on screen."
   ]
  },
  {
   "cell_type": "code",
   "execution_count": 38,
   "id": "1c3a9949-c1b8-46e1-9c22-bfd04a8ee8ff",
   "metadata": {},
   "outputs": [
    {
     "name": "stdout",
     "output_type": "stream",
     "text": [
      "3 4\n"
     ]
    }
   ],
   "source": [
    "def add_two_nums(num1, num2):\n",
    "    print(num1, num2)\n",
    "add_two_nums(3, 4)"
   ]
  },
  {
   "cell_type": "markdown",
   "id": "c312975e-f2d9-4ab9-a14e-883969a548ce",
   "metadata": {},
   "source": [
    "Write a function called `add_three_nums` which adds `num1`, `num2` and `num3` and prints sum on screen."
   ]
  },
  {
   "cell_type": "code",
   "execution_count": 41,
   "id": "fd0745f9-b34d-48b3-bc8f-1491cee2303d",
   "metadata": {},
   "outputs": [
    {
     "name": "stdout",
     "output_type": "stream",
     "text": [
      "12\n"
     ]
    }
   ],
   "source": [
    "def add_three_nums(num1, num2, num3):\n",
    "    print(num1+num2+num3)\n",
    "add_three_nums(3, 4, 5)"
   ]
  },
  {
   "cell_type": "markdown",
   "id": "81df1716-2b47-46d5-aa02-324c2d2ae045",
   "metadata": {},
   "source": [
    "Write a function called `subtract_two_nums` which subtracts `num1` and `num2` and prints difference on screen."
   ]
  },
  {
   "cell_type": "code",
   "execution_count": 42,
   "id": "5a94b880-91aa-42a7-9617-eb798fd20a87",
   "metadata": {},
   "outputs": [
    {
     "name": "stdout",
     "output_type": "stream",
     "text": [
      "-1\n"
     ]
    }
   ],
   "source": [
    "def subtract_two_nums(num1, num2):\n",
    "    print(num1-num2)\n",
    "subtract_two_nums(3,4)"
   ]
  },
  {
   "cell_type": "markdown",
   "id": "f851ad36-839a-4ca8-8ef4-912f1be401b3",
   "metadata": {},
   "source": [
    "**Example** Write a function called `add_two_nums` which adds `num1` and `num2` and returns sum."
   ]
  },
  {
   "cell_type": "code",
   "execution_count": 43,
   "id": "b8b50364-bb5e-4745-a8c8-8fad2c755608",
   "metadata": {},
   "outputs": [
    {
     "data": {
      "text/plain": [
       "7"
      ]
     },
     "execution_count": 43,
     "metadata": {},
     "output_type": "execute_result"
    }
   ],
   "source": [
    "def add_two_nums(num1, num2):\n",
    "    result = num1 + num2\n",
    "    return result\n",
    "result = add_two_nums(3, 4)\n",
    "result"
   ]
  },
  {
   "cell_type": "markdown",
   "id": "9a7fac60-7479-4e3c-ba65-c0990ce36b57",
   "metadata": {},
   "source": [
    "Write a function called `add_three_nums` which adds `num1`, `num2` and `num3` and returns the sum."
   ]
  },
  {
   "cell_type": "code",
   "execution_count": 70,
   "id": "4c4a8c0f-85de-486b-91d5-b8e6a9131684",
   "metadata": {},
   "outputs": [
    {
     "data": {
      "text/plain": [
       "-1"
      ]
     },
     "execution_count": 70,
     "metadata": {},
     "output_type": "execute_result"
    }
   ],
   "source": [
    "def subtract_two_nums(num1, num2):\n",
    "    result = num1-num2\n",
    "    return result\n",
    "result = subtract_two_nums(3,4)\n",
    "result"
   ]
  },
  {
   "cell_type": "markdown",
   "id": "295b5894-2478-42ee-9c3d-f4b6ded84b32",
   "metadata": {},
   "source": [
    "Write a function called `subtract_two_nums` which subtracts `num1` and `num2` and returns the difference."
   ]
  },
  {
   "cell_type": "code",
   "execution_count": 72,
   "id": "106eecb9-5c2c-403b-a1d0-948bf4ee8c47",
   "metadata": {},
   "outputs": [
    {
     "data": {
      "text/plain": [
       "12"
      ]
     },
     "execution_count": 72,
     "metadata": {},
     "output_type": "execute_result"
    }
   ],
   "source": [
    "def add_three_nums(num1, num2, num3):\n",
    "    result = num1+num2+num3\n",
    "    return result\n",
    "result = add_three_nums(3, 4, 5)\n",
    "result"
   ]
  },
  {
   "cell_type": "markdown",
   "id": "bb7f9d1d-e25b-4da7-bae5-cc8006ce78cd",
   "metadata": {},
   "source": [
    "Sometimes, you might have to access functions from scripts into your notebooks. Unlike notebooks, scripts do not have the markdown cells to add explanation or logic. Instead, we can make use of docstrings to explain our function. They reside within the function and give a brief explanation of the purpose of the function.\n",
    "\n",
    "**Example** Add a docstring to `add_two_nums`"
   ]
  },
  {
   "cell_type": "code",
   "execution_count": 73,
   "id": "8b37af3a-b7a5-440d-9b27-6a3340197415",
   "metadata": {},
   "outputs": [
    {
     "data": {
      "text/plain": [
       "7"
      ]
     },
     "execution_count": 73,
     "metadata": {},
     "output_type": "execute_result"
    }
   ],
   "source": [
    "def add_two_nums(num1, num2):\n",
    "    '''\n",
    "    adds num1 and num2\n",
    "    '''\n",
    "    result = num1 + num2\n",
    "    return result\n",
    "result = add_two_nums(3, 4)\n",
    "result"
   ]
  },
  {
   "cell_type": "markdown",
   "id": "a7b84bf2-808a-44ed-8bc7-969418310673",
   "metadata": {},
   "source": [
    "Add a docstring to `subtract_two_nums`"
   ]
  },
  {
   "cell_type": "code",
   "execution_count": 74,
   "id": "9800d778-178f-4324-9217-c4db5c154a3a",
   "metadata": {},
   "outputs": [
    {
     "data": {
      "text/plain": [
       "-1"
      ]
     },
     "execution_count": 74,
     "metadata": {},
     "output_type": "execute_result"
    }
   ],
   "source": [
    "def subtract_two_nums(num1, num2):\n",
    "    '''\n",
    "    subtracts num1 and num2\n",
    "    Equation: num1 - num2\n",
    "    '''\n",
    "    result = num1-num2\n",
    "    return result\n",
    "result = subtract_two_nums(3,4)\n",
    "result"
   ]
  },
  {
   "cell_type": "markdown",
   "id": "3598303f-000c-4ec0-aa53-7661e2ba9d10",
   "metadata": {},
   "source": [
    "Add a doctring to `add_three_nums`"
   ]
  },
  {
   "cell_type": "code",
   "execution_count": 75,
   "id": "625d22a7-3c45-4f0c-8d62-9430f69ef474",
   "metadata": {},
   "outputs": [
    {
     "data": {
      "text/plain": [
       "12"
      ]
     },
     "execution_count": 75,
     "metadata": {},
     "output_type": "execute_result"
    }
   ],
   "source": [
    "def add_three_nums(num1, num2, num3):\n",
    "    '''\n",
    "    Adds num1, num2, and num3\n",
    "    '''\n",
    "    result = num1+num2+num3\n",
    "    return result\n",
    "result = add_three_nums(3, 4, 5)\n",
    "result"
   ]
  },
  {
   "cell_type": "markdown",
   "id": "5661e61f-4b7a-4299-96f7-06a234fd5832",
   "metadata": {},
   "source": [
    "How would you describe these functions if you wrote them inside notebooks instead of scripts? \n",
    "\n",
    "How would you make use of markdown cells to add explanations?"
   ]
  },
  {
   "cell_type": "markdown",
   "id": "e913420b-3b84-41f0-ad8e-f52820344e01",
   "metadata": {},
   "source": [
    "When we develop or use a function, we might have to time the execution. We can combine %%time to time our function.\n",
    "\n",
    "**Example** Time execution of `add_two_nums(10, 100)`"
   ]
  },
  {
   "cell_type": "code",
   "execution_count": 44,
   "id": "f4f2e03c-a99e-4419-bcf2-e82c5c74dd47",
   "metadata": {},
   "outputs": [
    {
     "name": "stdout",
     "output_type": "stream",
     "text": [
      "CPU times: total: 0 ns\n",
      "Wall time: 4.05 μs\n"
     ]
    },
    {
     "data": {
      "text/plain": [
       "110"
      ]
     },
     "execution_count": 44,
     "metadata": {},
     "output_type": "execute_result"
    }
   ],
   "source": [
    "%%time\n",
    "add_two_nums(10,100)"
   ]
  },
  {
   "cell_type": "markdown",
   "id": "68ffb475-9c21-4993-9b34-1ac9ffbaf480",
   "metadata": {},
   "source": [
    "Time execution of `subtract_two_nums(10, 100)`"
   ]
  },
  {
   "cell_type": "code",
   "execution_count": 45,
   "id": "339318da-c00d-4b3b-9518-cb30ff61c478",
   "metadata": {},
   "outputs": [
    {
     "name": "stdout",
     "output_type": "stream",
     "text": [
      "-90\n",
      "CPU times: total: 0 ns\n",
      "Wall time: 32.2 μs\n"
     ]
    }
   ],
   "source": [
    "%%time\n",
    "subtract_two_nums(10, 100)"
   ]
  },
  {
   "cell_type": "markdown",
   "id": "479f2e42-5e29-4091-bd1d-3251aaa7e8f4",
   "metadata": {},
   "source": [
    "Time execution of `add_three_nums(10, 100, 1000)`"
   ]
  },
  {
   "cell_type": "code",
   "execution_count": 46,
   "id": "6b0c7172-a39e-484d-ae42-57ea96111436",
   "metadata": {},
   "outputs": [
    {
     "name": "stdout",
     "output_type": "stream",
     "text": [
      "1110\n",
      "CPU times: total: 0 ns\n",
      "Wall time: 52.5 μs\n"
     ]
    }
   ],
   "source": [
    "%%time\n",
    "add_three_nums(10, 100, 1000)"
   ]
  },
  {
   "cell_type": "markdown",
   "id": "17f10e71-2f30-414a-a659-12e1cb5c46b6",
   "metadata": {},
   "source": [
    "---"
   ]
  },
  {
   "cell_type": "markdown",
   "id": "ef4a0a79-8f4c-4ece-8ddd-322e0b4b1973",
   "metadata": {},
   "source": [
    "## Accessing Contents of Script/Notebook with %run\n",
    "\n",
    "The `%run` is a magic command in Jupyter helps us execute code from one notebook inside another. \n",
    "This approach is particularly useful when we want to reuse code or break our work into smaller, more manageable parts without copying everything into the current notebook. \n",
    "By using `%run`, we can bring in all the variables, functions, and data from another notebook or script, making them immediately available in our current environment.\n",
    "\n",
    "Additionally, we have the flexibility to pass extra information, known as arguments, to the notebook we’re running. \n",
    "This allows us to customize its behavior for different tasks or scenarios. \n",
    "Overall, `%run` helps us keep our work organized and maintainable, especially in complex projects where reusing code is key to efficiency.\n",
    "\n",
    "In this section, we will practice using `%run` \n",
    "\n",
    "**Run the below code to download materials for this section. Examine `hello.py`, `hello.txt`, and `hello_nb.ipynb`**"
   ]
  },
  {
   "cell_type": "code",
   "execution_count": 57,
   "id": "681171f1-ec0e-4d06-bc8e-740580a1480c",
   "metadata": {},
   "outputs": [
    {
     "name": "stderr",
     "output_type": "stream",
     "text": [
      "Downloading run_section/hello.py: 100%|█████████████████████████████████████████████████████████| 89.0/89.0 [00:00<00:00, 174kB/s]\n",
      "Downloading run_section/hello.txt: 100%|███████████████████████████████████████████████████████████████| 11.0/11.0 [00:00<?, ?B/s]\n",
      "Downloading run_section/hello_nb.ipynb: 100%|█████████████████████████████████████████████████| 2.38k/2.38k [00:00<00:00, 221kB/s]\n"
     ]
    }
   ],
   "source": [
    "import sys\n",
    "sys.path.append('src')\n",
    "import sciebo\n",
    "\n",
    "sciebo.download_file('https://uni-bonn.sciebo.de/s/4PZ3gTgRWYnyPfP', 'run_section/hello.py')\n",
    "sciebo.download_file('https://uni-bonn.sciebo.de/s/3Bg1TVfGkDXUVYg', 'run_section/hello.txt')\n",
    "sciebo.download_file('https://uni-bonn.sciebo.de/s/PUkIdpQSEnyzIsT', 'run_section/hello_nb.ipynb')"
   ]
  },
  {
   "cell_type": "markdown",
   "id": "5ba3d0be-b005-4a40-bb0a-ea0e50cc0a71",
   "metadata": {},
   "source": [
    "**Example** Run `hello.py` script from here"
   ]
  },
  {
   "cell_type": "code",
   "execution_count": 32,
   "id": "9a9e5441-18d0-4757-8b22-db802947a724",
   "metadata": {},
   "outputs": [
    {
     "name": "stdout",
     "output_type": "stream",
     "text": [
      "Hello world\n"
     ]
    }
   ],
   "source": [
    "%run run_section/hello.py"
   ]
  },
  {
   "cell_type": "markdown",
   "id": "1ba82cec-f65f-4086-a687-b302e19e5f83",
   "metadata": {},
   "source": [
    "Run `hello_nb.ipynb` from here"
   ]
  },
  {
   "cell_type": "code",
   "execution_count": 33,
   "id": "3a2172a2-a251-46e4-916d-371160c65974",
   "metadata": {},
   "outputs": [
    {
     "name": "stdout",
     "output_type": "stream",
     "text": [
      "Hello World\n"
     ]
    }
   ],
   "source": [
    "%run run_section/hello_nb.ipynb"
   ]
  },
  {
   "cell_type": "markdown",
   "id": "c2392db0-6c50-4c50-8064-99bbf4c01836",
   "metadata": {},
   "source": [
    "Run `hello.txt` from here. \n",
    "What difference do you notice?"
   ]
  },
  {
   "cell_type": "code",
   "execution_count": 34,
   "id": "c861de67-6e19-4e75-b0d1-7d34b8184c66",
   "metadata": {},
   "outputs": [
    {
     "ename": "SyntaxError",
     "evalue": "invalid syntax (hello.txt, line 1)",
     "output_type": "error",
     "traceback": [
      "\u001b[1;36m  File \u001b[1;32m~\\Courses\\NDD\\Day2\\run_section\\hello.txt:1\u001b[1;36m\u001b[0m\n\u001b[1;33m    Hello World\u001b[0m\n\u001b[1;37m          ^\u001b[0m\n\u001b[1;31mSyntaxError\u001b[0m\u001b[1;31m:\u001b[0m invalid syntax\n"
     ]
    }
   ],
   "source": [
    "%run run_section/hello.txt"
   ]
  },
  {
   "cell_type": "markdown",
   "id": "33835402-671a-4a52-b609-5e3c658a6a2d",
   "metadata": {},
   "source": [
    "The error occurs because `%run` expects the file being executed to contain valid Python code or a Jupyter notebook. \n",
    "In this case, hello.txt is a plain text file with the content \"Hello World,\" which is not valid Python syntax. \n",
    "Since `%run` is trying to execute the text as Python code, it encounters a SyntaxError.\n",
    "\n",
    "Change contents of hello.txt to say print(\"Hello World\") and run it. Does this work?"
   ]
  },
  {
   "cell_type": "code",
   "execution_count": 35,
   "id": "5adf7276-4547-42e8-9ee5-602b3f5e0a45",
   "metadata": {},
   "outputs": [
    {
     "ename": "SyntaxError",
     "evalue": "invalid syntax (hello.txt, line 1)",
     "output_type": "error",
     "traceback": [
      "\u001b[1;36m  File \u001b[1;32m~\\Courses\\NDD\\Day2\\run_section\\hello.txt:1\u001b[1;36m\u001b[0m\n\u001b[1;33m    Hello World\u001b[0m\n\u001b[1;37m          ^\u001b[0m\n\u001b[1;31mSyntaxError\u001b[0m\u001b[1;31m:\u001b[0m invalid syntax\n"
     ]
    }
   ],
   "source": [
    "%run run_section/hello.txt"
   ]
  },
  {
   "cell_type": "markdown",
   "id": "be89ef57-6f65-4b5a-bf4d-e499518d3698",
   "metadata": {},
   "source": [
    "%run not only shows standard outputs, but we can also access variables in the script or python notebook.\n",
    "\n",
    "**Example** Run `hello.py` and print `name`"
   ]
  },
  {
   "cell_type": "code",
   "execution_count": 36,
   "id": "39d604a7-fbe7-4bae-9f14-6a7cfbbe20ea",
   "metadata": {},
   "outputs": [
    {
     "name": "stdout",
     "output_type": "stream",
     "text": [
      "Hello world\n"
     ]
    },
    {
     "data": {
      "text/plain": [
       "'John Doe'"
      ]
     },
     "execution_count": 36,
     "metadata": {},
     "output_type": "execute_result"
    }
   ],
   "source": [
    "%run run_section/hello.py\n",
    "name"
   ]
  },
  {
   "cell_type": "markdown",
   "id": "18caf4c5-0c84-432c-9f60-583cedb0f7e3",
   "metadata": {},
   "source": [
    "Run `hello.py` and print `age`"
   ]
  },
  {
   "cell_type": "code",
   "execution_count": 37,
   "id": "909836a3-98ca-42fe-982e-0b231abf0bde",
   "metadata": {},
   "outputs": [
    {
     "name": "stdout",
     "output_type": "stream",
     "text": [
      "Hello world\n"
     ]
    },
    {
     "data": {
      "text/plain": [
       "100"
      ]
     },
     "execution_count": 37,
     "metadata": {},
     "output_type": "execute_result"
    }
   ],
   "source": [
    "%run run_section/hello.py\n",
    "age"
   ]
  },
  {
   "cell_type": "markdown",
   "id": "bf970cb5-9e34-4acd-926c-a8cdb5e5126e",
   "metadata": {},
   "source": [
    "Run `hello_nb.ipynb` and print `location`"
   ]
  },
  {
   "cell_type": "code",
   "execution_count": 38,
   "id": "0276b3ea-c66c-485c-b3c3-daa749457b74",
   "metadata": {},
   "outputs": [
    {
     "name": "stdout",
     "output_type": "stream",
     "text": [
      "Hello World\n"
     ]
    },
    {
     "data": {
      "text/plain": [
       "'Earth'"
      ]
     },
     "execution_count": 38,
     "metadata": {},
     "output_type": "execute_result"
    }
   ],
   "source": [
    "%run run_section/hello_nb.ipynb\n",
    "location"
   ]
  },
  {
   "cell_type": "markdown",
   "id": "57ac6332-689e-4362-8d84-f56f39f34b02",
   "metadata": {},
   "source": [
    "Any variables you have here can be overwritten if they are also in the run notebook.\n",
    "\n",
    "**Example** Set name to \"Jane Doe\" and run `hello.py`. What is name now?"
   ]
  },
  {
   "cell_type": "code",
   "execution_count": 39,
   "id": "0bfc71c5-ba55-418c-ac8e-1ceafdb44fb7",
   "metadata": {},
   "outputs": [
    {
     "name": "stdout",
     "output_type": "stream",
     "text": [
      "Jane Doe\n",
      "Hello world\n"
     ]
    },
    {
     "data": {
      "text/plain": [
       "'John Doe'"
      ]
     },
     "execution_count": 39,
     "metadata": {},
     "output_type": "execute_result"
    }
   ],
   "source": [
    "name = \"Jane Doe\"\n",
    "print(name)\n",
    "%run run_section/hello.py\n",
    "name"
   ]
  },
  {
   "cell_type": "markdown",
   "id": "3e4ae7bd-a447-499b-a5ed-a04e9ec126af",
   "metadata": {},
   "source": [
    "Set age to 50 and run `hello.py`. What is the age now?"
   ]
  },
  {
   "cell_type": "code",
   "execution_count": 40,
   "id": "967efa4d-27d0-4993-96e1-6a46ea90aa7e",
   "metadata": {},
   "outputs": [
    {
     "name": "stdout",
     "output_type": "stream",
     "text": [
      "50\n",
      "Hello world\n"
     ]
    },
    {
     "data": {
      "text/plain": [
       "100"
      ]
     },
     "execution_count": 40,
     "metadata": {},
     "output_type": "execute_result"
    }
   ],
   "source": [
    "age = 50\n",
    "print(age)\n",
    "%run run_section/hello.py\n",
    "age"
   ]
  },
  {
   "cell_type": "markdown",
   "id": "7e999d94-8c39-4857-90bf-f88e41bfbd37",
   "metadata": {},
   "source": [
    "It is the same for notebooks.\n",
    "\n",
    "Set location to \"Saturn\" and run `hello_nb.ipynb`. What is the location now?"
   ]
  },
  {
   "cell_type": "code",
   "execution_count": 41,
   "id": "bf9e02a4-3d73-4557-828c-489559566f4e",
   "metadata": {},
   "outputs": [
    {
     "name": "stdout",
     "output_type": "stream",
     "text": [
      "Saturn\n",
      "Hello World\n"
     ]
    },
    {
     "data": {
      "text/plain": [
       "'Earth'"
      ]
     },
     "execution_count": 41,
     "metadata": {},
     "output_type": "execute_result"
    }
   ],
   "source": [
    "location = \"Saturn\"\n",
    "print(location)\n",
    "%run run_section/hello_nb.ipynb\n",
    "location"
   ]
  },
  {
   "cell_type": "markdown",
   "id": "6f0e9f97-037b-486f-a398-82e616e8e76f",
   "metadata": {},
   "source": [
    "%run also lets us access any functions within a script of notebook\n",
    "\n",
    "**Example** Add 2 and 3 using `add_two_numbers` in `hello.py`"
   ]
  },
  {
   "cell_type": "code",
   "execution_count": 42,
   "id": "1228296b-f9fd-471e-a028-3601aac9defd",
   "metadata": {},
   "outputs": [
    {
     "name": "stdout",
     "output_type": "stream",
     "text": [
      "Hello world\n"
     ]
    },
    {
     "data": {
      "text/plain": [
       "5"
      ]
     },
     "execution_count": 42,
     "metadata": {},
     "output_type": "execute_result"
    }
   ],
   "source": [
    "%run run_section/hello.py\n",
    "add_two_numbers(2, 3)"
   ]
  },
  {
   "cell_type": "markdown",
   "id": "8bcbe0d5-ee1c-4812-b9ca-817c70fc06a5",
   "metadata": {},
   "source": [
    "Add 2, 3, 4 using `add_three_numbers` from `hello_nb.ipynb`"
   ]
  },
  {
   "cell_type": "code",
   "execution_count": 43,
   "id": "bdd8c268-ed87-4e5a-a058-a46ee6fdf3b3",
   "metadata": {},
   "outputs": [
    {
     "name": "stdout",
     "output_type": "stream",
     "text": [
      "Hello World\n"
     ]
    },
    {
     "data": {
      "text/plain": [
       "9"
      ]
     },
     "execution_count": 43,
     "metadata": {},
     "output_type": "execute_result"
    }
   ],
   "source": [
    "%run run_section/hello_nb.ipynb\n",
    "add_three_numbers(2,3,4)"
   ]
  },
  {
   "cell_type": "markdown",
   "id": "76e96071-73d3-4490-8fa4-f79ad5e7697f",
   "metadata": {},
   "source": [
    "Multiply 5 and 6 using `multiply_two_numbers` from `hello_nb.ipynb`"
   ]
  },
  {
   "cell_type": "code",
   "execution_count": 44,
   "id": "9c23b253-3bdb-4802-a823-089251b058ec",
   "metadata": {},
   "outputs": [
    {
     "name": "stdout",
     "output_type": "stream",
     "text": [
      "Hello World\n"
     ]
    },
    {
     "data": {
      "text/plain": [
       "30"
      ]
     },
     "execution_count": 44,
     "metadata": {},
     "output_type": "execute_result"
    }
   ],
   "source": [
    "%run run_section/hello_nb.ipynb\n",
    "multiply_two_numbers(5,6)"
   ]
  },
  {
   "cell_type": "markdown",
   "id": "e85cd87d-7b7b-44fd-bfe4-8518b44a6d3d",
   "metadata": {},
   "source": [
    "---"
   ]
  },
  {
   "cell_type": "markdown",
   "id": "9c47e248-a04f-4294-a8f4-8275ea14e40b",
   "metadata": {},
   "source": [
    "## (Optional) Accessing Parts of Another Notebook\n",
    "\n",
    "In this section, we will learn how to access parts of another notebook without executing the whole notebook.\n",
    "A python library called `import_ipynb` can do this by essentially treating the notebook as a python module.\n",
    "This allows us to reuse code from another notebook without executing all the cells. \n",
    "`import_ipynb` module exracts only the relevant Python cells from the notebook ignoring markdown cells. "
   ]
  },
  {
   "cell_type": "code",
   "execution_count": 45,
   "id": "eb987f3e-e5e4-4a0e-94a0-ff58b4b014b5",
   "metadata": {},
   "outputs": [
    {
     "name": "stderr",
     "output_type": "stream",
     "text": [
      "Downloading run_section/hello.py: 100%|████████████████████████████████████████████████████████████████| 89.0/89.0 [00:00<?, ?B/s]\n",
      "Downloading run_section/hello.txt: 100%|███████████████████████████████████████████████████████████████| 11.0/11.0 [00:00<?, ?B/s]\n",
      "Downloading run_section/hello_nb.ipynb: 100%|████████████████████████████████████████████████| 2.58k/2.58k [00:00<00:00, 2.56MB/s]\n"
     ]
    }
   ],
   "source": [
    "import sys\n",
    "sys.path.append('src')\n",
    "import sciebo\n",
    "\n",
    "sciebo.download_file('https://uni-bonn.sciebo.de/s/4PZ3gTgRWYnyPfP', 'run_section/hello.py')\n",
    "sciebo.download_file('https://uni-bonn.sciebo.de/s/3Bg1TVfGkDXUVYg', 'run_section/hello.txt')\n",
    "sciebo.download_file('https://uni-bonn.sciebo.de/s/PUkIdpQSEnyzIsT', 'run_section/hello_nb.ipynb')"
   ]
  },
  {
   "cell_type": "markdown",
   "id": "a2d2ceb0-3b68-4df7-9a28-d2b5a44f2d2c",
   "metadata": {},
   "source": [
    "First, we have to add the directory where the notebook we have to import is to the path. This can be done by the below cell of code. Run it to add `run_section/hello_nb.ipynb` notebook."
   ]
  },
  {
   "cell_type": "code",
   "execution_count": 46,
   "id": "c1473659-15d4-4947-a4fc-95e2fc9e7d6c",
   "metadata": {},
   "outputs": [],
   "source": [
    "import sys\n",
    "sys.path.append('run_section/hello_nb.ipynb')"
   ]
  },
  {
   "cell_type": "markdown",
   "id": "3cb44670-8b56-4265-8167-5a62cbedceb5",
   "metadata": {},
   "source": [
    "**Example** import `hello_nb.ipynb` and display `name`"
   ]
  },
  {
   "cell_type": "code",
   "execution_count": 47,
   "id": "15c658a8-f924-4b23-985f-c65a6e959379",
   "metadata": {},
   "outputs": [
    {
     "name": "stdout",
     "output_type": "stream",
     "text": [
      "Hello World\n"
     ]
    },
    {
     "data": {
      "text/plain": [
       "'John Doe'"
      ]
     },
     "execution_count": 47,
     "metadata": {},
     "output_type": "execute_result"
    }
   ],
   "source": [
    "import import_ipynb\n",
    "import run_section.hello_nb as nb\n",
    "nb.name"
   ]
  },
  {
   "cell_type": "markdown",
   "id": "338657f9-21d6-41fd-962c-8c727560e9d5",
   "metadata": {},
   "source": [
    "import `hello_nb.ipynb` and display `age`"
   ]
  },
  {
   "cell_type": "code",
   "execution_count": 48,
   "id": "1c50818d-18f1-4fd7-860b-877276020753",
   "metadata": {},
   "outputs": [
    {
     "data": {
      "text/plain": [
       "100"
      ]
     },
     "execution_count": 48,
     "metadata": {},
     "output_type": "execute_result"
    }
   ],
   "source": [
    "import import_ipynb\n",
    "import run_section.hello_nb as nb\n",
    "nb.age"
   ]
  },
  {
   "cell_type": "markdown",
   "id": "68666679-6a2b-453f-bb7e-49e0e9da9332",
   "metadata": {},
   "source": [
    "import `hello_nb.ipynb` and display `location`"
   ]
  },
  {
   "cell_type": "code",
   "execution_count": 49,
   "id": "d07debd5-4f3f-4a95-969c-585906092b9c",
   "metadata": {},
   "outputs": [
    {
     "data": {
      "text/plain": [
       "'Earth'"
      ]
     },
     "execution_count": 49,
     "metadata": {},
     "output_type": "execute_result"
    }
   ],
   "source": [
    "import import_ipynb\n",
    "import run_section.hello_nb as nb\n",
    "nb.location"
   ]
  },
  {
   "cell_type": "markdown",
   "id": "6f4cdf11-306f-4836-93c2-f8df3ea8b3af",
   "metadata": {},
   "source": [
    "We can also import only some variables.\n",
    "\n",
    "**Example** import only `name`"
   ]
  },
  {
   "cell_type": "code",
   "execution_count": 50,
   "id": "a6b66e28-b104-4286-ae06-90e91d2e4072",
   "metadata": {},
   "outputs": [
    {
     "data": {
      "text/plain": [
       "'John Doe'"
      ]
     },
     "execution_count": 50,
     "metadata": {},
     "output_type": "execute_result"
    }
   ],
   "source": [
    "import import_ipynb\n",
    "from run_section.hello_nb import name\n",
    "name"
   ]
  },
  {
   "cell_type": "markdown",
   "id": "b878334c-f74b-49df-97f7-5ce5d63a56cc",
   "metadata": {},
   "source": [
    "import only `age`"
   ]
  },
  {
   "cell_type": "code",
   "execution_count": 51,
   "id": "60a2151b-4520-4d82-ada9-46a261aebfc0",
   "metadata": {},
   "outputs": [
    {
     "data": {
      "text/plain": [
       "100"
      ]
     },
     "execution_count": 51,
     "metadata": {},
     "output_type": "execute_result"
    }
   ],
   "source": [
    "import import_ipynb\n",
    "from run_section.hello_nb import age\n",
    "age"
   ]
  },
  {
   "cell_type": "markdown",
   "id": "1ae874a6-c04e-4b33-a40d-345a43add35c",
   "metadata": {},
   "source": [
    "import only `location`"
   ]
  },
  {
   "cell_type": "code",
   "execution_count": 52,
   "id": "38926c57-336e-4552-88d1-4c2749dda9c1",
   "metadata": {},
   "outputs": [
    {
     "data": {
      "text/plain": [
       "'Earth'"
      ]
     },
     "execution_count": 52,
     "metadata": {},
     "output_type": "execute_result"
    }
   ],
   "source": [
    "import import_ipynb\n",
    "from run_section.hello_nb import location\n",
    "location"
   ]
  },
  {
   "cell_type": "markdown",
   "id": "310cb07a-e224-4b0f-96a5-61950241e8e0",
   "metadata": {},
   "source": [
    "**Example** Add 1, 2, 3 by importing only `add_three_numbers`"
   ]
  },
  {
   "cell_type": "code",
   "execution_count": 53,
   "id": "9b03956c-d70f-4fc9-b6f0-64e2bd4c2157",
   "metadata": {},
   "outputs": [
    {
     "data": {
      "text/plain": [
       "6"
      ]
     },
     "execution_count": 53,
     "metadata": {},
     "output_type": "execute_result"
    }
   ],
   "source": [
    "import import_ipynb\n",
    "from run_section.hello_nb import add_three_numbers\n",
    "add_three_numbers(1,2,3)"
   ]
  },
  {
   "cell_type": "markdown",
   "id": "6de01902-4714-49cb-87d0-72aab191a037",
   "metadata": {},
   "source": [
    "Multiply 8 and 9 by importing only `multiply_two_numbers`"
   ]
  },
  {
   "cell_type": "code",
   "execution_count": 54,
   "id": "f93c1183-be84-4065-8365-8ec1e4513f94",
   "metadata": {},
   "outputs": [
    {
     "data": {
      "text/plain": [
       "72"
      ]
     },
     "execution_count": 54,
     "metadata": {},
     "output_type": "execute_result"
    }
   ],
   "source": [
    "import import_ipynb\n",
    "from run_section.hello_nb import multiply_two_numbers\n",
    "multiply_two_numbers(8,9)"
   ]
  },
  {
   "cell_type": "markdown",
   "id": "5f0903e9-feff-4277-90ff-30b369e8052a",
   "metadata": {},
   "source": [
    "We can also import python scripts!\n",
    "\n",
    "Add 1 and 2 by importing only `add_two_numbers` from `hello.py`"
   ]
  },
  {
   "cell_type": "code",
   "execution_count": 55,
   "id": "1de54748-71e8-4f73-b823-ffcc3df06a0d",
   "metadata": {},
   "outputs": [
    {
     "name": "stdout",
     "output_type": "stream",
     "text": [
      "Hello world\n"
     ]
    },
    {
     "data": {
      "text/plain": [
       "3"
      ]
     },
     "execution_count": 55,
     "metadata": {},
     "output_type": "execute_result"
    }
   ],
   "source": [
    "import import_ipynb\n",
    "from run_section.hello import add_two_numbers\n",
    "add_two_numbers(1,2)"
   ]
  }
 ],
 "metadata": {
  "kernelspec": {
   "display_name": "notebook_driven_development_test",
   "language": "python",
   "name": "python3"
  },
  "language_info": {
   "codemirror_mode": {
    "name": "ipython",
    "version": 3
   },
   "file_extension": ".py",
   "mimetype": "text/x-python",
   "name": "python",
   "nbconvert_exporter": "python",
   "pygments_lexer": "ipython3",
   "version": "3.13.0"
  }
 },
 "nbformat": 4,
 "nbformat_minor": 5
}
