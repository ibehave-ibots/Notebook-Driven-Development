{
 "cells": [
  {
   "cell_type": "code",
   "execution_count": 2,
   "id": "93c5f17d",
   "metadata": {},
   "outputs": [
    {
     "name": "stdout",
     "output_type": "stream",
     "text": [
      "Collecting seaborn\n",
      "  Using cached seaborn-0.13.2-py3-none-any.whl.metadata (5.4 kB)\n",
      "Requirement already satisfied: numpy!=1.24.0,>=1.20 in c:\\users\\atle_\\anaconda3\\envs\\notebook_driven_development_test\\lib\\site-packages (from seaborn) (2.1.2)\n",
      "Requirement already satisfied: pandas>=1.2 in c:\\users\\atle_\\anaconda3\\envs\\notebook_driven_development_test\\lib\\site-packages (from seaborn) (2.2.3)\n",
      "Collecting matplotlib!=3.6.1,>=3.4 (from seaborn)\n",
      "  Using cached matplotlib-3.9.2-cp313-cp313-win_amd64.whl.metadata (11 kB)\n",
      "Requirement already satisfied: contourpy>=1.0.1 in c:\\users\\atle_\\anaconda3\\envs\\notebook_driven_development_test\\lib\\site-packages (from matplotlib!=3.6.1,>=3.4->seaborn) (1.3.0)\n",
      "Collecting cycler>=0.10 (from matplotlib!=3.6.1,>=3.4->seaborn)\n",
      "  Using cached cycler-0.12.1-py3-none-any.whl.metadata (3.8 kB)\n",
      "Collecting fonttools>=4.22.0 (from matplotlib!=3.6.1,>=3.4->seaborn)\n",
      "  Using cached fonttools-4.54.1-cp313-cp313-win_amd64.whl.metadata (167 kB)\n",
      "Collecting kiwisolver>=1.3.1 (from matplotlib!=3.6.1,>=3.4->seaborn)\n",
      "  Using cached kiwisolver-1.4.7-cp313-cp313-win_amd64.whl.metadata (6.4 kB)\n",
      "Requirement already satisfied: packaging>=20.0 in c:\\users\\atle_\\anaconda3\\envs\\notebook_driven_development_test\\lib\\site-packages (from matplotlib!=3.6.1,>=3.4->seaborn) (24.1)\n",
      "Requirement already satisfied: pillow>=8 in c:\\users\\atle_\\anaconda3\\envs\\notebook_driven_development_test\\lib\\site-packages (from matplotlib!=3.6.1,>=3.4->seaborn) (11.0.0)\n",
      "Collecting pyparsing>=2.3.1 (from matplotlib!=3.6.1,>=3.4->seaborn)\n",
      "  Using cached pyparsing-3.2.0-py3-none-any.whl.metadata (5.0 kB)\n",
      "Requirement already satisfied: python-dateutil>=2.7 in c:\\users\\atle_\\anaconda3\\envs\\notebook_driven_development_test\\lib\\site-packages (from matplotlib!=3.6.1,>=3.4->seaborn) (2.9.0)\n",
      "Requirement already satisfied: pytz>=2020.1 in c:\\users\\atle_\\anaconda3\\envs\\notebook_driven_development_test\\lib\\site-packages (from pandas>=1.2->seaborn) (2024.2)\n",
      "Requirement already satisfied: tzdata>=2022.7 in c:\\users\\atle_\\anaconda3\\envs\\notebook_driven_development_test\\lib\\site-packages (from pandas>=1.2->seaborn) (2024.2)\n",
      "Requirement already satisfied: six>=1.5 in c:\\users\\atle_\\anaconda3\\envs\\notebook_driven_development_test\\lib\\site-packages (from python-dateutil>=2.7->matplotlib!=3.6.1,>=3.4->seaborn) (1.16.0)\n",
      "Using cached seaborn-0.13.2-py3-none-any.whl (294 kB)\n",
      "Using cached matplotlib-3.9.2-cp313-cp313-win_amd64.whl (7.8 MB)\n",
      "Using cached cycler-0.12.1-py3-none-any.whl (8.3 kB)\n",
      "Using cached fonttools-4.54.1-cp313-cp313-win_amd64.whl (2.2 MB)\n",
      "Using cached kiwisolver-1.4.7-cp313-cp313-win_amd64.whl (55 kB)\n",
      "Using cached pyparsing-3.2.0-py3-none-any.whl (106 kB)\n",
      "Installing collected packages: pyparsing, kiwisolver, fonttools, cycler, matplotlib, seaborn\n",
      "Successfully installed cycler-0.12.1 fonttools-4.54.1 kiwisolver-1.4.7 matplotlib-3.9.2 pyparsing-3.2.0 seaborn-0.13.2\n"
     ]
    }
   ],
   "source": [
    "# !pip install seaborn"
   ]
  },
  {
   "cell_type": "code",
   "execution_count": 3,
   "id": "1d8df2c2-73bb-490f-8084-149af6ebeba6",
   "metadata": {},
   "outputs": [],
   "source": [
    "import pandas as pd\n",
    "import seaborn as sns"
   ]
  },
  {
   "cell_type": "markdown",
   "id": "7c929b40-21dd-4bff-8c87-c0cf4cbf1ba5",
   "metadata": {},
   "source": [
    "### Function: `plot_lfp_time_and_heatmap`\n",
    "\n",
    "#### Purpose:\n",
    "This function generates a heatmap of the Local Field Potentials (LFP) over time, grouped by different brain areas. It visualizes the aggregate LFP data across all trials and provides insights into how LFP values change over time within each brain area.\n",
    "\n",
    "#### Parameters:\n",
    "- `df`: (pandas DataFrame) The input DataFrame containing the LFP data. The DataFrame should have the following columns:\n",
    "  - `brain_area_lfp`: Brain area where the LFP was recorded. It contains values such as 'ACA', 'LS', 'MOs', 'CA3', 'DG', 'SUB', 'VISp'.\n",
    "  - `time`: Time points at which the LFP was recorded.\n",
    "  - `lfp`: Local Field Potential values recorded for the corresponding brain area and time.\n",
    "- `agg`: (string, default='mean') The aggregation method to apply when grouping LFP values. It can be any aggregation function accepted by pandas (e.g., 'mean', 'median', 'sum', 'max', 'min').\n",
    "\n",
    "#### Output:\n",
    "- A seaborn heatmap of the LFP values over time for different brain areas. Each row in the heatmap corresponds to a brain area, and each column represents a time point. The color intensity of the heatmap represents the aggregated LFP values.\n",
    "\n",
    "#### Example Usage:\n",
    "```python\n",
    "heatmap = plot_lfp_time_and_heatmap(df, agg='mean')\n",
    "```\n",
    "This example will generate a heatmap of mean LFP values across all trials for each brain area.\n",
    "\n",
    "#### Internal <font color='red'>[should this read \"Initial\"? Or does \"Internal\" refer to steps inside function?]</font> Steps:\n",
    "1. The function groups the data by `brain_area_lfp` and `time`, then applies the specified aggregation method to the `lfp` values.\n",
    "2. The resulting aggregated data is reshaped using the `unstack()` method, creating a matrix where the rows represent the brain areas and the columns represent time points.\n",
    "3. A seaborn heatmap is generated to visualize the matrix, where the color scale reflects the magnitude of the LFP values."
   ]
  },
  {
   "cell_type": "code",
   "execution_count": 4,
   "id": "eff2ddbe-a82f-40ce-95f9-d0ee6ec0471f",
   "metadata": {},
   "outputs": [],
   "source": [
    "def plot_lfp_time_and_heatmap(df, agg='mean'):\n",
    "    group = df.groupby(['brain_area_lfp', 'time'])['lfp'].agg(agg).unstack()\n",
    "    heatmap = sns.heatmap(group);\n",
    "    return heatmap"
   ]
  },
  {
   "cell_type": "markdown",
   "id": "90890ad2-f737-4bfe-b02a-126c67c3f354",
   "metadata": {},
   "source": [
    "### Function: `plot_lfp_for_brain_area`\n",
    "\n",
    "#### Purpose:\n",
    "This function creates a line plot of the Local Field Potentials (LFP) for a specific brain area over time. It allows the user to examine the dynamics of LFP values within a selected brain area.\n",
    "\n",
    "#### Parameters:\n",
    "- `df`: (pandas DataFrame) The input DataFrame containing LFP data. It should have the following columns:\n",
    "  - `brain_area_lfp`: Brain area where the LFP was recorded. It contains values like 'ACA', 'LS', 'MOs', 'CA3', 'DG', 'SUB', 'VISp'.\n",
    "  - `time`: Time points at which the LFP was recorded.\n",
    "  - `lfp`: Local Field Potential values recorded for the corresponding brain area and time.\n",
    "- `brain_area`: (string, default='VISp') The brain area for which the LFP data will be plotted. The default value is 'VISp'. The user can specify any brain area from the list present in the DataFrame, such as 'ACA', 'LS', 'MOs', etc.\n",
    "\n",
    "#### Output:\n",
    "- A seaborn line plot showing the LFP values over time for the specified brain area. The plot includes confidence intervals based on bootstrapping (n=20 by default).\n",
    "\n",
    "#### Example Usage:\n",
    "```python\n",
    "plot_lfp_for_brain_area(df, brain_area='ACA')\n",
    "```\n",
    "This example will generate a line plot of LFP values over time for the brain area 'ACA'.\n",
    "\n",
    "#### Internal <font color='red'>[Same here. \"Initial\", or does \"Internal\" refer to steps inside function?]</font> Steps:\n",
    "1. The function creates a mask to filter the rows of the DataFrame where the `brain_area_lfp` column matches the specified brain area.\n",
    "2. It then generates a line plot using seaborn's `relplot` function, where the x-axis represents `time` and the y-axis represents `lfp`.\n",
    "3. The plot includes confidence intervals generated by bootstrapping the data with 20 samples (n_boot=20).\n"
   ]
  },
  {
   "cell_type": "code",
   "execution_count": 5,
   "id": "6c364a15-321f-46b9-abb4-a5f49778a14c",
   "metadata": {},
   "outputs": [],
   "source": [
    "def plot_lfp_for_brain_area(df, brain_area='VISp'):\n",
    "        mask = df['brain_area_lfp'] == brain_area\n",
    "        return sns.relplot(data=df[mask], x='time', y='lfp', kind='line', n_boot=20);"
   ]
  }
 ],
 "metadata": {
  "kernelspec": {
   "display_name": "notebook_driven_development_test",
   "language": "python",
   "name": "python3"
  },
  "language_info": {
   "codemirror_mode": {
    "name": "ipython",
    "version": 3
   },
   "file_extension": ".py",
   "mimetype": "text/x-python",
   "name": "python",
   "nbconvert_exporter": "python",
   "pygments_lexer": "ipython3",
   "version": "3.13.0"
  }
 },
 "nbformat": 4,
 "nbformat_minor": 5
}
