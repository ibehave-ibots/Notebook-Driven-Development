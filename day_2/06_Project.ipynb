{
 "cells": [
  {
   "cell_type": "code",
   "execution_count": 1,
   "id": "dc0547a7-e8f6-43b9-ad27-1bb447ba2c87",
   "metadata": {},
   "outputs": [],
   "source": [
    "# !pip install numpy pandas hvplot"
   ]
  },
  {
   "cell_type": "markdown",
   "id": "4a0a2be2",
   "metadata": {},
   "source": [
    "# Project\n",
    "\n",
    "Accessing functions from steinmetz_stats.py and steinmetz_plots.ipynb for your analysis. "
   ]
  },
  {
   "cell_type": "code",
   "execution_count": 2,
   "id": "f554ae3b-78a3-4aff-8826-c6d8bae0ec9c",
   "metadata": {},
   "outputs": [],
   "source": [
    "import numpy as np\n",
    "import pandas as pd"
   ]
  },
  {
   "cell_type": "code",
   "execution_count": 3,
   "id": "8df0c666-14d2-47aa-9d7f-72a41dad034b",
   "metadata": {},
   "outputs": [
    {
     "name": "stderr",
     "output_type": "stream",
     "text": [
      "Downloading data_project/2016-12-14_Cori.csv: 100%|██████████| 25.5M/25.5M [00:07<00:00, 3.63MB/s]\n",
      "Downloading data_project/steinmetz_plots.ipynb: 100%|██████████| 5.55k/5.55k [00:00<00:00, 5.56MB/s]\n",
      "Downloading data_project/steinmetz_stats.py: 100%|██████████| 2.41k/2.41k [00:00<00:00, 250kB/s]\n"
     ]
    }
   ],
   "source": [
    "import sys\n",
    "sys.path.append('src')\n",
    "import sciebo\n",
    "\n",
    "sciebo.download_file('https://uni-bonn.sciebo.de/s/nih6mIiDSLOlPHU', 'data_project/2016-12-14_Cori.csv')\n",
    "sciebo.download_file('https://uni-bonn.sciebo.de/s/DoUyHnkeTXSvMAL', 'data_project/steinmetz_plots.ipynb')\n",
    "sciebo.download_file('https://uni-bonn.sciebo.de/s/yaYzNc6eR5LGfTo', 'data_project/steinmetz_stats.py')"
   ]
  },
  {
   "cell_type": "code",
   "execution_count": 4,
   "id": "e09540bb-3c4f-4fdf-9251-cd77fd18b828",
   "metadata": {},
   "outputs": [
    {
     "data": {
      "text/html": [
       "<div>\n",
       "<style scoped>\n",
       "    .dataframe tbody tr th:only-of-type {\n",
       "        vertical-align: middle;\n",
       "    }\n",
       "\n",
       "    .dataframe tbody tr th {\n",
       "        vertical-align: top;\n",
       "    }\n",
       "\n",
       "    .dataframe thead th {\n",
       "        text-align: right;\n",
       "    }\n",
       "</style>\n",
       "<table border=\"1\" class=\"dataframe\">\n",
       "  <thead>\n",
       "    <tr style=\"text-align: right;\">\n",
       "      <th></th>\n",
       "      <th>brain_area_lfp</th>\n",
       "      <th>trial</th>\n",
       "      <th>time</th>\n",
       "      <th>lfp</th>\n",
       "      <th>response_type</th>\n",
       "      <th>feedback_type</th>\n",
       "    </tr>\n",
       "  </thead>\n",
       "  <tbody>\n",
       "    <tr>\n",
       "      <th>0</th>\n",
       "      <td>ACA</td>\n",
       "      <td>1</td>\n",
       "      <td>0.01</td>\n",
       "      <td>-2.850794</td>\n",
       "      <td>1.0</td>\n",
       "      <td>1.0</td>\n",
       "    </tr>\n",
       "    <tr>\n",
       "      <th>1</th>\n",
       "      <td>ACA</td>\n",
       "      <td>1</td>\n",
       "      <td>0.02</td>\n",
       "      <td>-4.039683</td>\n",
       "      <td>1.0</td>\n",
       "      <td>1.0</td>\n",
       "    </tr>\n",
       "    <tr>\n",
       "      <th>2</th>\n",
       "      <td>ACA</td>\n",
       "      <td>1</td>\n",
       "      <td>0.03</td>\n",
       "      <td>-4.195238</td>\n",
       "      <td>1.0</td>\n",
       "      <td>1.0</td>\n",
       "    </tr>\n",
       "    <tr>\n",
       "      <th>3</th>\n",
       "      <td>ACA</td>\n",
       "      <td>1</td>\n",
       "      <td>0.04</td>\n",
       "      <td>-3.228571</td>\n",
       "      <td>1.0</td>\n",
       "      <td>1.0</td>\n",
       "    </tr>\n",
       "    <tr>\n",
       "      <th>4</th>\n",
       "      <td>ACA</td>\n",
       "      <td>1</td>\n",
       "      <td>0.05</td>\n",
       "      <td>0.460317</td>\n",
       "      <td>1.0</td>\n",
       "      <td>1.0</td>\n",
       "    </tr>\n",
       "  </tbody>\n",
       "</table>\n",
       "</div>"
      ],
      "text/plain": [
       "  brain_area_lfp  trial  time       lfp  response_type  feedback_type\n",
       "0            ACA      1  0.01 -2.850794            1.0            1.0\n",
       "1            ACA      1  0.02 -4.039683            1.0            1.0\n",
       "2            ACA      1  0.03 -4.195238            1.0            1.0\n",
       "3            ACA      1  0.04 -3.228571            1.0            1.0\n",
       "4            ACA      1  0.05  0.460317            1.0            1.0"
      ]
     },
     "execution_count": 4,
     "metadata": {},
     "output_type": "execute_result"
    }
   ],
   "source": [
    "df = pd.read_csv(\"data_project/2016-12-14_Cori.csv\")\n",
    "df.head(5)"
   ]
  }
 ],
 "metadata": {
  "kernelspec": {
   "display_name": "ndd",
   "language": "python",
   "name": "python3"
  },
  "language_info": {
   "codemirror_mode": {
    "name": "ipython",
    "version": 3
   },
   "file_extension": ".py",
   "mimetype": "text/x-python",
   "name": "python",
   "nbconvert_exporter": "python",
   "pygments_lexer": "ipython3",
   "version": "3.12.7"
  }
 },
 "nbformat": 4,
 "nbformat_minor": 5
}
