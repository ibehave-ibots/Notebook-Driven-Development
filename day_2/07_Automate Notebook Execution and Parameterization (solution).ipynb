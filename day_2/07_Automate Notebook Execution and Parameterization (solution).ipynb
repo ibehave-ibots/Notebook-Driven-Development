{
 "cells": [
  {
   "cell_type": "code",
   "execution_count": 1,
   "id": "42876d32-5d40-40f4-abad-ce46f1e23851",
   "metadata": {},
   "outputs": [],
   "source": [
    "# !pip install papermill nbconvert jupytext"
   ]
  },
  {
   "cell_type": "code",
   "execution_count": 2,
   "id": "c7396ea5-e22d-4568-bcc6-c949dd7204fd",
   "metadata": {},
   "outputs": [],
   "source": [
    "import papermill as pm"
   ]
  },
  {
   "cell_type": "markdown",
   "id": "8bcc4f64-54d2-4b67-8810-18214284da75",
   "metadata": {},
   "source": [
    "# Automate Notebook Execution and Parameterization\n",
    "\n",
    "In this notebook we learn how to use command-line tools automate the execution and management of Jupyter notebooks. \n",
    "We start by learning how to run command-line commands, like managing files or installing software, directly from the notebook. \n",
    "Then, we explore how to run entire notebooks from the command line, which helps when we need to automate tasks. \n",
    "We then see how to pass in parameters to a template notebook to generate automated analysis reports.\n",
    "We also see how to do batch processing of notebooks using Papermill."
   ]
  },
  {
   "cell_type": "markdown",
   "id": "e8a26f42-2c0e-4757-a4be-6896a9abceb4",
   "metadata": {},
   "source": [
    "## Running Command-Line Commands in Jupyter\n",
    "\n",
    "A command line is a text-based interface that allows users to interact with their computer’s operating system by typing commands, rather than using graphical interfaces.\n",
    "In this interface, users can navigate directories, manage files, run programs, and perform a wide range of tasks by typing specific commands.\n",
    "Popular command-line environments include Bash (common in Linux and macOS) and the Windows Command Prompt or PowerShell.\n",
    "\n",
    "As researchers we may need to use command-line for file management (move, rename, delete, or organize datasets), automate repeating tasks that may involve external tools, install software etc. \n",
    "\n",
    "Incorporating command-line commands into our analysis notebooks allows us to integrate external tools, automate repeating tasks, and manage data all within the same environment. \n",
    "\n",
    "**Run below code to downlaod data for this section. You do not have to know the contents of the file as we are only learning how to manage files**"
   ]
  },
  {
   "cell_type": "code",
   "execution_count": 3,
   "id": "1996a51c-b4c8-4170-8893-c19d40b24163",
   "metadata": {},
   "outputs": [
    {
     "name": "stderr",
     "output_type": "stream",
     "text": [
      "Downloading command_line/text_config.txt: 100%|██████████| 79.0/79.0 [00:00<00:00, 82.7kB/s]\n",
      "Downloading command_line/python_config.py: 100%|██████████| 80.0/80.0 [00:00<00:00, 75.7kB/s]\n",
      "Downloading command_line/notebook_config.ipynb: 100%|██████████| 2.41k/2.41k [00:00<00:00, 2.41MB/s]\n"
     ]
    }
   ],
   "source": [
    "import sys\n",
    "sys.path.append('src')\n",
    "import sciebo\n",
    "\n",
    "sciebo.download_file('https://uni-bonn.sciebo.de/s/yDiGZT44SXLvK5r', 'command_line/text_config.txt')\n",
    "sciebo.download_file('https://uni-bonn.sciebo.de/s/apw9RMXjgfhQaK5', 'command_line/python_config.py')\n",
    "sciebo.download_file('https://uni-bonn.sciebo.de/s/lwVMGbzKQXFuIax', 'command_line/notebook_config.ipynb')"
   ]
  },
  {
   "cell_type": "markdown",
   "id": "a605215f-2769-4b39-bb7f-4b0b113e8f8d",
   "metadata": {},
   "source": [
    "**Example** Install `pandas`"
   ]
  },
  {
   "cell_type": "code",
   "execution_count": 4,
   "id": "5fe656bc-129a-41f2-8a69-b4ae6b943f1c",
   "metadata": {},
   "outputs": [],
   "source": [
    "# !pip install pandas"
   ]
  },
  {
   "cell_type": "markdown",
   "id": "0d956b96-f449-44b9-bab6-871bb1abc912",
   "metadata": {},
   "source": [
    "Install `numpy`"
   ]
  },
  {
   "cell_type": "code",
   "execution_count": 5,
   "id": "02b334e3-29c7-49d6-889a-7b2287dd78f0",
   "metadata": {},
   "outputs": [],
   "source": [
    "# !pip install numpy"
   ]
  },
  {
   "cell_type": "markdown",
   "id": "8b5edc6a-f6ed-4b54-a6b4-ca74a531a502",
   "metadata": {},
   "source": [
    "Install seaborn"
   ]
  },
  {
   "cell_type": "code",
   "execution_count": 6,
   "id": "21ed7160-20d1-46e9-93f8-d2c70f4f2782",
   "metadata": {},
   "outputs": [],
   "source": [
    "# !pip install seaborn"
   ]
  },
  {
   "cell_type": "markdown",
   "id": "bfc7c6b2-c365-4a5b-80d1-640d6d8fcc18",
   "metadata": {},
   "source": [
    "You can use any option that comes along with the command-line command"
   ]
  },
  {
   "cell_type": "markdown",
   "id": "7a2569b3-858d-40b0-9c91-1d8fc62e3cec",
   "metadata": {},
   "source": [
    "**Example** Upgrade matplotlib"
   ]
  },
  {
   "cell_type": "code",
   "execution_count": 7,
   "id": "351bb5ba-89eb-44ac-b1bd-333264432974",
   "metadata": {},
   "outputs": [],
   "source": [
    "# !pip install --upgrade matplotlib"
   ]
  },
  {
   "cell_type": "markdown",
   "id": "48fdf38d-e7c9-465d-9632-ba157c52181f",
   "metadata": {},
   "source": [
    "Upgrade seaborn"
   ]
  },
  {
   "cell_type": "code",
   "execution_count": 8,
   "id": "a2ecb8b4-6ff4-42e1-ad95-9813bab29e72",
   "metadata": {},
   "outputs": [],
   "source": [
    "# !pip install --upgrade seaborn"
   ]
  },
  {
   "cell_type": "markdown",
   "id": "b1368d5c-e13c-4fbc-a85f-ec7230137931",
   "metadata": {},
   "source": [
    "Upgrade nbformat"
   ]
  },
  {
   "cell_type": "code",
   "execution_count": 9,
   "id": "43aa83ed-1111-424e-92d9-bde1bdc61365",
   "metadata": {},
   "outputs": [],
   "source": [
    "# !pip install --upgrade nbformat"
   ]
  },
  {
   "cell_type": "markdown",
   "id": "1b9b30c8",
   "metadata": {},
   "source": [
    "Let's practice converting scripts to notebooks\n",
    "\n",
    "**Example** Convert `script.py` (run below code to generate the file) to notebook. How does the resulting notebook look?"
   ]
  },
  {
   "cell_type": "code",
   "execution_count": 10,
   "id": "97a9d734",
   "metadata": {},
   "outputs": [
    {
     "name": "stdout",
     "output_type": "stream",
     "text": [
      "Overwriting script.py\n"
     ]
    }
   ],
   "source": [
    "%%writefile script.py\n",
    "num_mouse = 10\n",
    "num_contrast_left = 4\n",
    "num_contrast_right = 4"
   ]
  },
  {
   "cell_type": "code",
   "execution_count": 11,
   "id": "27471dbb",
   "metadata": {},
   "outputs": [
    {
     "name": "stdout",
     "output_type": "stream",
     "text": [
      "[jupytext] Reading script.py in format py\n",
      "[jupytext] Writing script.ipynb (destination file replaced [use --update to preserve cell outputs and ids])\n"
     ]
    }
   ],
   "source": [
    "!jupytext --to notebook script.py"
   ]
  },
  {
   "cell_type": "markdown",
   "id": "e0101812",
   "metadata": {},
   "source": [
    "Convert `script.py` (run below code to generate the file) to notebook. How does the resulting notebook look?"
   ]
  },
  {
   "cell_type": "code",
   "execution_count": 12,
   "id": "06cc694a",
   "metadata": {},
   "outputs": [
    {
     "name": "stdout",
     "output_type": "stream",
     "text": [
      "Overwriting script.py\n"
     ]
    }
   ],
   "source": [
    "%%writefile script.py\n",
    "num_mouse = 10\n",
    "num_contrast_left = 4\n",
    "num_contrast_right = 4\n",
    "\n",
    "print(num_mouse)"
   ]
  },
  {
   "cell_type": "code",
   "execution_count": 13,
   "id": "d21d2161",
   "metadata": {},
   "outputs": [
    {
     "name": "stdout",
     "output_type": "stream",
     "text": [
      "[jupytext] Reading script.py in format py\n",
      "[jupytext] Writing script.ipynb (destination file replaced [use --update to preserve cell outputs and ids])\n"
     ]
    }
   ],
   "source": [
    "!jupytext --to notebook script.py"
   ]
  },
  {
   "cell_type": "markdown",
   "id": "46b4a8f3",
   "metadata": {},
   "source": [
    "Convert `script.py` (run below code to generate the file) to notebook. How does the resulting notebook look?"
   ]
  },
  {
   "cell_type": "code",
   "execution_count": 14,
   "id": "cee41879",
   "metadata": {},
   "outputs": [
    {
     "name": "stdout",
     "output_type": "stream",
     "text": [
      "Overwriting script.py\n"
     ]
    }
   ],
   "source": [
    "%%writefile script.py\n",
    "num_mouse = 10\n",
    "num_contrast_left = 4\n",
    "num_contrast_right = 4\n",
    "\n",
    "num_mouse"
   ]
  },
  {
   "cell_type": "code",
   "execution_count": 15,
   "id": "1a4bfe13",
   "metadata": {},
   "outputs": [
    {
     "name": "stdout",
     "output_type": "stream",
     "text": [
      "[jupytext] Reading script.py in format py\n",
      "[jupytext] Writing script.ipynb (destination file replaced [use --update to preserve cell outputs and ids])\n"
     ]
    }
   ],
   "source": [
    "!jupytext --to notebook script.py"
   ]
  },
  {
   "cell_type": "markdown",
   "id": "b42801e4",
   "metadata": {},
   "source": [
    "Convert `script.py` (run below code to generate the file) to notebook. How does the resulting notebook look?"
   ]
  },
  {
   "cell_type": "code",
   "execution_count": 16,
   "id": "581604d9",
   "metadata": {},
   "outputs": [],
   "source": [
    "# %% [markdown]\n",
    "# Title\n",
    "\n",
    "# %%\n",
    "a = 10"
   ]
  },
  {
   "cell_type": "code",
   "execution_count": 17,
   "id": "7d0f575e",
   "metadata": {},
   "outputs": [
    {
     "name": "stdout",
     "output_type": "stream",
     "text": [
      "[jupytext] Reading script.py in format py\n",
      "[jupytext] Writing script.ipynb (destination file replaced [use --update to preserve cell outputs and ids])\n"
     ]
    }
   ],
   "source": [
    "!jupytext --to notebook script.py"
   ]
  },
  {
   "cell_type": "markdown",
   "id": "d4aedaa7",
   "metadata": {},
   "source": [
    "Create `script.py` with the a title \"Data Analysis\" and a=10, b=100. Convert it to notebook. How does the resulting notebook look?"
   ]
  },
  {
   "cell_type": "code",
   "execution_count": 18,
   "id": "b12d389a",
   "metadata": {},
   "outputs": [],
   "source": [
    "# %% [markdown]\n",
    "# Data Analysis\n",
    "\n",
    "# %%\n",
    "a=10\n",
    "b=10"
   ]
  },
  {
   "cell_type": "code",
   "execution_count": 19,
   "id": "c6021f2b",
   "metadata": {},
   "outputs": [
    {
     "name": "stdout",
     "output_type": "stream",
     "text": [
      "[jupytext] Reading script.py in format py\n",
      "[jupytext] Writing script.ipynb (destination file replaced [use --update to preserve cell outputs and ids])\n"
     ]
    }
   ],
   "source": [
    "!jupytext --to notebook script.py"
   ]
  },
  {
   "cell_type": "markdown",
   "id": "437b2134-9d62-47cb-8b45-a67164de0c97",
   "metadata": {},
   "source": [
    "**Example** Create a new directory called `data_1`"
   ]
  },
  {
   "cell_type": "code",
   "execution_count": 20,
   "id": "3c1ddcdf-9e9d-4aa9-9cee-bd744f176f7e",
   "metadata": {},
   "outputs": [],
   "source": [
    "!mkdir data_1"
   ]
  },
  {
   "cell_type": "markdown",
   "id": "7876eec0-cf45-49ae-89a9-9b375043a221",
   "metadata": {},
   "source": [
    "Create a new directory `data_2`"
   ]
  },
  {
   "cell_type": "code",
   "execution_count": 21,
   "id": "ae8bff92-d2cd-416e-8e72-011b9bc796dc",
   "metadata": {},
   "outputs": [],
   "source": [
    "!mkdir data_2"
   ]
  },
  {
   "cell_type": "markdown",
   "id": "dd185198-f5b6-4e25-a003-2a6e362057de",
   "metadata": {},
   "source": [
    "Create a new directory `data_1/data_1_sub`\n",
    "\n",
    "(`data_1\\data_1_sub` for windows machines)"
   ]
  },
  {
   "cell_type": "code",
   "execution_count": 22,
   "id": "359f1dc0-ed2a-4ca5-9324-db1e5e6195ce",
   "metadata": {},
   "outputs": [],
   "source": [
    "!mkdir data_1\\data_1_sub"
   ]
  },
  {
   "cell_type": "markdown",
   "id": "5a54e792-8afb-4963-8b88-84475be0c969",
   "metadata": {},
   "source": [
    "We can run Linux command-line commands within a cell using %%bash\n",
    "\n",
    "**Example** Copy `magic_commands/hello.py` to `data_1` directory"
   ]
  },
  {
   "cell_type": "code",
   "execution_count": 23,
   "id": "af6b8ae4-4cde-4530-ab03-9ce13e3edcba",
   "metadata": {},
   "outputs": [],
   "source": [
    "%%bash\n",
    "cp command_line/python_config.py data_1/python_config.py"
   ]
  },
  {
   "cell_type": "markdown",
   "id": "654ba857-6673-499a-811a-902f492f3cea",
   "metadata": {},
   "source": [
    "Copy `magic_commands/text_config.txt` to `data_1`"
   ]
  },
  {
   "cell_type": "code",
   "execution_count": 24,
   "id": "a41c71d7-7416-4c4b-b8a0-70fac5e764bb",
   "metadata": {},
   "outputs": [],
   "source": [
    "%%bash\n",
    "cp command_line/text_config.txt data_1/text_config.txt"
   ]
  },
  {
   "cell_type": "markdown",
   "id": "5b0872bb-66eb-4ceb-ada0-3f43a0e05b05",
   "metadata": {},
   "source": [
    "Copy `magic_commands/notebook_config.ipynb` to `data_1/data_1_sub` with a name `nb_config.ipynb`"
   ]
  },
  {
   "cell_type": "code",
   "execution_count": 25,
   "id": "a57def14-dbd1-4168-b266-b4ee6f82abc8",
   "metadata": {},
   "outputs": [],
   "source": [
    "%%bash\n",
    "cp command_line/notebook_config.ipynb data_1/data_1_sub/nb_config.ipynb"
   ]
  },
  {
   "cell_type": "code",
   "execution_count": 26,
   "id": "4a18a6a1-e4ce-48a0-97ce-50b5e95694e5",
   "metadata": {},
   "outputs": [],
   "source": [
    "%%bash\n",
    "rm data_1/text_config.txt"
   ]
  },
  {
   "cell_type": "markdown",
   "id": "f48aefca-d19d-4e41-835f-a3890787f98f",
   "metadata": {},
   "source": [
    "Delete `data_1/python_config.txt` (Only file)"
   ]
  },
  {
   "cell_type": "code",
   "execution_count": 27,
   "id": "14c573a0-7d5e-416c-8868-71a74dbb9b7f",
   "metadata": {},
   "outputs": [],
   "source": [
    "%%bash\n",
    "rm data_1/python_config.py"
   ]
  },
  {
   "cell_type": "markdown",
   "id": "ab460ad8-1e82-4ef0-aef7-ebe0ad8edbae",
   "metadata": {},
   "source": [
    "Delete `data_2` directory"
   ]
  },
  {
   "cell_type": "code",
   "execution_count": 28,
   "id": "e027268a-a966-4877-a3de-d660e49b4501",
   "metadata": {},
   "outputs": [],
   "source": [
    "%%bash\n",
    "rm -r data_2"
   ]
  },
  {
   "cell_type": "markdown",
   "id": "508613d6-3805-4ca4-8731-b444134799da",
   "metadata": {},
   "source": [
    "Delete `data_1` including sub-directories"
   ]
  },
  {
   "cell_type": "code",
   "execution_count": 29,
   "id": "80e40a23",
   "metadata": {},
   "outputs": [],
   "source": [
    "%%bash\n",
    "rm -r data_1"
   ]
  },
  {
   "cell_type": "markdown",
   "id": "2224c9ef-cc94-4100-956f-b2a12edc7c89",
   "metadata": {},
   "source": [
    "---"
   ]
  },
  {
   "cell_type": "markdown",
   "id": "e22ef9d2-cd30-4e92-8b44-c0608f9416ea",
   "metadata": {},
   "source": [
    "**Run below code to download data for this section**"
   ]
  },
  {
   "cell_type": "code",
   "execution_count": 1,
   "id": "bcb7e55d-e19f-44a0-8384-f8642189e7b8",
   "metadata": {},
   "outputs": [
    {
     "name": "stderr",
     "output_type": "stream",
     "text": [
      "Downloading data/2016-12-14_Cori.csv: 100%|██████████| 25.5M/25.5M [00:06<00:00, 4.17MB/s]\n",
      "Downloading parameterization/01_notebook_brain_area.ipynb: 100%|██████████| 4.29k/4.29k [00:00<?, ?B/s]\n",
      "Downloading parameterization/02_notebook_fixed_response.ipynb: 100%|██████████| 2.36k/2.36k [00:00<00:00, 2.36MB/s]\n",
      "Downloading parameterization/03_notebook_fixed_feedback.ipynb: 100%|██████████| 2.37k/2.37k [00:00<00:00, 226kB/s]\n"
     ]
    }
   ],
   "source": [
    "import sys\n",
    "sys.path.append('src')\n",
    "import sciebo\n",
    "\n",
    "sciebo.download_file('https://uni-bonn.sciebo.de/s/nih6mIiDSLOlPHU', 'data/2016-12-14_Cori.csv')\n",
    "sciebo.download_file('https://uni-bonn.sciebo.de/s/dkPOipzGNjkBiXQ', 'parameterization/01_notebook_brain_area.ipynb')\n",
    "sciebo.download_file('https://uni-bonn.sciebo.de/s/WReS5HIxAK8cws4', 'parameterization/02_notebook_fixed_response.ipynb')\n",
    "sciebo.download_file('https://uni-bonn.sciebo.de/s/QxcX90gL9B7paar', 'parameterization/03_notebook_fixed_feedback.ipynb')"
   ]
  },
  {
   "cell_type": "markdown",
   "id": "d7e2ddba-c6b7-484b-bf92-7b83518ae117",
   "metadata": {},
   "source": [
    "## Executing Notebooks from Command Line\n",
    "\n",
    "Running a notebook from command-line can be useful to automate execution of Jupyter notebook as part of a workflow or pipeline.\n",
    "It can help us integrate it with task scheduling tools to perform routine tasks without manually opening and running the notebook.\n",
    "Another use would be when dealing with multiple notebooks, running from command-line allows for batch processing enabling us to execute several notebooks sequentially without manually interacting with each one.\n",
    "\n",
    "Here we will look into a tool called `papermill` that can execute notebooks from command-line. For this, we use three notebooks\n",
    "\n",
    "1. `parameterization/01_notebook_brain_area.ipynb`: Filters 2016-12-14_Cori.csv to a selected brain area to make a processed csv file. By default, it will be `VISp`\n",
    "2. `parameterization/02_notebook_fixed_response.ipynb`: Based on the selected response type, it examines how feedback affects LFP signals in the brain area using the processed csv.\n",
    "3. `parameterization/03_notebook_fixed_feedback.ipynb`: Based on the selected feedback type, it examines how mice's response affects LFP signals in the brain area using the processed csv.\n",
    "\n",
    "\n",
    "Notebooks 2 and 3 are not dependent on each other.\n",
    "Both use the output from `notebook 1` for their analysis. "
   ]
  },
  {
   "cell_type": "markdown",
   "id": "dabf7941-b2a7-44e2-b79a-f3dc0a074ea0",
   "metadata": {},
   "source": [
    "**Example** Execute notebook1 as `output.ipynb` and examine it. Was any other file generated from this?"
   ]
  },
  {
   "cell_type": "code",
   "execution_count": 31,
   "id": "431aebbe-757c-4ba5-8eac-cb380f3f5484",
   "metadata": {},
   "outputs": [
    {
     "name": "stderr",
     "output_type": "stream",
     "text": [
      "Input Notebook:  parameterization/01_notebook_brain_area.ipynb\n",
      "Output Notebook: output.ipynb\n",
      "\n",
      "Executing:   0%|          | 0/18 [00:00<?, ?cell/s]Executing notebook with kernel: python3\n",
      "\n",
      "Executing:   6%|▌         | 1/18 [00:02<00:44,  2.59s/cell]\n",
      "Executing:  11%|█         | 2/18 [00:03<00:22,  1.41s/cell]\n",
      "Executing:  33%|███▎      | 6/18 [00:03<00:04,  2.59cell/s]\n",
      "Executing:  56%|█████▌    | 10/18 [00:03<00:01,  5.00cell/s]\n",
      "Executing:  89%|████████▉ | 16/18 [00:03<00:00,  9.62cell/s]\n",
      "Executing: 100%|██████████| 18/18 [00:04<00:00,  4.12cell/s]\n"
     ]
    }
   ],
   "source": [
    "!papermill parameterization/01_notebook_brain_area.ipynb output.ipynb"
   ]
  },
  {
   "cell_type": "markdown",
   "id": "3b2c4268-79ad-4d47-a09c-6dd13a61462b",
   "metadata": {},
   "source": [
    "Execute notebook 2 as `output.ipynb` and examine the output."
   ]
  },
  {
   "cell_type": "code",
   "execution_count": 32,
   "id": "1328b0b1-57ba-428c-ab39-fcf727f9e590",
   "metadata": {},
   "outputs": [
    {
     "name": "stderr",
     "output_type": "stream",
     "text": [
      "Input Notebook:  parameterization/02_notebook_fixed_response.ipynb\n",
      "Output Notebook: output.ipynb\n",
      "\n",
      "Executing:   0%|          | 0/8 [00:00<?, ?cell/s]Executing notebook with kernel: python3\n",
      "\n",
      "Executing:  12%|█▎        | 1/8 [00:03<00:22,  3.16s/cell]\n",
      "Executing:  88%|████████▊ | 7/8 [00:03<00:00,  2.89cell/s]\n",
      "Executing: 100%|██████████| 8/8 [00:04<00:00,  1.82cell/s]\n"
     ]
    }
   ],
   "source": [
    "!papermill parameterization/02_notebook_fixed_response.ipynb output.ipynb"
   ]
  },
  {
   "cell_type": "markdown",
   "id": "1ac9c23d-51d3-4a5e-bb9f-18c90d3e2907",
   "metadata": {},
   "source": [
    "Execute notebook 3 as `output.ipynb` and examine the output."
   ]
  },
  {
   "cell_type": "code",
   "execution_count": 33,
   "id": "31d82c8d-d817-4b36-9966-3a8e4b2fb713",
   "metadata": {},
   "outputs": [
    {
     "name": "stderr",
     "output_type": "stream",
     "text": [
      "Input Notebook:  parameterization/03_notebook_fixed_feedback.ipynb\n",
      "Output Notebook: output.ipynb\n",
      "\n",
      "Executing:   0%|          | 0/8 [00:00<?, ?cell/s]Executing notebook with kernel: python3\n",
      "\n",
      "Executing:  12%|█▎        | 1/8 [00:03<00:22,  3.26s/cell]\n",
      "Executing: 100%|██████████| 8/8 [00:04<00:00,  2.24cell/s]\n",
      "Executing: 100%|██████████| 8/8 [00:04<00:00,  1.68cell/s]\n"
     ]
    }
   ],
   "source": [
    "!papermill parameterization/03_notebook_fixed_feedback.ipynb output.ipynb"
   ]
  },
  {
   "cell_type": "markdown",
   "id": "baf4edfe-c280-42e0-ac2c-5ee1730077dc",
   "metadata": {},
   "source": [
    "Delete `output_data/processed_brain_area.csv` file.\n",
    "\n",
    "Execute notebook 3 as `output.ipynb` and examine it. What do you see?"
   ]
  },
  {
   "cell_type": "code",
   "execution_count": 34,
   "id": "979869f4-055a-43de-94ce-a8459d53d91a",
   "metadata": {},
   "outputs": [],
   "source": [
    "# !papermill parameterization/03_notebook_fixed_feedback.ipynb output.ipynb"
   ]
  },
  {
   "cell_type": "markdown",
   "id": "f515468a-f138-4460-b9ab-89797378c391",
   "metadata": {},
   "source": [
    "It gives an error in the output of the cell. \n",
    "In `data_analysis/output.ipynb`, you will see a huge error in red on top of the notebook and another red text before the cell where it encountered an error."
   ]
  },
  {
   "cell_type": "markdown",
   "id": "aa9c2208-8268-42f2-9ca9-7ca2ee3bb4d1",
   "metadata": {},
   "source": [
    "Let's see how to execute them sequentially\n",
    "\n",
    "**Example** Execute notebooks 1 and 2 one after the other."
   ]
  },
  {
   "cell_type": "code",
   "execution_count": 35,
   "id": "55f4a798-2f8b-4f8c-8fe5-2780ec64c1c0",
   "metadata": {},
   "outputs": [
    {
     "name": "stderr",
     "output_type": "stream",
     "text": [
      "Input Notebook:  parameterization/01_notebook_brain_area.ipynb\n",
      "Output Notebook: output_1.ipynb\n",
      "\n",
      "Executing:   0%|          | 0/18 [00:00<?, ?cell/s]Executing notebook with kernel: python3\n",
      "\n",
      "Executing:   6%|▌         | 1/18 [00:02<00:41,  2.43s/cell]\n",
      "Executing:  11%|█         | 2/18 [00:02<00:21,  1.33s/cell]\n",
      "Executing:  33%|███▎      | 6/18 [00:03<00:04,  2.73cell/s]\n",
      "Executing:  56%|█████▌    | 10/18 [00:03<00:01,  5.30cell/s]\n",
      "Executing:  89%|████████▉ | 16/18 [00:03<00:00, 10.22cell/s]\n",
      "Executing: 100%|██████████| 18/18 [00:04<00:00,  4.30cell/s]\n",
      "Input Notebook:  parameterization/02_notebook_fixed_response.ipynb\n",
      "Output Notebook: output_2.ipynb\n",
      "\n",
      "Executing:   0%|          | 0/8 [00:00<?, ?cell/s]Executing notebook with kernel: python3\n",
      "\n",
      "Executing:  12%|█▎        | 1/8 [00:03<00:22,  3.21s/cell]\n",
      "Executing:  75%|███████▌  | 6/8 [00:03<00:00,  2.43cell/s]\n",
      "Executing: 100%|██████████| 8/8 [00:04<00:00,  1.80cell/s]\n"
     ]
    }
   ],
   "source": [
    "!papermill parameterization/01_notebook_brain_area.ipynb output_1.ipynb\n",
    "!papermill parameterization/02_notebook_fixed_response.ipynb output_2.ipynb"
   ]
  },
  {
   "cell_type": "markdown",
   "id": "7d981c37-f314-4d72-be5f-8989362249b4",
   "metadata": {},
   "source": [
    "Execute notebooks 1 and 3 one after the other."
   ]
  },
  {
   "cell_type": "code",
   "execution_count": 36,
   "id": "2679ec8f-4169-430f-bde4-45bf2fa1fdc0",
   "metadata": {},
   "outputs": [
    {
     "name": "stderr",
     "output_type": "stream",
     "text": [
      "Input Notebook:  parameterization/01_notebook_brain_area.ipynb\n",
      "Output Notebook: output_1.ipynb\n",
      "\n",
      "Executing:   0%|          | 0/18 [00:00<?, ?cell/s]Executing notebook with kernel: python3\n",
      "\n",
      "Executing:   6%|▌         | 1/18 [00:02<00:36,  2.16s/cell]\n",
      "Executing:  11%|█         | 2/18 [00:02<00:19,  1.24s/cell]\n",
      "Executing:  33%|███▎      | 6/18 [00:03<00:04,  2.88cell/s]\n",
      "Executing:  56%|█████▌    | 10/18 [00:03<00:01,  5.59cell/s]\n",
      "Executing:  89%|████████▉ | 16/18 [00:03<00:00, 10.73cell/s]\n",
      "Executing: 100%|██████████| 18/18 [00:03<00:00,  4.72cell/s]\n",
      "Input Notebook:  parameterization/03_notebook_fixed_feedback.ipynb\n",
      "Output Notebook: output_3.ipynb\n",
      "\n",
      "Executing:   0%|          | 0/8 [00:00<?, ?cell/s]Executing notebook with kernel: python3\n",
      "\n",
      "Executing:  12%|█▎        | 1/8 [00:03<00:24,  3.55s/cell]\n",
      "Executing:  88%|████████▊ | 7/8 [00:03<00:00,  2.59cell/s]\n",
      "Executing: 100%|██████████| 8/8 [00:04<00:00,  1.61cell/s]\n"
     ]
    }
   ],
   "source": [
    "!papermill parameterization/01_notebook_brain_area.ipynb output_1.ipynb\n",
    "!papermill parameterization/03_notebook_fixed_feedback.ipynb output_3.ipynb"
   ]
  },
  {
   "cell_type": "markdown",
   "id": "b80e51f8-7596-4f7a-871a-270abcdd0eb4",
   "metadata": {},
   "source": [
    "Execute all the three notebooks one after the other"
   ]
  },
  {
   "cell_type": "code",
   "execution_count": 37,
   "id": "5d550f71-4317-4a74-b9eb-f19c3d53729c",
   "metadata": {},
   "outputs": [
    {
     "name": "stderr",
     "output_type": "stream",
     "text": [
      "Input Notebook:  parameterization/01_notebook_brain_area.ipynb\n",
      "Output Notebook: output_1.ipynb\n",
      "\n",
      "Executing:   0%|          | 0/18 [00:00<?, ?cell/s]Executing notebook with kernel: python3\n",
      "\n",
      "Executing:   6%|▌         | 1/18 [00:02<00:35,  2.09s/cell]\n",
      "Executing:  11%|█         | 2/18 [00:02<00:18,  1.13s/cell]\n",
      "Executing:  33%|███▎      | 6/18 [00:02<00:03,  3.11cell/s]\n",
      "Executing:  56%|█████▌    | 10/18 [00:02<00:01,  6.01cell/s]\n",
      "Executing:  89%|████████▉ | 16/18 [00:03<00:00, 11.46cell/s]\n",
      "Executing: 100%|██████████| 18/18 [00:03<00:00,  5.02cell/s]\n",
      "Input Notebook:  parameterization/02_notebook_fixed_response.ipynb\n",
      "Output Notebook: output_2.ipynb\n",
      "\n",
      "Executing:   0%|          | 0/8 [00:00<?, ?cell/s]Executing notebook with kernel: python3\n",
      "\n",
      "Executing:  12%|█▎        | 1/8 [00:02<00:20,  2.99s/cell]\n",
      "Executing: 100%|██████████| 8/8 [00:03<00:00,  2.71cell/s]\n",
      "Executing: 100%|██████████| 8/8 [00:04<00:00,  1.95cell/s]\n",
      "Input Notebook:  parameterization/03_notebook_fixed_feedback.ipynb\n",
      "Output Notebook: output_3.ipynb\n",
      "\n",
      "Executing:   0%|          | 0/8 [00:00<?, ?cell/s]Executing notebook with kernel: python3\n",
      "\n",
      "Executing:  12%|█▎        | 1/8 [00:03<00:21,  3.06s/cell]\n",
      "Executing: 100%|██████████| 8/8 [00:04<00:00,  2.37cell/s]\n",
      "Executing: 100%|██████████| 8/8 [00:04<00:00,  1.77cell/s]\n"
     ]
    }
   ],
   "source": [
    "!papermill parameterization/01_notebook_brain_area.ipynb output_1.ipynb\n",
    "!papermill parameterization/02_notebook_fixed_response.ipynb output_2.ipynb\n",
    "!papermill parameterization/03_notebook_fixed_feedback.ipynb output_3.ipynb"
   ]
  },
  {
   "cell_type": "markdown",
   "id": "f98c2cce-9d6c-487a-baa5-d4dbfed03747",
   "metadata": {},
   "source": [
    "---"
   ]
  },
  {
   "cell_type": "markdown",
   "id": "366d26c6-537d-4d4f-abee-d02a523f4684",
   "metadata": {},
   "source": [
    "## Passing in Parameters To Notebooks With Papermill\n",
    "\n",
    "Papermill helps with parameterizing Jupyter notebooks by allowing us to inject new inputs (parameters) into a notebook before running it. \n",
    "Parameters have placeholders in the template notebook, and when we run Papermill, it fills those placeholders with the actual values we provide. \n",
    "Papermill then executes the entire notebook with the new inputs, saving the results in a new output notebook. \n",
    "This makes it easy to reuse the same notebook as a template for different data or settings essentially creating an analysis report for different parameter.\n",
    "\n",
    "For this example we will use two same notebooks as the previous section and get some practice with passing parameters to template notebooks."
   ]
  },
  {
   "cell_type": "markdown",
   "id": "55ed37e2-db49-43f9-84e6-b6be920d0de2",
   "metadata": {
    "editable": true,
    "slideshow": {
     "slide_type": ""
    },
    "tags": []
   },
   "source": [
    "**Setting Parameters**\n",
    "\n",
    "To make papermill know that a cell contains parameters\n",
    "\n",
    "1. Put all parameters in a single cell before any other cell that uses them\n",
    "2. Click on the cell and then the gear icon next to the notebook\n",
    "3. Type `parameters` within Cell Tags\n",
    "\n",
    "Do this for all the three notebooks\n",
    "\n",
    "With papermill, we can pass different values for any variable inside the cell tagged as `parameters` by adding a `-p` for each parameter.\n",
    "\n",
    "In this section, let us use the three notebooks as templates and make reports for different brain areas, responses, and feedbacks to learn how papermill works. Same technique can be applied to complex problems as well. "
   ]
  },
  {
   "cell_type": "markdown",
   "id": "2ba7ca64-42ed-42f6-a681-7e835babe504",
   "metadata": {},
   "source": [
    "**Example** Run notebook 1 specifying that the output should be called `processed_VISp.csv`"
   ]
  },
  {
   "cell_type": "code",
   "execution_count": 38,
   "id": "0b572a2c-1ff4-45ab-9a5d-d6497ac57198",
   "metadata": {},
   "outputs": [
    {
     "name": "stderr",
     "output_type": "stream",
     "text": [
      "Input Notebook:  parameterization/01_notebook_brain_area.ipynb\n",
      "Output Notebook: 01_notebook_visp.ipynb\n",
      "\n",
      "Executing:   0%|          | 0/19 [00:00<?, ?cell/s]Executing notebook with kernel: python3\n",
      "\n",
      "Executing:   5%|▌         | 1/19 [00:02<00:39,  2.17s/cell]\n",
      "Executing:  11%|█         | 2/19 [00:02<00:20,  1.21s/cell]\n",
      "Executing:  37%|███▋      | 7/19 [00:03<00:03,  3.53cell/s]\n",
      "Executing:  58%|█████▊    | 11/19 [00:03<00:01,  6.25cell/s]\n",
      "Executing:  95%|█████████▍| 18/19 [00:03<00:00, 12.37cell/s]\n",
      "Executing: 100%|██████████| 19/19 [00:03<00:00,  4.96cell/s]\n"
     ]
    }
   ],
   "source": [
    "!papermill parameterization/01_notebook_brain_area.ipynb -p output_csv output_data/processed_visp.csv 01_notebook_visp.ipynb"
   ]
  },
  {
   "cell_type": "markdown",
   "id": "641a0964-05ed-40ba-8289-a1eee5d1ad7a",
   "metadata": {},
   "source": [
    "Run notebook 2 specifying that the input csv is now called `output_data/processed_VISp.csv`"
   ]
  },
  {
   "cell_type": "code",
   "execution_count": 39,
   "id": "355c5f7a-ca8c-471c-85c5-7c80a751700e",
   "metadata": {},
   "outputs": [
    {
     "name": "stderr",
     "output_type": "stream",
     "text": [
      "Input Notebook:  parameterization/02_notebook_fixed_response.ipynb\n",
      "Output Notebook: 02_notebook_fixed_response_visp.ipynb\n",
      "\n",
      "Executing:   0%|          | 0/9 [00:00<?, ?cell/s]Executing notebook with kernel: python3\n",
      "\n",
      "Executing:  11%|█         | 1/9 [00:03<00:24,  3.11s/cell]\n",
      "Executing:  89%|████████▉ | 8/9 [00:03<00:00,  3.37cell/s]\n",
      "Executing: 100%|██████████| 9/9 [00:04<00:00,  2.04cell/s]\n"
     ]
    }
   ],
   "source": [
    "!papermill parameterization/02_notebook_fixed_response.ipynb -p input_csv output_data/processed_VISp.csv 02_notebook_fixed_response_visp.ipynb"
   ]
  },
  {
   "cell_type": "markdown",
   "id": "6308b763-6f76-4397-985c-0806bd1a2101",
   "metadata": {},
   "source": [
    "Run notebook 3 specifying that the input csv is now called `output_data/processed_VISp.csv`"
   ]
  },
  {
   "cell_type": "code",
   "execution_count": 40,
   "id": "ccd02c05-b9ca-47f0-85c7-5d79ddfe70ec",
   "metadata": {},
   "outputs": [
    {
     "name": "stderr",
     "output_type": "stream",
     "text": [
      "Input Notebook:  parameterization/03_notebook_fixed_feedback.ipynb\n",
      "Output Notebook: 03_notebook_fixed_feedback_visp.ipynb\n",
      "\n",
      "Executing:   0%|          | 0/9 [00:00<?, ?cell/s]Executing notebook with kernel: python3\n",
      "\n",
      "Executing:  11%|█         | 1/9 [00:03<00:24,  3.06s/cell]\n",
      "Executing: 100%|██████████| 9/9 [00:04<00:00,  2.74cell/s]\n",
      "Executing: 100%|██████████| 9/9 [00:04<00:00,  2.02cell/s]\n"
     ]
    }
   ],
   "source": [
    "!papermill parameterization/03_notebook_fixed_feedback.ipynb -p input_csv output_data/processed_VISp.csv 03_notebook_fixed_feedback_visp.ipynb"
   ]
  },
  {
   "cell_type": "markdown",
   "id": "fc163e84-a4b3-4450-993b-53bc977366eb",
   "metadata": {},
   "source": [
    "Run notebook 3 specifying that the input csv is now called `output_data/processed_ACA.csv`. Examine the output notebook. What information do you get?"
   ]
  },
  {
   "cell_type": "code",
   "execution_count": 41,
   "id": "6c346024-3df2-4aae-91ef-6003a8c3c696",
   "metadata": {},
   "outputs": [],
   "source": [
    "# !papermill parameterization/03_notebook_fixed_feedback.ipynb -p input_csv output_data/processed_ACA.csv 03_notebook_fixed_feedback_aca.ipynb"
   ]
  },
  {
   "cell_type": "markdown",
   "id": "ed20e804-c87d-4111-9890-9357c2412d46",
   "metadata": {},
   "source": [
    "**Example** Run `notebook 1` specifying that the brain area is `ACA` and output should be called `processed_ACA.csv`"
   ]
  },
  {
   "cell_type": "code",
   "execution_count": 42,
   "id": "31fcf525-84d3-45b6-b1e5-7c98eed1c7ea",
   "metadata": {},
   "outputs": [
    {
     "name": "stderr",
     "output_type": "stream",
     "text": [
      "Input Notebook:  parameterization/01_notebook_brain_area.ipynb\n",
      "Output Notebook: 01_notebook_aca.ipynb\n",
      "\n",
      "Executing:   0%|          | 0/19 [00:00<?, ?cell/s]Executing notebook with kernel: python3\n",
      "\n",
      "Executing:   5%|▌         | 1/19 [00:02<00:37,  2.06s/cell]\n",
      "Executing:  11%|█         | 2/19 [00:02<00:19,  1.12s/cell]\n",
      "Executing:  37%|███▋      | 7/19 [00:02<00:03,  3.79cell/s]\n",
      "Executing:  63%|██████▎   | 12/19 [00:02<00:00,  7.26cell/s]\n",
      "Executing: 100%|██████████| 19/19 [00:03<00:00, 11.02cell/s]\n",
      "Executing: 100%|██████████| 19/19 [00:03<00:00,  5.37cell/s]\n"
     ]
    }
   ],
   "source": [
    "!papermill parameterization/01_notebook_brain_area.ipynb -p brain_area ACA -p output_csv output_data/processed_ACA.csv 01_notebook_aca.ipynb"
   ]
  },
  {
   "cell_type": "markdown",
   "id": "b0070d28-7082-46c6-a5a8-b1a36603621c",
   "metadata": {},
   "source": [
    "Run `notebook 2` specifying that the input file is `output_data/processed_ACA.csv` and response_type as 0"
   ]
  },
  {
   "cell_type": "code",
   "execution_count": 43,
   "id": "d59639cb-64b2-4f4b-9dad-15649fbfdcb6",
   "metadata": {},
   "outputs": [
    {
     "name": "stderr",
     "output_type": "stream",
     "text": [
      "Input Notebook:  parameterization/02_notebook_fixed_response.ipynb\n",
      "Output Notebook: 02_notebook_response_0_aca.ipynb\n",
      "\n",
      "Executing:   0%|          | 0/9 [00:00<?, ?cell/s]Executing notebook with kernel: python3\n",
      "\n",
      "Executing:  11%|█         | 1/9 [00:02<00:23,  2.93s/cell]\n",
      "Executing:  89%|████████▉ | 8/9 [00:03<00:00,  3.57cell/s]\n",
      "Executing: 100%|██████████| 9/9 [00:04<00:00,  2.23cell/s]\n"
     ]
    }
   ],
   "source": [
    "!papermill parameterization/02_notebook_fixed_response.ipynb -p input_csv output_data/processed_ACA.csv -p response_type 0 02_notebook_response_0_aca.ipynb"
   ]
  },
  {
   "cell_type": "markdown",
   "id": "37b2d1ce-efc6-4cdd-afde-1a5a22932194",
   "metadata": {},
   "source": [
    "Run `notebook 2` specifying that the input file is `output_data/processed_ACA.csv` and response_type as -1. Compare with previous report (output notebook)"
   ]
  },
  {
   "cell_type": "code",
   "execution_count": 44,
   "id": "0573532e-51ee-44ca-9821-28a39d1406ff",
   "metadata": {},
   "outputs": [
    {
     "name": "stderr",
     "output_type": "stream",
     "text": [
      "Input Notebook:  parameterization/02_notebook_fixed_response.ipynb\n",
      "Output Notebook: 02_notebook_response_min_1_aca.ipynb\n",
      "\n",
      "Executing:   0%|          | 0/9 [00:00<?, ?cell/s]Executing notebook with kernel: python3\n",
      "\n",
      "Executing:  11%|█         | 1/9 [00:03<00:26,  3.37s/cell]\n",
      "Executing:  67%|██████▋   | 6/9 [00:03<00:01,  2.31cell/s]\n",
      "Executing: 100%|██████████| 9/9 [00:04<00:00,  2.78cell/s]\n",
      "Executing: 100%|██████████| 9/9 [00:04<00:00,  1.95cell/s]\n"
     ]
    }
   ],
   "source": [
    "!papermill parameterization/02_notebook_fixed_response.ipynb -p input_csv output_data/processed_ACA.csv -p response_type -1 02_notebook_response_min_1_aca.ipynb"
   ]
  },
  {
   "cell_type": "markdown",
   "id": "43a14706-9994-4246-b92a-340a367c948d",
   "metadata": {},
   "source": [
    "Run all three notebooks one after the other for brain area `SUB`, response type 0, and feedback type -1."
   ]
  },
  {
   "cell_type": "code",
   "execution_count": 45,
   "id": "16289881-b168-4bc5-9250-6e34dc67238f",
   "metadata": {},
   "outputs": [
    {
     "name": "stderr",
     "output_type": "stream",
     "text": [
      "Input Notebook:  parameterization/01_notebook_brain_area.ipynb\n",
      "Output Notebook: 01_notebook_sub.ipynb\n",
      "\n",
      "Executing:   0%|          | 0/19 [00:00<?, ?cell/s]Executing notebook with kernel: python3\n",
      "\n",
      "Executing:   5%|▌         | 1/19 [00:02<00:39,  2.17s/cell]\n",
      "Executing:  11%|█         | 2/19 [00:02<00:21,  1.26s/cell]\n",
      "Executing:  37%|███▋      | 7/19 [00:03<00:03,  3.40cell/s]\n",
      "Executing:  58%|█████▊    | 11/19 [00:03<00:01,  6.03cell/s]\n",
      "Executing:  89%|████████▉ | 17/19 [00:03<00:00, 11.05cell/s]\n",
      "Executing: 100%|██████████| 19/19 [00:03<00:00,  4.90cell/s]\n",
      "Input Notebook:  parameterization/02_notebook_fixed_response.ipynb\n",
      "Output Notebook: 02_notebook_response_0_sub.ipynb\n",
      "\n",
      "Executing:   0%|          | 0/9 [00:00<?, ?cell/s]Executing notebook with kernel: python3\n",
      "\n",
      "Executing:  11%|█         | 1/9 [00:03<00:26,  3.29s/cell]\n",
      "Executing:  78%|███████▊  | 7/9 [00:03<00:00,  2.77cell/s]\n",
      "Executing: 100%|██████████| 9/9 [00:04<00:00,  2.01cell/s]\n",
      "Input Notebook:  parameterization/03_notebook_fixed_feedback.ipynb\n",
      "Output Notebook: 03_notebook_fixed_feedback_sub.ipynb\n",
      "\n",
      "Executing:   0%|          | 0/9 [00:00<?, ?cell/s]Executing notebook with kernel: python3\n",
      "\n",
      "Executing:  11%|█         | 1/9 [00:03<00:28,  3.50s/cell]\n",
      "Executing:  89%|████████▉ | 8/9 [00:03<00:00,  3.01cell/s]\n",
      "Executing: 100%|██████████| 9/9 [00:04<00:00,  1.85cell/s]\n"
     ]
    }
   ],
   "source": [
    "!papermill parameterization/01_notebook_brain_area.ipynb -p brain_area SUB -p output_csv output_data/processed_SUB.csv 01_notebook_sub.ipynb\n",
    "!papermill parameterization/02_notebook_fixed_response.ipynb -p input_csv output_data/processed_SUB.csv -p response_type 0 02_notebook_response_0_sub.ipynb\n",
    "!papermill parameterization/03_notebook_fixed_feedback.ipynb -p input_csv output_data/processed_SUB.csv -p feedback_type -1 03_notebook_fixed_feedback_sub.ipynb"
   ]
  },
  {
   "cell_type": "markdown",
   "id": "12bdaa23-03ae-470d-8e01-8afa906e06b6",
   "metadata": {},
   "source": [
    "## Batch Processing Notebooks With Papermill Python API\n",
    "\n",
    "In a Jupyter notebook, you can use a for loop to automate the execution of multiple notebooks with different input parameters using papermill. \n",
    "This approach allows for dynamic notebook execution by iterating over a list of notebooks and their corresponding parameter sets, enabling each notebook to be run with customized inputs. \n",
    "During each iteration of the loop, papermill executes the notebook with the specified parameters and generates a new output notebook, which is can be saved with a unique filename.\n",
    "\n",
    "Let's get some practice batch processing in Python using for-loops"
   ]
  },
  {
   "cell_type": "code",
   "execution_count": 46,
   "id": "4476014e-9b28-414a-80c2-d2223e3b59c1",
   "metadata": {},
   "outputs": [
    {
     "data": {
      "text/plain": [
       "array(['ACA', 'LS', 'MOs', 'CA3', 'DG', 'SUB', 'VISp'], dtype=object)"
      ]
     },
     "execution_count": 46,
     "metadata": {},
     "output_type": "execute_result"
    }
   ],
   "source": [
    "import pandas as pd\n",
    "df = pd.read_csv('data/2016-12-14_Cori.csv')\n",
    "df.brain_area_lfp.unique()"
   ]
  },
  {
   "cell_type": "markdown",
   "id": "4b07754f-ec78-4044-a524-c2191ae95e14",
   "metadata": {},
   "source": [
    "**Example** Run notebook 1 for brain area `LS` and `CA3`"
   ]
  },
  {
   "cell_type": "code",
   "execution_count": 47,
   "id": "a671d089-bd7a-42fb-9e5d-646a8ef398dc",
   "metadata": {},
   "outputs": [
    {
     "name": "stderr",
     "output_type": "stream",
     "text": [
      "c:\\Users\\sangeetha\\anaconda3\\envs\\ndd\\Lib\\site-packages\\tqdm\\auto.py:21: TqdmWarning: IProgress not found. Please update jupyter and ipywidgets. See https://ipywidgets.readthedocs.io/en/stable/user_install.html\n",
      "  from .autonotebook import tqdm as notebook_tqdm\n",
      "Executing: 100%|██████████| 19/19 [00:03<00:00,  5.78cell/s]\n",
      "Executing: 100%|██████████| 19/19 [00:03<00:00,  5.92cell/s]\n"
     ]
    }
   ],
   "source": [
    "template_noteboook = 'parameterization/01_notebook_brain_area.ipynb'\n",
    "params = [dict(output_csv='output_data/01_notebook_LS.csv', brain_area='LS'), dict(output_csv='output_data/01_notebook_CA3.csv', brain_area='CA3')]\n",
    "output_nb_names = ['01_notebook_LS.ipynb', '01_notebook_CA3.ipynb']\n",
    "\n",
    "for param, output_nb_name in zip(params, output_nb_names):\n",
    "    pm.execute_notebook(\n",
    "        template_noteboook,\n",
    "        output_nb_name,\n",
    "        parameters=param\n",
    "    )"
   ]
  },
  {
   "cell_type": "markdown",
   "id": "75bf428e-3c6a-4628-ba82-6b7dc227cac6",
   "metadata": {},
   "source": [
    "Run notebook 2 for brain area `LS` and response types of 1, 0, and -1."
   ]
  },
  {
   "cell_type": "code",
   "execution_count": 48,
   "id": "157bd54b-a66b-4e20-b02b-4436e04c6d1a",
   "metadata": {},
   "outputs": [
    {
     "name": "stderr",
     "output_type": "stream",
     "text": [
      "Executing: 100%|██████████| 9/9 [00:04<00:00,  2.20cell/s]\n",
      "Executing: 100%|██████████| 9/9 [00:03<00:00,  2.33cell/s]\n",
      "Executing: 100%|██████████| 9/9 [00:03<00:00,  2.37cell/s]\n"
     ]
    }
   ],
   "source": [
    "template_noteboook = 'parameterization/02_notebook_fixed_response.ipynb'\n",
    "params = [dict(input_csv='output_data/01_notebook_LS.csv', response_type=1), dict(input_csv='output_data/01_notebook_LS.csv', response_type=0), dict(input_csv='output_data/01_notebook_LS.csv', response_type=-1)]\n",
    "output_nb_names = ['02_notebook_LS_response_left.ipynb', '02_notebook_LS_response_zero.ipynb', '02_notebook_LS_response_right.ipynb']\n",
    "\n",
    "for param, output_nb_name in zip(params, output_nb_names):\n",
    "    pm.execute_notebook(\n",
    "        template_noteboook,\n",
    "        output_nb_name,\n",
    "        parameters=param\n",
    "    )"
   ]
  },
  {
   "cell_type": "markdown",
   "id": "f1ccfaf5-64cd-4633-aefd-a57f64d9cfae",
   "metadata": {},
   "source": [
    "Run notebook 3 for brain area LS and response types 1 and -1"
   ]
  },
  {
   "cell_type": "code",
   "execution_count": 49,
   "id": "1c0a0513-d6f5-4d84-816f-727b2c107eae",
   "metadata": {},
   "outputs": [
    {
     "name": "stderr",
     "output_type": "stream",
     "text": [
      "Executing: 100%|██████████| 9/9 [00:04<00:00,  2.11cell/s]\n",
      "Executing: 100%|██████████| 9/9 [00:04<00:00,  2.09cell/s]\n"
     ]
    }
   ],
   "source": [
    "template_noteboook = 'parameterization/03_notebook_fixed_feedback.ipynb'\n",
    "params = [dict(input_csv='output_data/01_notebook_LS.csv', feedback_type=1), dict(input_csv='output_data/01_notebook_LS.csv', feedback_type=-1)]\n",
    "output_nb_names = ['03_notebook_reward.ipynb', '03_notebook_punish.ipynb']\n",
    "\n",
    "for param, output_nb_name in zip(params, output_nb_names):\n",
    "    pm.execute_notebook(\n",
    "        template_noteboook,\n",
    "        output_nb_name,\n",
    "        parameters=param\n",
    "    )"
   ]
  },
  {
   "cell_type": "markdown",
   "id": "5b5457a9-1f57-41d2-953d-fc0775b1a7da",
   "metadata": {},
   "source": [
    "We can automate naming of outputs by making use of f-strings in Python to help us follow a structured naming of files. Names will be automatically set inside the for-loop and not in the params dictionary.\n",
    "\n",
    "**Example** Run notebook 1 for brain area `LS`, `CA3`"
   ]
  },
  {
   "cell_type": "code",
   "execution_count": 50,
   "id": "bfe641e7-e939-4d8d-a3a8-46512e9bbf2e",
   "metadata": {},
   "outputs": [
    {
     "name": "stderr",
     "output_type": "stream",
     "text": [
      "Executing: 100%|██████████| 19/19 [00:03<00:00,  5.85cell/s]\n",
      "Executing: 100%|██████████| 19/19 [00:03<00:00,  5.96cell/s]\n"
     ]
    }
   ],
   "source": [
    "template_noteboook = 'parameterization/01_notebook_brain_area.ipynb'\n",
    "params = [dict(brain_area='LS'), dict(brain_area='CA3')]\n",
    "\n",
    "for param in params:\n",
    "    param['output_csv'] = 'output_data/' + f'01_notebook_{param['brain_area']}.csv'\n",
    "    output_nb_name = f'01_notebook_{param['brain_area']}.ipynb'\n",
    "    \n",
    "    pm.execute_notebook(\n",
    "        template_noteboook,\n",
    "        output_nb_name,\n",
    "        parameters=param\n",
    "    )"
   ]
  },
  {
   "cell_type": "markdown",
   "id": "fea78412-fd2e-41d0-936b-7f9408f2ea17",
   "metadata": {},
   "source": [
    "Run notebook 1 for brain area `LS`, `CA3`, and `SUB`"
   ]
  },
  {
   "cell_type": "code",
   "execution_count": 51,
   "id": "0e7d2643-0b9a-453f-b70b-763234f91582",
   "metadata": {},
   "outputs": [
    {
     "name": "stderr",
     "output_type": "stream",
     "text": [
      "Executing: 100%|██████████| 19/19 [00:06<00:00,  3.11cell/s]\n",
      "Executing: 100%|██████████| 19/19 [00:03<00:00,  5.55cell/s]\n",
      "Executing: 100%|██████████| 19/19 [00:03<00:00,  5.15cell/s]\n"
     ]
    }
   ],
   "source": [
    "template_noteboook = 'parameterization/01_notebook_brain_area.ipynb'\n",
    "params = [dict(brain_area='LS'), dict(brain_area='CA3'), dict(brain_area='SUB')]\n",
    "\n",
    "for param in params:\n",
    "    param['output_csv'] = 'output_data/' + f'01_notebook_{param['brain_area']}.csv'\n",
    "    output_nb_name = f'01_notebook_{param['brain_area']}.ipynb'\n",
    "    \n",
    "    pm.execute_notebook(\n",
    "        template_noteboook,\n",
    "        output_nb_name,\n",
    "        parameters=param\n",
    "    )"
   ]
  },
  {
   "cell_type": "markdown",
   "id": "a6d0ef00-3eb4-4a48-8d87-6969cf8cb1d0",
   "metadata": {},
   "source": [
    "This is especially helpful when we have to run the template notebook for large number of values for a given parameter\n",
    "\n",
    "Run notebook 1 for brain area `LS`, `CA3`, `SUB`, `VISp`, `MOs`, `DG`, `ACA`"
   ]
  },
  {
   "cell_type": "code",
   "execution_count": 52,
   "id": "e02df9f0-a198-4417-b066-8928db76e73a",
   "metadata": {},
   "outputs": [
    {
     "name": "stderr",
     "output_type": "stream",
     "text": [
      "Executing: 100%|██████████| 19/19 [00:03<00:00,  5.69cell/s]\n",
      "Executing: 100%|██████████| 19/19 [00:03<00:00,  5.97cell/s]\n",
      "Executing: 100%|██████████| 19/19 [00:03<00:00,  5.53cell/s]\n",
      "Executing: 100%|██████████| 19/19 [00:03<00:00,  5.63cell/s]\n",
      "Executing: 100%|██████████| 19/19 [00:03<00:00,  6.05cell/s]\n",
      "Executing: 100%|██████████| 19/19 [00:03<00:00,  6.18cell/s]\n",
      "Executing: 100%|██████████| 19/19 [00:03<00:00,  5.31cell/s]\n"
     ]
    }
   ],
   "source": [
    "template_noteboook = 'parameterization/01_notebook_brain_area.ipynb'\n",
    "params = [dict(brain_area='LS'), dict(brain_area='CA3'), dict(brain_area='SUB'), dict(brain_area='VISp'), dict(brain_area='MOs'), dict(brain_area='DG'), dict(brain_area='ACA')]\n",
    "\n",
    "for param in params:\n",
    "    param['output_csv'] = 'output_data/' + f'01_notebook_{param['brain_area']}.csv'\n",
    "    output_nb_name = f'01_notebook_{param['brain_area']}.ipynb'\n",
    "    \n",
    "    pm.execute_notebook(\n",
    "        template_noteboook,\n",
    "        output_nb_name,\n",
    "        parameters=param\n",
    "    )"
   ]
  },
  {
   "cell_type": "markdown",
   "id": "bcaee1bb-f985-4d46-8164-6293aca39fc1",
   "metadata": {},
   "source": [
    "**(DEMO)** We can make nested for-loops to run all the three notebooks for every parameter combination. This code can be in another notebook that can be executed whenever we have to re-run an entire analysis workflow without having to go back and change parameters in the template notebook."
   ]
  },
  {
   "cell_type": "code",
   "execution_count": 53,
   "id": "7736a4a9-7a55-48e5-899a-47aa8e7d8a65",
   "metadata": {},
   "outputs": [
    {
     "name": "stderr",
     "output_type": "stream",
     "text": [
      "Executing: 100%|██████████| 19/19 [00:03<00:00,  5.58cell/s]\n",
      "Executing: 100%|██████████| 9/9 [00:03<00:00,  2.41cell/s]\n",
      "Executing: 100%|██████████| 9/9 [00:03<00:00,  2.34cell/s]\n",
      "Executing: 100%|██████████| 9/9 [00:04<00:00,  2.24cell/s]\n",
      "Executing: 100%|██████████| 9/9 [00:04<00:00,  1.92cell/s]\n",
      "Executing: 100%|██████████| 9/9 [00:05<00:00,  1.56cell/s]\n",
      "Executing: 100%|██████████| 19/19 [00:04<00:00,  4.56cell/s]\n",
      "Executing: 100%|██████████| 9/9 [00:04<00:00,  2.11cell/s]\n",
      "Executing: 100%|██████████| 9/9 [00:04<00:00,  2.13cell/s]\n",
      "Executing: 100%|██████████| 9/9 [00:03<00:00,  2.26cell/s]\n",
      "Executing: 100%|██████████| 9/9 [00:04<00:00,  1.90cell/s]\n",
      "Executing: 100%|██████████| 9/9 [00:04<00:00,  2.01cell/s]\n",
      "Executing: 100%|██████████| 19/19 [00:03<00:00,  5.64cell/s]\n",
      "Executing: 100%|██████████| 9/9 [00:04<00:00,  2.11cell/s]\n",
      "Executing: 100%|██████████| 9/9 [00:04<00:00,  2.08cell/s]\n",
      "Executing: 100%|██████████| 9/9 [00:04<00:00,  2.15cell/s]\n",
      "Executing: 100%|██████████| 9/9 [00:04<00:00,  1.99cell/s]\n",
      "Executing: 100%|██████████| 9/9 [00:04<00:00,  1.98cell/s]\n",
      "Executing: 100%|██████████| 19/19 [00:03<00:00,  5.46cell/s]\n",
      "Executing: 100%|██████████| 9/9 [00:03<00:00,  2.30cell/s]\n",
      "Executing: 100%|██████████| 9/9 [00:03<00:00,  2.26cell/s]\n",
      "Executing: 100%|██████████| 9/9 [00:04<00:00,  2.16cell/s]\n",
      "Executing: 100%|██████████| 9/9 [00:04<00:00,  1.99cell/s]\n",
      "Executing: 100%|██████████| 9/9 [00:04<00:00,  1.91cell/s]\n",
      "Executing: 100%|██████████| 19/19 [00:04<00:00,  4.70cell/s]\n",
      "Executing: 100%|██████████| 9/9 [00:06<00:00,  1.45cell/s]\n",
      "Executing: 100%|██████████| 9/9 [00:04<00:00,  2.03cell/s]\n",
      "Executing: 100%|██████████| 9/9 [00:03<00:00,  2.34cell/s]\n",
      "Executing: 100%|██████████| 9/9 [00:03<00:00,  2.35cell/s]\n",
      "Executing: 100%|██████████| 9/9 [00:03<00:00,  2.41cell/s]\n",
      "Executing: 100%|██████████| 19/19 [00:02<00:00,  6.44cell/s]\n",
      "Executing: 100%|██████████| 9/9 [00:03<00:00,  2.59cell/s]\n",
      "Executing: 100%|██████████| 9/9 [00:03<00:00,  2.48cell/s]\n",
      "Executing: 100%|██████████| 9/9 [00:03<00:00,  2.28cell/s]\n",
      "Executing: 100%|██████████| 9/9 [00:04<00:00,  2.11cell/s]\n",
      "Executing: 100%|██████████| 9/9 [00:04<00:00,  2.15cell/s]\n",
      "Executing: 100%|██████████| 19/19 [00:03<00:00,  5.92cell/s]\n",
      "Executing: 100%|██████████| 9/9 [00:04<00:00,  2.23cell/s]\n",
      "Executing: 100%|██████████| 9/9 [00:03<00:00,  2.41cell/s]\n",
      "Executing: 100%|██████████| 9/9 [00:03<00:00,  2.31cell/s]\n",
      "Executing: 100%|██████████| 9/9 [00:04<00:00,  1.95cell/s]\n",
      "Executing: 100%|██████████| 9/9 [00:04<00:00,  2.06cell/s]\n"
     ]
    }
   ],
   "source": [
    "template_noteboook_1 = 'parameterization/01_notebook_brain_area.ipynb'\n",
    "template_noteboook_2 = 'parameterization/02_notebook_fixed_response.ipynb'\n",
    "template_noteboook_3 = 'parameterization/03_notebook_fixed_feedback.ipynb'\n",
    "\n",
    "params_brain_area = [dict(brain_area='LS'), dict(brain_area='CA3'), dict(brain_area='SUB'), dict(brain_area='VISp'), dict(brain_area='MOs'), dict(brain_area='DG'), dict(brain_area='ACA')]\n",
    "params_response = [dict(response_type=1), dict(response_type=0), dict(response_type=-1)]\n",
    "params_feedback = [dict(feedback_type=1), dict(feedback_type=-1)]\n",
    "\n",
    "for param_brain_area in params_brain_area:\n",
    "    param_brain_area['output_csv'] = 'output_data/' + f'01_notebook_{param['brain_area']}.csv'\n",
    "    output_nb_name = f'01_notebook_{param['brain_area']}.ipynb'\n",
    "    \n",
    "    pm.execute_notebook(\n",
    "        template_noteboook_1,\n",
    "        output_nb_name,\n",
    "        parameters=param_brain_area\n",
    "    )\n",
    "\n",
    "    for param_response in params_response:\n",
    "        output_nb_name = f'02_notebook_{param_brain_area['brain_area']}_response_{param_response['response_type']}.ipynb'\n",
    "        param_response['input_csv'] = 'output_data/' + f'01_notebook_{param['brain_area']}.csv'\n",
    "\n",
    "        pm.execute_notebook(\n",
    "            template_noteboook_2,\n",
    "            output_nb_name,\n",
    "            parameters=param_response\n",
    "        )\n",
    "\n",
    "    for param_feedback in params_feedback:\n",
    "        output_nb_name = f'02_notebook_{param_brain_area['brain_area']}_feedback_{param_feedback['feedback_type']}.ipynb'\n",
    "        param_feedback['input_csv'] = 'output_data/' + f'01_notebook_{param['brain_area']}.csv'\n",
    "\n",
    "        pm.execute_notebook(\n",
    "            template_noteboook_3,\n",
    "            output_nb_name,\n",
    "            parameters=param_feedback\n",
    "        )"
   ]
  }
 ],
 "metadata": {
  "kernelspec": {
   "display_name": "ndd",
   "language": "python",
   "name": "python3"
  },
  "language_info": {
   "codemirror_mode": {
    "name": "ipython",
    "version": 3
   },
   "file_extension": ".py",
   "mimetype": "text/x-python",
   "name": "python",
   "nbconvert_exporter": "python",
   "pygments_lexer": "ipython3",
   "version": "3.12.7"
  }
 },
 "nbformat": 4,
 "nbformat_minor": 5
}
