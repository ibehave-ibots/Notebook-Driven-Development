{
 "cells": [
  {
   "cell_type": "code",
   "execution_count": null,
   "id": "800dd2fb-71e3-4263-9cea-7091e3a6cc65",
   "metadata": {},
   "outputs": [],
   "source": [
    "# !pip install doit papermill"
   ]
  },
  {
   "cell_type": "code",
   "execution_count": 2,
   "id": "7e95ec5b-6800-4bd5-8dff-f6ff9547103d",
   "metadata": {},
   "outputs": [],
   "source": [
    "from doit import load_ipython_extension\n",
    "load_ipython_extension()"
   ]
  },
  {
   "cell_type": "markdown",
   "id": "23427035-d10a-4f36-8bf3-b8d3310daa50",
   "metadata": {},
   "source": [
    "# Building Workflows of Jupyter Notebooks"
   ]
  },
  {
   "cell_type": "markdown",
   "id": "9c57d335-40b9-4f4b-be17-12936e4a6bff",
   "metadata": {},
   "source": [
    "## File Dependency\n",
    "\n",
    "In `doit`, file dependencies are essential for managing task execution and ensuring tasks are re-executed only when necessary. \n",
    "File dependencies inform `doit` that a task depends on one or more files, and the task will be re-run if any of these files change. \n",
    "This mechanism ensures efficient workflow management, avoiding redundant computations by tracking changes in dependencies."
   ]
  },
  {
   "cell_type": "code",
   "execution_count": 3,
   "id": "642a8556-eac6-4066-902e-82d4b4af49cc",
   "metadata": {},
   "outputs": [
    {
     "name": "stdout",
     "output_type": "stream",
     "text": [
      ".  download\n"
     ]
    },
    {
     "name": "stderr",
     "output_type": "stream",
     "text": [
      "C:\\Users\\atle_\\anaconda3\\envs\\notebook_driven_development_test\\Scripts\\papermill.exe\\__main__.py:4: DeprecationWarning: Parsing dates involving a day of month without a year specified is ambiguious\n",
      "and fails to parse leap day. The default behavior will change in Python 3.15\n",
      "to either always raise an exception or to use a different default year (TBD).\n",
      "To avoid trouble, add a specific year to the input & format.\n",
      "See https://github.com/python/cpython/issues/70647.\n",
      "Input Notebook:  notebooks/01_data_access.ipynb\n",
      "Output Notebook: 01_data_access_report.ipynb\n",
      "Executing:   0%|          | 0/9 [00:00<?, ?cell/s]Executing notebook with kernel: python3\n",
      "Executing: 100%|██████████| 9/9 [00:03<00:00,  2.99cell/s]\n"
     ]
    }
   ],
   "source": [
    "def task_download():\n",
    "    return {\n",
    "        'actions': ['papermill notebooks/01_data_access.ipynb 01_data_access_report.ipynb -p output_csv data/data.csv'],\n",
    "    }\n",
    "\n",
    "%doit download"
   ]
  },
  {
   "cell_type": "markdown",
   "id": "5ccb5ae4-4fef-4c12-b92d-d828e714b080",
   "metadata": {},
   "source": [
    "**Example** Create a task called stats that runs the below command with a file dependency on `data/data.csv`\n",
    "\n",
    "`papermill notebooks/02_stats.ipynb 02_stats_report.ipynb -p csv_file data/data.csv -p output_csv data/data_stats.csv`\n",
    "\n",
    "Here we are just using papermill command line to pass in arguments with -p"
   ]
  },
  {
   "cell_type": "code",
   "execution_count": 4,
   "id": "000e3484-dd57-4c47-905e-0d216904b059",
   "metadata": {},
   "outputs": [],
   "source": [
    "def task_stats():  \n",
    "    return {\n",
    "        'actions': ['papermill notebooks/02_stats.ipynb 02_stats_report.ipynb  -p csv_file data/data.csv -p output_csv data/data_stats.csv'],\n",
    "        'file_dep': ['data/data.csv']\n",
    "    }"
   ]
  },
  {
   "cell_type": "code",
   "execution_count": 5,
   "id": "a4ee0b6e-b32a-4a0d-8a8a-aed0ca306275",
   "metadata": {},
   "outputs": [
    {
     "name": "stdout",
     "output_type": "stream",
     "text": [
      "download   \n",
      "stats      \n"
     ]
    }
   ],
   "source": [
    "%doit list"
   ]
  },
  {
   "cell_type": "code",
   "execution_count": 6,
   "id": "7311afd2-efdb-48f6-8ccb-1e2c494aee4d",
   "metadata": {},
   "outputs": [
    {
     "name": "stdout",
     "output_type": "stream",
     "text": [
      ".  stats\n"
     ]
    },
    {
     "name": "stderr",
     "output_type": "stream",
     "text": [
      "C:\\Users\\atle_\\anaconda3\\envs\\notebook_driven_development_test\\Scripts\\papermill.exe\\__main__.py:4: DeprecationWarning: Parsing dates involving a day of month without a year specified is ambiguious\n",
      "and fails to parse leap day. The default behavior will change in Python 3.15\n",
      "to either always raise an exception or to use a different default year (TBD).\n",
      "To avoid trouble, add a specific year to the input & format.\n",
      "See https://github.com/python/cpython/issues/70647.\n",
      "Input Notebook:  notebooks/02_stats.ipynb\n",
      "Output Notebook: 02_stats_report.ipynb\n",
      "Executing:   0%|          | 0/12 [00:00<?, ?cell/s]Executing notebook with kernel: python3\n",
      "Executing: 100%|██████████| 12/12 [00:02<00:00,  5.13cell/s]\n"
     ]
    }
   ],
   "source": [
    "%doit stats"
   ]
  },
  {
   "cell_type": "markdown",
   "id": "32ccb21c-2438-4804-9740-15ac0ee54fcf",
   "metadata": {},
   "source": [
    "Run `%doit stats` again "
   ]
  },
  {
   "cell_type": "code",
   "execution_count": 6,
   "id": "2d3def1d-4d1b-4108-af52-96ab2d509fcc",
   "metadata": {},
   "outputs": [
    {
     "name": "stdout",
     "output_type": "stream",
     "text": [
      "-- stats\n"
     ]
    }
   ],
   "source": [
    "%doit stats"
   ]
  },
  {
   "cell_type": "markdown",
   "id": "7af65e8b-b9bf-4f83-a34e-031bab9dbe0b",
   "metadata": {},
   "source": [
    "`--` means that the task is skipped because there has not been any change in the original data file"
   ]
  },
  {
   "cell_type": "markdown",
   "id": "a9e00159-4524-4dab-9904-8224ca6f4601",
   "metadata": {},
   "source": [
    "Add random value to data/data.csv and run `%doit stats` <font color='red'> I added another mouse to data.csv, but the data in 02_stats_report.ipynb did not change - the added mouse was not displayed. Is the intention that the added data is included in 02_stats_report.ipynb after running the next line? </font>"
   ]
  },
  {
   "cell_type": "code",
   "execution_count": 21,
   "id": "7bbee4a7-d220-45d2-8691-799235b144d8",
   "metadata": {},
   "outputs": [
    {
     "name": "stdout",
     "output_type": "stream",
     "text": [
      "-- download\n",
      ".  stats\n"
     ]
    },
    {
     "name": "stderr",
     "output_type": "stream",
     "text": [
      "C:\\Users\\atle_\\anaconda3\\envs\\notebook_driven_development_test\\Scripts\\papermill.exe\\__main__.py:4: DeprecationWarning: Parsing dates involving a day of month without a year specified is ambiguious\n",
      "and fails to parse leap day. The default behavior will change in Python 3.15\n",
      "to either always raise an exception or to use a different default year (TBD).\n",
      "To avoid trouble, add a specific year to the input & format.\n",
      "See https://github.com/python/cpython/issues/70647.\n",
      "Input Notebook:  notebooks/02_stats.ipynb\n",
      "Output Notebook: 02_stats_report.ipynb\n",
      "Executing:   0%|          | 0/12 [00:00<?, ?cell/s]Executing notebook with kernel: python3\n",
      "Executing: 100%|██████████| 12/12 [00:02<00:00,  5.05cell/s]\n"
     ]
    }
   ],
   "source": [
    "%doit stats"
   ]
  },
  {
   "cell_type": "code",
   "execution_count": 7,
   "id": "a4f6e748-855e-421e-b492-a7c26b7e2670",
   "metadata": {},
   "outputs": [
    {
     "name": "stdout",
     "output_type": "stream",
     "text": [
      "download   \n",
      "stats      \n"
     ]
    }
   ],
   "source": [
    "%doit list"
   ]
  },
  {
   "cell_type": "markdown",
   "id": "641de6c1-dee6-4702-8ae7-fb522f3a7e47",
   "metadata": {},
   "source": [
    "Create a task called plot that runs the below command with a file dependency on `data/data.csv`\n",
    "\n",
    "`papermill notebooks/03_visualization.ipynb 03_visualization_report.ipynb -p csv_file data/data.csv`\n"
   ]
  },
  {
   "cell_type": "code",
   "execution_count": 8,
   "id": "666a00b9-b770-41d1-b2ce-bec83387d654",
   "metadata": {},
   "outputs": [],
   "source": [
    "def task_plot():  \n",
    "    return {\n",
    "        'actions': ['papermill notebooks/03_visualization.ipynb 03_visualization_report.ipynb -p csv_file data/data.csv'],\n",
    "        'file_dep': ['data/data.csv']\n",
    "    }"
   ]
  },
  {
   "cell_type": "code",
   "execution_count": 9,
   "id": "787b176e-c051-4f0f-aaec-c221b857664b",
   "metadata": {},
   "outputs": [
    {
     "name": "stdout",
     "output_type": "stream",
     "text": [
      "download   \n",
      "plot       \n",
      "stats      \n"
     ]
    }
   ],
   "source": [
    "%doit list"
   ]
  },
  {
   "cell_type": "code",
   "execution_count": 16,
   "id": "eba6cb15-10dc-493b-aa49-6663faf48927",
   "metadata": {},
   "outputs": [
    {
     "name": "stdout",
     "output_type": "stream",
     "text": [
      ".  plot\n"
     ]
    },
    {
     "name": "stderr",
     "output_type": "stream",
     "text": [
      "C:\\Users\\atle_\\anaconda3\\envs\\notebook_driven_development_test\\Scripts\\papermill.exe\\__main__.py:4: DeprecationWarning: Parsing dates involving a day of month without a year specified is ambiguious\n",
      "and fails to parse leap day. The default behavior will change in Python 3.15\n",
      "to either always raise an exception or to use a different default year (TBD).\n",
      "To avoid trouble, add a specific year to the input & format.\n",
      "See https://github.com/python/cpython/issues/70647.\n",
      "Input Notebook:  notebooks/03_visualization.ipynb\n",
      "Output Notebook: 03_visualization_report.ipynb\n",
      "Executing:   0%|          | 0/11 [00:00<?, ?cell/s]Executing notebook with kernel: python3\n",
      "Executing: 100%|██████████| 11/11 [00:04<00:00,  2.38cell/s]\n"
     ]
    }
   ],
   "source": [
    "%doit plot"
   ]
  },
  {
   "cell_type": "markdown",
   "id": "48dcdecf-2de2-4422-8002-9d8b5811d521",
   "metadata": {},
   "source": [
    "Run `%doit plot` again"
   ]
  },
  {
   "cell_type": "code",
   "execution_count": 11,
   "id": "2e04a54f-b4f7-4954-a34d-ea9a6f27c1b2",
   "metadata": {},
   "outputs": [
    {
     "name": "stdout",
     "output_type": "stream",
     "text": [
      "-- plot\n"
     ]
    }
   ],
   "source": [
    "%doit plot"
   ]
  },
  {
   "cell_type": "markdown",
   "id": "e274ebd4-533d-413e-bc90-cfadad51456e",
   "metadata": {},
   "source": [
    "Add a new row in data.csv and run `%doit plot`"
   ]
  },
  {
   "cell_type": "code",
   "execution_count": 12,
   "id": "2e814d08-8975-4da9-90ce-4f9890ca78a7",
   "metadata": {},
   "outputs": [
    {
     "name": "stdout",
     "output_type": "stream",
     "text": [
      "-- plot\n"
     ]
    }
   ],
   "source": [
    "%doit plot"
   ]
  },
  {
   "cell_type": "markdown",
   "id": "88bbb702-faa4-4f17-b6e0-feb0f913aa40",
   "metadata": {},
   "source": [
    "Run `%doit plot` again"
   ]
  },
  {
   "cell_type": "code",
   "execution_count": 13,
   "id": "dab8d3f7-1721-4979-9a5f-115a3531790f",
   "metadata": {},
   "outputs": [
    {
     "name": "stdout",
     "output_type": "stream",
     "text": [
      "-- plot\n"
     ]
    }
   ],
   "source": [
    "%doit plot"
   ]
  },
  {
   "cell_type": "markdown",
   "id": "eca8f3bf-2c34-4420-97a7-dedc194c0d16",
   "metadata": {},
   "source": [
    "**Example** Run both the tasks"
   ]
  },
  {
   "cell_type": "code",
   "execution_count": 14,
   "id": "1007005b-b0c5-4016-8b2b-900373f6be37",
   "metadata": {},
   "outputs": [
    {
     "name": "stdout",
     "output_type": "stream",
     "text": [
      ".  download\n"
     ]
    },
    {
     "name": "stderr",
     "output_type": "stream",
     "text": [
      "C:\\Users\\atle_\\anaconda3\\envs\\notebook_driven_development_test\\Scripts\\papermill.exe\\__main__.py:4: DeprecationWarning: Parsing dates involving a day of month without a year specified is ambiguious\n",
      "and fails to parse leap day. The default behavior will change in Python 3.15\n",
      "to either always raise an exception or to use a different default year (TBD).\n",
      "To avoid trouble, add a specific year to the input & format.\n",
      "See https://github.com/python/cpython/issues/70647.\n",
      "Input Notebook:  notebooks/01_data_access.ipynb\n",
      "Output Notebook: 01_data_access_report.ipynb\n",
      "Executing:   0%|          | 0/9 [00:00<?, ?cell/s]Executing notebook with kernel: python3\n",
      "Executing: 100%|██████████| 9/9 [00:02<00:00,  3.46cell/s]\n"
     ]
    },
    {
     "name": "stdout",
     "output_type": "stream",
     "text": [
      "-- plot\n",
      "-- stats\n"
     ]
    }
   ],
   "source": [
    "%doit"
   ]
  },
  {
   "cell_type": "markdown",
   "id": "3236e5aa-fff6-49ec-883a-41a67945c644",
   "metadata": {},
   "source": [
    "Run both the tasks again"
   ]
  },
  {
   "cell_type": "code",
   "execution_count": 15,
   "id": "3dd3bd88-3d21-4b58-b161-c51119216bd0",
   "metadata": {},
   "outputs": [
    {
     "name": "stdout",
     "output_type": "stream",
     "text": [
      ".  download\n"
     ]
    },
    {
     "name": "stderr",
     "output_type": "stream",
     "text": [
      "C:\\Users\\atle_\\anaconda3\\envs\\notebook_driven_development_test\\Scripts\\papermill.exe\\__main__.py:4: DeprecationWarning: Parsing dates involving a day of month without a year specified is ambiguious\n",
      "and fails to parse leap day. The default behavior will change in Python 3.15\n",
      "to either always raise an exception or to use a different default year (TBD).\n",
      "To avoid trouble, add a specific year to the input & format.\n",
      "See https://github.com/python/cpython/issues/70647.\n",
      "Input Notebook:  notebooks/01_data_access.ipynb\n",
      "Output Notebook: 01_data_access_report.ipynb\n",
      "Executing:   0%|          | 0/9 [00:00<?, ?cell/s]Executing notebook with kernel: python3\n",
      "Executing: 100%|██████████| 9/9 [00:05<00:00,  1.64cell/s]\n"
     ]
    },
    {
     "name": "stdout",
     "output_type": "stream",
     "text": [
      "-- plot\n",
      "-- stats\n"
     ]
    }
   ],
   "source": [
    "%doit"
   ]
  },
  {
   "cell_type": "markdown",
   "id": "b54da907-25b8-448a-bfa3-e9d37a8d9d14",
   "metadata": {},
   "source": [
    "Delete the newly added rows from data.csv and run both the tasks again"
   ]
  },
  {
   "cell_type": "code",
   "execution_count": 17,
   "id": "c62e6cdc-5fbe-4fc1-9ad8-77e9471df245",
   "metadata": {},
   "outputs": [
    {
     "name": "stdout",
     "output_type": "stream",
     "text": [
      ".  download\n"
     ]
    },
    {
     "name": "stderr",
     "output_type": "stream",
     "text": [
      "C:\\Users\\atle_\\anaconda3\\envs\\notebook_driven_development_test\\Scripts\\papermill.exe\\__main__.py:4: DeprecationWarning: Parsing dates involving a day of month without a year specified is ambiguious\n",
      "and fails to parse leap day. The default behavior will change in Python 3.15\n",
      "to either always raise an exception or to use a different default year (TBD).\n",
      "To avoid trouble, add a specific year to the input & format.\n",
      "See https://github.com/python/cpython/issues/70647.\n",
      "Input Notebook:  notebooks/01_data_access.ipynb\n",
      "Output Notebook: 01_data_access_report.ipynb\n",
      "Executing:   0%|          | 0/9 [00:00<?, ?cell/s]Executing notebook with kernel: python3\n",
      "Executing: 100%|██████████| 9/9 [00:02<00:00,  3.23cell/s]\n"
     ]
    },
    {
     "name": "stdout",
     "output_type": "stream",
     "text": [
      "-- plot\n",
      "-- stats\n"
     ]
    }
   ],
   "source": [
    "%doit"
   ]
  },
  {
   "cell_type": "markdown",
   "id": "c3cd5b21-aab6-4d65-870b-d9ee4146c40b",
   "metadata": {},
   "source": [
    "## Target Dependency\n",
    "\n",
    "\n",
    "In `doit`, `targets` refer to the output files or directories a task generates, and they are used to determine whether a task needs to be re-executed. If the targets don’t exist or are older than the specified dependencies (`file_dep`), the task will run; otherwise, it will be skipped, ensuring efficient task execution. Targets can be single or multiple files, and they enable chaining of tasks, where one task's output becomes the dependency of another. This mechanism allows for structured, incremental workflows, avoiding unnecessary re-runs and optimizing task management in projects."
   ]
  },
  {
   "cell_type": "markdown",
   "id": "def2e423-061b-4768-b74b-3cb4ec270619",
   "metadata": {},
   "source": [
    "**Example** Create task download with the below code such that it depends on `notebooks/01_data_access.ipynb` and target is `data/data.csv`\n",
    "\n",
    "`papermill notebooks/01_data_access.ipynb 01_data_access_report.ipynb -p output_csv data/data.csv`"
   ]
  },
  {
   "cell_type": "code",
   "execution_count": 17,
   "id": "55e47a29-d35c-4677-9b24-4b449ccc82d8",
   "metadata": {},
   "outputs": [],
   "source": [
    "def task_download():\n",
    "    return {\n",
    "        'actions': ['papermill notebooks/01_data_access.ipynb 01_data_access_report.ipynb -p output_csv data/data.csv'],\n",
    "        'file_dep': ['notebooks/01_data_access.ipynb'],\n",
    "        'targets': [\"data/data.csv\"]\n",
    "    }"
   ]
  },
  {
   "cell_type": "code",
   "execution_count": 18,
   "id": "6c1fe27a-1933-4de4-bd90-c262f5ede39c",
   "metadata": {},
   "outputs": [
    {
     "name": "stdout",
     "output_type": "stream",
     "text": [
      "-- download\n"
     ]
    }
   ],
   "source": [
    "%doit download"
   ]
  },
  {
   "cell_type": "markdown",
   "id": "d710d464-6478-4aa1-b61d-85a9c512012b",
   "metadata": {},
   "source": [
    "Run `%doit download` again"
   ]
  },
  {
   "cell_type": "code",
   "execution_count": 19,
   "id": "1c4f31a3-d37c-48c2-a96c-96777a9e7c20",
   "metadata": {},
   "outputs": [
    {
     "name": "stdout",
     "output_type": "stream",
     "text": [
      "-- download\n"
     ]
    }
   ],
   "source": [
    "%doit download"
   ]
  },
  {
   "cell_type": "markdown",
   "id": "6b9e83ad-1356-463d-8312-02d9be089bd2",
   "metadata": {},
   "source": [
    "Create a task called stats that runs the below command with a file dependency on `data/data.csv` and target of data/data_stats.csv\n",
    "\n",
    "`papermill notebooks/02_stats.ipynb 02_stats_report.ipynb -p csv_file data/data.csv -p output_csv data/data_stats.csv`"
   ]
  },
  {
   "cell_type": "code",
   "execution_count": 24,
   "id": "690bb29a-cce2-462f-b4e7-f6a47a5eb6e2",
   "metadata": {},
   "outputs": [],
   "source": [
    "def task_stats():  \n",
    "    return {\n",
    "        'actions': ['papermill notebooks/02_stats.ipynb 02_stats_report.ipynb  -p csv_file data/data.csv -p output_csv data/data_stats.csv'],\n",
    "        'file_dep': ['data/data.csv'],\n",
    "        'targets': ['data/data_stats.csv']\n",
    "    }"
   ]
  },
  {
   "cell_type": "markdown",
   "id": "a9e46e30-c199-4354-8f95-a370b34b94d9",
   "metadata": {},
   "source": [
    "Run `%doit stats`"
   ]
  },
  {
   "cell_type": "code",
   "execution_count": 25,
   "id": "c5f67c10-0153-4f9f-ba20-715a01ec0de7",
   "metadata": {},
   "outputs": [
    {
     "name": "stdout",
     "output_type": "stream",
     "text": [
      "-- download\n",
      "-- stats\n"
     ]
    }
   ],
   "source": [
    "%doit stats"
   ]
  },
  {
   "cell_type": "markdown",
   "id": "4e3db18c-aacd-4aee-b32f-18f95ae3886c",
   "metadata": {},
   "source": [
    "What do you see and why?"
   ]
  },
  {
   "cell_type": "markdown",
   "id": "161fdba7-84df-41f0-b0eb-704de0f7eba8",
   "metadata": {},
   "source": [
    "Create a task called plot that runs the below command with a file dependency on `data/data.csv` and target 'count.html'\n",
    "\n",
    "`papermill notebooks/03_visualization.ipynb 03_visualization_report.ipynb -p csv_file data/data.csv`\n"
   ]
  },
  {
   "cell_type": "code",
   "execution_count": 37,
   "id": "bf46e146-25ed-4361-b9fe-42565ff76a45",
   "metadata": {},
   "outputs": [],
   "source": [
    "def task_plot():  \n",
    "    return {\n",
    "        'actions': ['papermill notebooks/03_visualization.ipynb 03_visualization_report.ipynb -p csv_file data/data.csv'],\n",
    "        'file_dep': ['data/data.csv'],\n",
    "        'targets': ['count.html']\n",
    "    }"
   ]
  },
  {
   "cell_type": "markdown",
   "id": "042ffb90-8ba2-43c3-8558-b93cdbf1b527",
   "metadata": {},
   "source": [
    "Run `%doit plot`. What do you see and why? <font color='red'> I don't see anything other than -- download and -- plot, meaning that they are skipped. Am I supposed to see something else? </font>"
   ]
  },
  {
   "cell_type": "code",
   "execution_count": 39,
   "id": "8aa776f3-b34a-42f6-ad3a-02a76246599f",
   "metadata": {},
   "outputs": [
    {
     "name": "stdout",
     "output_type": "stream",
     "text": [
      "-- download\n",
      "-- plot\n"
     ]
    }
   ],
   "source": [
    "%doit plot"
   ]
  },
  {
   "cell_type": "markdown",
   "id": "80a92278-62ae-462e-92b0-b0cbf0372c7b",
   "metadata": {},
   "source": [
    "**DELETE data/data.csv, data/data_stats.csv, count.html**\n",
    "\n",
    "**Example** Create task download with the below code such that it depends on `notebooks/01_data_access.ipynb` and targets are `data/data.csv` and `01_data_access_report.ipynb`\n",
    "\n",
    "`papermill notebooks/01_data_access.ipynb 01_data_access_report.ipynb -p output_csv data/data.csv`"
   ]
  },
  {
   "cell_type": "code",
   "execution_count": 40,
   "id": "8499908b-2929-4cc8-b3ea-d638f8786a57",
   "metadata": {},
   "outputs": [],
   "source": [
    "def task_download():\n",
    "    return {\n",
    "        'actions': ['papermill notebooks/01_data_access.ipynb 01_data_access_report.ipynb -p output_csv data/data.csv'],\n",
    "        'file_dep': ['notebooks/01_data_access.ipynb'],\n",
    "        'targets': [\"data/data.csv\", \"01_data_access_report.ipynb\"]\n",
    "    }"
   ]
  },
  {
   "cell_type": "code",
   "execution_count": 41,
   "id": "63feee8a-437c-45b4-8e7b-c9314d9629c9",
   "metadata": {},
   "outputs": [
    {
     "name": "stdout",
     "output_type": "stream",
     "text": [
      "-- download\n"
     ]
    }
   ],
   "source": [
    "%doit download"
   ]
  },
  {
   "cell_type": "code",
   "execution_count": 42,
   "id": "98d4a40f-d61f-4ecd-9596-3ebac42d4f61",
   "metadata": {},
   "outputs": [
    {
     "name": "stdout",
     "output_type": "stream",
     "text": [
      "-- download\n"
     ]
    }
   ],
   "source": [
    "%doit download"
   ]
  },
  {
   "cell_type": "markdown",
   "id": "0969e434-6d37-49d0-8de7-7754ed32faf0",
   "metadata": {},
   "source": [
    "Create a task called stats that runs the below command with a file dependency on `data/data.csv` and targets are `data/data_stats.csv` and `02_stats_report.ipynb`\n",
    "\n",
    "`papermill notebooks/02_stats.ipynb 02_stats_report.ipynb -p csv_file data/data.csv -p output_csv data/data_stats.csv`"
   ]
  },
  {
   "cell_type": "code",
   "execution_count": 43,
   "id": "70e1eecd-6812-4aa7-8432-cf63de56e24b",
   "metadata": {},
   "outputs": [],
   "source": [
    "def task_stats():  \n",
    "    return {\n",
    "        'actions': ['papermill notebooks/02_stats.ipynb 02_stats_report.ipynb  -p csv_file data/data.csv -p output_csv data/data_stats.csv'],\n",
    "        'file_dep': ['data/data.csv'],\n",
    "        'targets': ['data/data_stats.csv', \"02_stats_report.ipynb\"]\n",
    "    }"
   ]
  },
  {
   "cell_type": "code",
   "execution_count": 44,
   "id": "df039b64-7e09-4630-b9f6-f2012b5daca7",
   "metadata": {},
   "outputs": [
    {
     "name": "stdout",
     "output_type": "stream",
     "text": [
      "-- download\n",
      "-- stats\n"
     ]
    }
   ],
   "source": [
    "%doit stats"
   ]
  },
  {
   "cell_type": "code",
   "execution_count": 45,
   "id": "b6b8d9bb-d644-4b56-b88a-e768689a644e",
   "metadata": {},
   "outputs": [
    {
     "name": "stdout",
     "output_type": "stream",
     "text": [
      "-- download\n",
      "-- stats\n"
     ]
    }
   ],
   "source": [
    "%doit stats"
   ]
  },
  {
   "cell_type": "markdown",
   "id": "8400dfdd-34b2-46f0-9245-004bebc44b21",
   "metadata": {},
   "source": [
    "Create a task called plot that runs the below command with a file dependency on `data/data.csv` and targets are `count.html` and `03_visualization_report.ipynb`\n",
    "\n",
    "`papermill notebooks/03_visualization.ipynb 03_visualization_report.ipynb -p csv_file data/data.csv`\n"
   ]
  },
  {
   "cell_type": "code",
   "execution_count": 46,
   "id": "ef9e87a0-57ba-4952-9d11-f524d92fbbad",
   "metadata": {},
   "outputs": [],
   "source": [
    "def task_plot():  \n",
    "    return {\n",
    "        'actions': ['papermill notebooks/03_visualization.ipynb 03_visualization_report.ipynb -p csv_file data/data.csv'],\n",
    "        'file_dep': ['data/data.csv'],\n",
    "        'targets': ['count.html', '03_visualization_report.ipynb']\n",
    "    }"
   ]
  },
  {
   "cell_type": "code",
   "execution_count": 47,
   "id": "9e4a5fe8-bdc1-44d0-9166-f33839a5fa88",
   "metadata": {},
   "outputs": [
    {
     "name": "stdout",
     "output_type": "stream",
     "text": [
      "-- download\n",
      "-- plot\n"
     ]
    }
   ],
   "source": [
    "%doit plot"
   ]
  },
  {
   "cell_type": "code",
   "execution_count": 48,
   "id": "e048a6b8-ee27-4ba6-8ca8-5577a9306bd7",
   "metadata": {},
   "outputs": [
    {
     "name": "stdout",
     "output_type": "stream",
     "text": [
      "-- download\n",
      "-- plot\n"
     ]
    }
   ],
   "source": [
    "%doit plot"
   ]
  }
 ],
 "metadata": {
  "kernelspec": {
   "display_name": "notebook_driven_development_test",
   "language": "python",
   "name": "python3"
  },
  "language_info": {
   "codemirror_mode": {
    "name": "ipython",
    "version": 3
   },
   "file_extension": ".py",
   "mimetype": "text/x-python",
   "name": "python",
   "nbconvert_exporter": "python",
   "pygments_lexer": "ipython3",
   "version": "3.13.0"
  }
 },
 "nbformat": 4,
 "nbformat_minor": 5
}
