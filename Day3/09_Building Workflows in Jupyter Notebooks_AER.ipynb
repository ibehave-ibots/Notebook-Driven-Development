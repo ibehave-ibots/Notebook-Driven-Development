{
 "cells": [
  {
   "cell_type": "code",
   "execution_count": null,
   "id": "0cd5ef71-34ae-4721-b5f8-1c0fba3fb05e",
   "metadata": {
    "editable": true,
    "slideshow": {
     "slide_type": ""
    },
    "tags": []
   },
   "outputs": [],
   "source": [
    "# !pip install doit import-ipynb"
   ]
  },
  {
   "cell_type": "code",
   "execution_count": 2,
   "id": "54c67264-3377-4c90-880b-6fa91b3f7202",
   "metadata": {},
   "outputs": [
    {
     "data": {
      "text/html": [
       "<script type=\"esms-options\">{\"shimMode\": true}</script><style>*[data-root-id],\n",
       "*[data-root-id] > * {\n",
       "  box-sizing: border-box;\n",
       "  font-family: var(--jp-ui-font-family);\n",
       "  font-size: var(--jp-ui-font-size1);\n",
       "  color: var(--vscode-editor-foreground, var(--jp-ui-font-color1));\n",
       "}\n",
       "\n",
       "/* Override VSCode background color */\n",
       ".cell-output-ipywidget-background:has(\n",
       "    > .cell-output-ipywidget-background > .lm-Widget > *[data-root-id]\n",
       "  ),\n",
       ".cell-output-ipywidget-background:has(> .lm-Widget > *[data-root-id]) {\n",
       "  background-color: transparent !important;\n",
       "}\n",
       "</style>"
      ]
     },
     "metadata": {},
     "output_type": "display_data"
    },
    {
     "data": {
      "application/javascript": "(function(root) {\n  function now() {\n    return new Date();\n  }\n\n  const force = true;\n  const py_version = '3.6.0'.replace('rc', '-rc.').replace('.dev', '-dev.');\n  const reloading = false;\n  const Bokeh = root.Bokeh;\n\n  // Set a timeout for this load but only if we are not already initializing\n  if (typeof (root._bokeh_timeout) === \"undefined\" || (force || !root._bokeh_is_initializing)) {\n    root._bokeh_timeout = Date.now() + 5000;\n    root._bokeh_failed_load = false;\n  }\n\n  function run_callbacks() {\n    try {\n      root._bokeh_onload_callbacks.forEach(function(callback) {\n        if (callback != null)\n          callback();\n      });\n    } finally {\n      delete root._bokeh_onload_callbacks;\n    }\n    console.debug(\"Bokeh: all callbacks have finished\");\n  }\n\n  function load_libs(css_urls, js_urls, js_modules, js_exports, callback) {\n    if (css_urls == null) css_urls = [];\n    if (js_urls == null) js_urls = [];\n    if (js_modules == null) js_modules = [];\n    if (js_exports == null) js_exports = {};\n\n    root._bokeh_onload_callbacks.push(callback);\n\n    if (root._bokeh_is_loading > 0) {\n      // Don't load bokeh if it is still initializing\n      console.debug(\"Bokeh: BokehJS is being loaded, scheduling callback at\", now());\n      return null;\n    } else if (js_urls.length === 0 && js_modules.length === 0 && Object.keys(js_exports).length === 0) {\n      // There is nothing to load\n      run_callbacks();\n      return null;\n    }\n\n    function on_load() {\n      root._bokeh_is_loading--;\n      if (root._bokeh_is_loading === 0) {\n        console.debug(\"Bokeh: all BokehJS libraries/stylesheets loaded\");\n        run_callbacks()\n      }\n    }\n    window._bokeh_on_load = on_load\n\n    function on_error(e) {\n      const src_el = e.srcElement\n      console.error(\"failed to load \" + (src_el.href || src_el.src));\n    }\n\n    const skip = [];\n    if (window.requirejs) {\n      window.requirejs.config({'packages': {}, 'paths': {}, 'shim': {}});\n      root._bokeh_is_loading = css_urls.length + 0;\n    } else {\n      root._bokeh_is_loading = css_urls.length + js_urls.length + js_modules.length + Object.keys(js_exports).length;\n    }\n\n    const existing_stylesheets = []\n    const links = document.getElementsByTagName('link')\n    for (let i = 0; i < links.length; i++) {\n      const link = links[i]\n      if (link.href != null) {\n        existing_stylesheets.push(link.href)\n      }\n    }\n    for (let i = 0; i < css_urls.length; i++) {\n      const url = css_urls[i];\n      const escaped = encodeURI(url)\n      if (existing_stylesheets.indexOf(escaped) !== -1) {\n        on_load()\n        continue;\n      }\n      const element = document.createElement(\"link\");\n      element.onload = on_load;\n      element.onerror = on_error;\n      element.rel = \"stylesheet\";\n      element.type = \"text/css\";\n      element.href = url;\n      console.debug(\"Bokeh: injecting link tag for BokehJS stylesheet: \", url);\n      document.body.appendChild(element);\n    }    var existing_scripts = []\n    const scripts = document.getElementsByTagName('script')\n    for (let i = 0; i < scripts.length; i++) {\n      var script = scripts[i]\n      if (script.src != null) {\n        existing_scripts.push(script.src)\n      }\n    }\n    for (let i = 0; i < js_urls.length; i++) {\n      const url = js_urls[i];\n      const escaped = encodeURI(url)\n      if (skip.indexOf(escaped) !== -1 || existing_scripts.indexOf(escaped) !== -1) {\n        if (!window.requirejs) {\n          on_load();\n        }\n        continue;\n      }\n      const element = document.createElement('script');\n      element.onload = on_load;\n      element.onerror = on_error;\n      element.async = false;\n      element.src = url;\n      console.debug(\"Bokeh: injecting script tag for BokehJS library: \", url);\n      document.head.appendChild(element);\n    }\n    for (let i = 0; i < js_modules.length; i++) {\n      const url = js_modules[i];\n      const escaped = encodeURI(url)\n      if (skip.indexOf(escaped) !== -1 || existing_scripts.indexOf(escaped) !== -1) {\n        if (!window.requirejs) {\n          on_load();\n        }\n        continue;\n      }\n      var element = document.createElement('script');\n      element.onload = on_load;\n      element.onerror = on_error;\n      element.async = false;\n      element.src = url;\n      element.type = \"module\";\n      console.debug(\"Bokeh: injecting script tag for BokehJS library: \", url);\n      document.head.appendChild(element);\n    }\n    for (const name in js_exports) {\n      const url = js_exports[name];\n      const escaped = encodeURI(url)\n      if (skip.indexOf(escaped) >= 0 || root[name] != null) {\n        if (!window.requirejs) {\n          on_load();\n        }\n        continue;\n      }\n      var element = document.createElement('script');\n      element.onerror = on_error;\n      element.async = false;\n      element.type = \"module\";\n      console.debug(\"Bokeh: injecting script tag for BokehJS library: \", url);\n      element.textContent = `\n      import ${name} from \"${url}\"\n      window.${name} = ${name}\n      window._bokeh_on_load()\n      `\n      document.head.appendChild(element);\n    }\n    if (!js_urls.length && !js_modules.length) {\n      on_load()\n    }\n  };\n\n  function inject_raw_css(css) {\n    const element = document.createElement(\"style\");\n    element.appendChild(document.createTextNode(css));\n    document.body.appendChild(element);\n  }\n\n  const js_urls = [\"https://cdn.holoviz.org/panel/1.5.2/dist/bundled/reactiveesm/es-module-shims@^1.10.0/dist/es-module-shims.min.js\", \"https://cdn.bokeh.org/bokeh/release/bokeh-3.6.0.min.js\", \"https://cdn.bokeh.org/bokeh/release/bokeh-gl-3.6.0.min.js\", \"https://cdn.bokeh.org/bokeh/release/bokeh-widgets-3.6.0.min.js\", \"https://cdn.bokeh.org/bokeh/release/bokeh-tables-3.6.0.min.js\", \"https://cdn.holoviz.org/panel/1.5.2/dist/panel.min.js\"];\n  const js_modules = [];\n  const js_exports = {};\n  const css_urls = [];\n  const inline_js = [    function(Bokeh) {\n      Bokeh.set_log_level(\"info\");\n    },\nfunction(Bokeh) {} // ensure no trailing comma for IE\n  ];\n\n  function run_inline_js() {\n    if ((root.Bokeh !== undefined) || (force === true)) {\n      for (let i = 0; i < inline_js.length; i++) {\n        try {\n          inline_js[i].call(root, root.Bokeh);\n        } catch(e) {\n          if (!reloading) {\n            throw e;\n          }\n        }\n      }\n      // Cache old bokeh versions\n      if (Bokeh != undefined && !reloading) {\n        var NewBokeh = root.Bokeh;\n        if (Bokeh.versions === undefined) {\n          Bokeh.versions = new Map();\n        }\n        if (NewBokeh.version !== Bokeh.version) {\n          Bokeh.versions.set(NewBokeh.version, NewBokeh)\n        }\n        root.Bokeh = Bokeh;\n      }\n    } else if (Date.now() < root._bokeh_timeout) {\n      setTimeout(run_inline_js, 100);\n    } else if (!root._bokeh_failed_load) {\n      console.log(\"Bokeh: BokehJS failed to load within specified timeout.\");\n      root._bokeh_failed_load = true;\n    }\n    root._bokeh_is_initializing = false\n  }\n\n  function load_or_wait() {\n    // Implement a backoff loop that tries to ensure we do not load multiple\n    // versions of Bokeh and its dependencies at the same time.\n    // In recent versions we use the root._bokeh_is_initializing flag\n    // to determine whether there is an ongoing attempt to initialize\n    // bokeh, however for backward compatibility we also try to ensure\n    // that we do not start loading a newer (Panel>=1.0 and Bokeh>3) version\n    // before older versions are fully initialized.\n    if (root._bokeh_is_initializing && Date.now() > root._bokeh_timeout) {\n      // If the timeout and bokeh was not successfully loaded we reset\n      // everything and try loading again\n      root._bokeh_timeout = Date.now() + 5000;\n      root._bokeh_is_initializing = false;\n      root._bokeh_onload_callbacks = undefined;\n      root._bokeh_is_loading = 0\n      console.log(\"Bokeh: BokehJS was loaded multiple times but one version failed to initialize.\");\n      load_or_wait();\n    } else if (root._bokeh_is_initializing || (typeof root._bokeh_is_initializing === \"undefined\" && root._bokeh_onload_callbacks !== undefined)) {\n      setTimeout(load_or_wait, 100);\n    } else {\n      root._bokeh_is_initializing = true\n      root._bokeh_onload_callbacks = []\n      const bokeh_loaded = root.Bokeh != null && (root.Bokeh.version === py_version || (root.Bokeh.versions !== undefined && root.Bokeh.versions.has(py_version)));\n      if (!reloading && !bokeh_loaded) {\n        if (root.Bokeh) {\n          root.Bokeh = undefined;\n        }\n        console.debug(\"Bokeh: BokehJS not loaded, scheduling load and callback at\", now());\n      }\n      load_libs(css_urls, js_urls, js_modules, js_exports, function() {\n        console.debug(\"Bokeh: BokehJS plotting callback run at\", now());\n        run_inline_js();\n      });\n    }\n  }\n  // Give older versions of the autoload script a head-start to ensure\n  // they initialize before we start loading newer version.\n  setTimeout(load_or_wait, 100)\n}(window));",
      "application/vnd.holoviews_load.v0+json": ""
     },
     "metadata": {},
     "output_type": "display_data"
    },
    {
     "data": {
      "application/javascript": "\nif ((window.PyViz === undefined) || (window.PyViz instanceof HTMLElement)) {\n  window.PyViz = {comms: {}, comm_status:{}, kernels:{}, receivers: {}, plot_index: []}\n}\n\n\n    function JupyterCommManager() {\n    }\n\n    JupyterCommManager.prototype.register_target = function(plot_id, comm_id, msg_handler) {\n      if (window.comm_manager || ((window.Jupyter !== undefined) && (Jupyter.notebook.kernel != null))) {\n        var comm_manager = window.comm_manager || Jupyter.notebook.kernel.comm_manager;\n        comm_manager.register_target(comm_id, function(comm) {\n          comm.on_msg(msg_handler);\n        });\n      } else if ((plot_id in window.PyViz.kernels) && (window.PyViz.kernels[plot_id])) {\n        window.PyViz.kernels[plot_id].registerCommTarget(comm_id, function(comm) {\n          comm.onMsg = msg_handler;\n        });\n      } else if (typeof google != 'undefined' && google.colab.kernel != null) {\n        google.colab.kernel.comms.registerTarget(comm_id, (comm) => {\n          var messages = comm.messages[Symbol.asyncIterator]();\n          function processIteratorResult(result) {\n            var message = result.value;\n            console.log(message)\n            var content = {data: message.data, comm_id};\n            var buffers = []\n            for (var buffer of message.buffers || []) {\n              buffers.push(new DataView(buffer))\n            }\n            var metadata = message.metadata || {};\n            var msg = {content, buffers, metadata}\n            msg_handler(msg);\n            return messages.next().then(processIteratorResult);\n          }\n          return messages.next().then(processIteratorResult);\n        })\n      }\n    }\n\n    JupyterCommManager.prototype.get_client_comm = function(plot_id, comm_id, msg_handler) {\n      if (comm_id in window.PyViz.comms) {\n        return window.PyViz.comms[comm_id];\n      } else if (window.comm_manager || ((window.Jupyter !== undefined) && (Jupyter.notebook.kernel != null))) {\n        var comm_manager = window.comm_manager || Jupyter.notebook.kernel.comm_manager;\n        var comm = comm_manager.new_comm(comm_id, {}, {}, {}, comm_id);\n        if (msg_handler) {\n          comm.on_msg(msg_handler);\n        }\n      } else if ((plot_id in window.PyViz.kernels) && (window.PyViz.kernels[plot_id])) {\n        var comm = window.PyViz.kernels[plot_id].connectToComm(comm_id);\n        comm.open();\n        if (msg_handler) {\n          comm.onMsg = msg_handler;\n        }\n      } else if (typeof google != 'undefined' && google.colab.kernel != null) {\n        var comm_promise = google.colab.kernel.comms.open(comm_id)\n        comm_promise.then((comm) => {\n          window.PyViz.comms[comm_id] = comm;\n          if (msg_handler) {\n            var messages = comm.messages[Symbol.asyncIterator]();\n            function processIteratorResult(result) {\n              var message = result.value;\n              var content = {data: message.data};\n              var metadata = message.metadata || {comm_id};\n              var msg = {content, metadata}\n              msg_handler(msg);\n              return messages.next().then(processIteratorResult);\n            }\n            return messages.next().then(processIteratorResult);\n          }\n        }) \n        var sendClosure = (data, metadata, buffers, disposeOnDone) => {\n          return comm_promise.then((comm) => {\n            comm.send(data, metadata, buffers, disposeOnDone);\n          });\n        };\n        var comm = {\n          send: sendClosure\n        };\n      }\n      window.PyViz.comms[comm_id] = comm;\n      return comm;\n    }\n    window.PyViz.comm_manager = new JupyterCommManager();\n    \n\n\nvar JS_MIME_TYPE = 'application/javascript';\nvar HTML_MIME_TYPE = 'text/html';\nvar EXEC_MIME_TYPE = 'application/vnd.holoviews_exec.v0+json';\nvar CLASS_NAME = 'output';\n\n/**\n * Render data to the DOM node\n */\nfunction render(props, node) {\n  var div = document.createElement(\"div\");\n  var script = document.createElement(\"script\");\n  node.appendChild(div);\n  node.appendChild(script);\n}\n\n/**\n * Handle when a new output is added\n */\nfunction handle_add_output(event, handle) {\n  var output_area = handle.output_area;\n  var output = handle.output;\n  if ((output.data == undefined) || (!output.data.hasOwnProperty(EXEC_MIME_TYPE))) {\n    return\n  }\n  var id = output.metadata[EXEC_MIME_TYPE][\"id\"];\n  var toinsert = output_area.element.find(\".\" + CLASS_NAME.split(' ')[0]);\n  if (id !== undefined) {\n    var nchildren = toinsert.length;\n    var html_node = toinsert[nchildren-1].children[0];\n    html_node.innerHTML = output.data[HTML_MIME_TYPE];\n    var scripts = [];\n    var nodelist = html_node.querySelectorAll(\"script\");\n    for (var i in nodelist) {\n      if (nodelist.hasOwnProperty(i)) {\n        scripts.push(nodelist[i])\n      }\n    }\n\n    scripts.forEach( function (oldScript) {\n      var newScript = document.createElement(\"script\");\n      var attrs = [];\n      var nodemap = oldScript.attributes;\n      for (var j in nodemap) {\n        if (nodemap.hasOwnProperty(j)) {\n          attrs.push(nodemap[j])\n        }\n      }\n      attrs.forEach(function(attr) { newScript.setAttribute(attr.name, attr.value) });\n      newScript.appendChild(document.createTextNode(oldScript.innerHTML));\n      oldScript.parentNode.replaceChild(newScript, oldScript);\n    });\n    if (JS_MIME_TYPE in output.data) {\n      toinsert[nchildren-1].children[1].textContent = output.data[JS_MIME_TYPE];\n    }\n    output_area._hv_plot_id = id;\n    if ((window.Bokeh !== undefined) && (id in Bokeh.index)) {\n      window.PyViz.plot_index[id] = Bokeh.index[id];\n    } else {\n      window.PyViz.plot_index[id] = null;\n    }\n  } else if (output.metadata[EXEC_MIME_TYPE][\"server_id\"] !== undefined) {\n    var bk_div = document.createElement(\"div\");\n    bk_div.innerHTML = output.data[HTML_MIME_TYPE];\n    var script_attrs = bk_div.children[0].attributes;\n    for (var i = 0; i < script_attrs.length; i++) {\n      toinsert[toinsert.length - 1].childNodes[1].setAttribute(script_attrs[i].name, script_attrs[i].value);\n    }\n    // store reference to server id on output_area\n    output_area._bokeh_server_id = output.metadata[EXEC_MIME_TYPE][\"server_id\"];\n  }\n}\n\n/**\n * Handle when an output is cleared or removed\n */\nfunction handle_clear_output(event, handle) {\n  var id = handle.cell.output_area._hv_plot_id;\n  var server_id = handle.cell.output_area._bokeh_server_id;\n  if (((id === undefined) || !(id in PyViz.plot_index)) && (server_id !== undefined)) { return; }\n  var comm = window.PyViz.comm_manager.get_client_comm(\"hv-extension-comm\", \"hv-extension-comm\", function () {});\n  if (server_id !== null) {\n    comm.send({event_type: 'server_delete', 'id': server_id});\n    return;\n  } else if (comm !== null) {\n    comm.send({event_type: 'delete', 'id': id});\n  }\n  delete PyViz.plot_index[id];\n  if ((window.Bokeh !== undefined) & (id in window.Bokeh.index)) {\n    var doc = window.Bokeh.index[id].model.document\n    doc.clear();\n    const i = window.Bokeh.documents.indexOf(doc);\n    if (i > -1) {\n      window.Bokeh.documents.splice(i, 1);\n    }\n  }\n}\n\n/**\n * Handle kernel restart event\n */\nfunction handle_kernel_cleanup(event, handle) {\n  delete PyViz.comms[\"hv-extension-comm\"];\n  window.PyViz.plot_index = {}\n}\n\n/**\n * Handle update_display_data messages\n */\nfunction handle_update_output(event, handle) {\n  handle_clear_output(event, {cell: {output_area: handle.output_area}})\n  handle_add_output(event, handle)\n}\n\nfunction register_renderer(events, OutputArea) {\n  function append_mime(data, metadata, element) {\n    // create a DOM node to render to\n    var toinsert = this.create_output_subarea(\n    metadata,\n    CLASS_NAME,\n    EXEC_MIME_TYPE\n    );\n    this.keyboard_manager.register_events(toinsert);\n    // Render to node\n    var props = {data: data, metadata: metadata[EXEC_MIME_TYPE]};\n    render(props, toinsert[0]);\n    element.append(toinsert);\n    return toinsert\n  }\n\n  events.on('output_added.OutputArea', handle_add_output);\n  events.on('output_updated.OutputArea', handle_update_output);\n  events.on('clear_output.CodeCell', handle_clear_output);\n  events.on('delete.Cell', handle_clear_output);\n  events.on('kernel_ready.Kernel', handle_kernel_cleanup);\n\n  OutputArea.prototype.register_mime_type(EXEC_MIME_TYPE, append_mime, {\n    safe: true,\n    index: 0\n  });\n}\n\nif (window.Jupyter !== undefined) {\n  try {\n    var events = require('base/js/events');\n    var OutputArea = require('notebook/js/outputarea').OutputArea;\n    if (OutputArea.prototype.mime_types().indexOf(EXEC_MIME_TYPE) == -1) {\n      register_renderer(events, OutputArea);\n    }\n  } catch(err) {\n  }\n}\n",
      "application/vnd.holoviews_load.v0+json": ""
     },
     "metadata": {},
     "output_type": "display_data"
    },
    {
     "data": {
      "application/vnd.holoviews_exec.v0+json": "",
      "text/html": [
       "<div id='p1004'>\n",
       "  <div id=\"f749fd76-d577-4577-b77b-16be49ceee3d\" data-root-id=\"p1004\" style=\"display: contents;\"></div>\n",
       "</div>\n",
       "<script type=\"application/javascript\">(function(root) {\n",
       "  var docs_json = {\"8f766759-18c5-492f-ad21-6e81148de9e9\":{\"version\":\"3.6.0\",\"title\":\"Bokeh Application\",\"roots\":[{\"type\":\"object\",\"name\":\"panel.models.browser.BrowserInfo\",\"id\":\"p1004\"},{\"type\":\"object\",\"name\":\"panel.models.comm_manager.CommManager\",\"id\":\"p1005\",\"attributes\":{\"plot_id\":\"p1004\",\"comm_id\":\"b31b2716fdeb4e91a25fa70fb14adf23\",\"client_comm_id\":\"77c16aa182c348ce8bdbba0febdf37b9\"}}],\"defs\":[{\"type\":\"model\",\"name\":\"ReactiveHTML1\"},{\"type\":\"model\",\"name\":\"FlexBox1\",\"properties\":[{\"name\":\"align_content\",\"kind\":\"Any\",\"default\":\"flex-start\"},{\"name\":\"align_items\",\"kind\":\"Any\",\"default\":\"flex-start\"},{\"name\":\"flex_direction\",\"kind\":\"Any\",\"default\":\"row\"},{\"name\":\"flex_wrap\",\"kind\":\"Any\",\"default\":\"wrap\"},{\"name\":\"gap\",\"kind\":\"Any\",\"default\":\"\"},{\"name\":\"justify_content\",\"kind\":\"Any\",\"default\":\"flex-start\"}]},{\"type\":\"model\",\"name\":\"FloatPanel1\",\"properties\":[{\"name\":\"config\",\"kind\":\"Any\",\"default\":{\"type\":\"map\"}},{\"name\":\"contained\",\"kind\":\"Any\",\"default\":true},{\"name\":\"position\",\"kind\":\"Any\",\"default\":\"right-top\"},{\"name\":\"offsetx\",\"kind\":\"Any\",\"default\":null},{\"name\":\"offsety\",\"kind\":\"Any\",\"default\":null},{\"name\":\"theme\",\"kind\":\"Any\",\"default\":\"primary\"},{\"name\":\"status\",\"kind\":\"Any\",\"default\":\"normalized\"}]},{\"type\":\"model\",\"name\":\"GridStack1\",\"properties\":[{\"name\":\"mode\",\"kind\":\"Any\",\"default\":\"warn\"},{\"name\":\"ncols\",\"kind\":\"Any\",\"default\":null},{\"name\":\"nrows\",\"kind\":\"Any\",\"default\":null},{\"name\":\"allow_resize\",\"kind\":\"Any\",\"default\":true},{\"name\":\"allow_drag\",\"kind\":\"Any\",\"default\":true},{\"name\":\"state\",\"kind\":\"Any\",\"default\":[]}]},{\"type\":\"model\",\"name\":\"drag1\",\"properties\":[{\"name\":\"slider_width\",\"kind\":\"Any\",\"default\":5},{\"name\":\"slider_color\",\"kind\":\"Any\",\"default\":\"black\"},{\"name\":\"value\",\"kind\":\"Any\",\"default\":50}]},{\"type\":\"model\",\"name\":\"click1\",\"properties\":[{\"name\":\"terminal_output\",\"kind\":\"Any\",\"default\":\"\"},{\"name\":\"debug_name\",\"kind\":\"Any\",\"default\":\"\"},{\"name\":\"clears\",\"kind\":\"Any\",\"default\":0}]},{\"type\":\"model\",\"name\":\"FastWrapper1\",\"properties\":[{\"name\":\"object\",\"kind\":\"Any\",\"default\":null},{\"name\":\"style\",\"kind\":\"Any\",\"default\":null}]},{\"type\":\"model\",\"name\":\"NotificationAreaBase1\",\"properties\":[{\"name\":\"js_events\",\"kind\":\"Any\",\"default\":{\"type\":\"map\"}},{\"name\":\"position\",\"kind\":\"Any\",\"default\":\"bottom-right\"},{\"name\":\"_clear\",\"kind\":\"Any\",\"default\":0}]},{\"type\":\"model\",\"name\":\"NotificationArea1\",\"properties\":[{\"name\":\"js_events\",\"kind\":\"Any\",\"default\":{\"type\":\"map\"}},{\"name\":\"notifications\",\"kind\":\"Any\",\"default\":[]},{\"name\":\"position\",\"kind\":\"Any\",\"default\":\"bottom-right\"},{\"name\":\"_clear\",\"kind\":\"Any\",\"default\":0},{\"name\":\"types\",\"kind\":\"Any\",\"default\":[{\"type\":\"map\",\"entries\":[[\"type\",\"warning\"],[\"background\",\"#ffc107\"],[\"icon\",{\"type\":\"map\",\"entries\":[[\"className\",\"fas fa-exclamation-triangle\"],[\"tagName\",\"i\"],[\"color\",\"white\"]]}]]},{\"type\":\"map\",\"entries\":[[\"type\",\"info\"],[\"background\",\"#007bff\"],[\"icon\",{\"type\":\"map\",\"entries\":[[\"className\",\"fas fa-info-circle\"],[\"tagName\",\"i\"],[\"color\",\"white\"]]}]]}]}]},{\"type\":\"model\",\"name\":\"Notification\",\"properties\":[{\"name\":\"background\",\"kind\":\"Any\",\"default\":null},{\"name\":\"duration\",\"kind\":\"Any\",\"default\":3000},{\"name\":\"icon\",\"kind\":\"Any\",\"default\":null},{\"name\":\"message\",\"kind\":\"Any\",\"default\":\"\"},{\"name\":\"notification_type\",\"kind\":\"Any\",\"default\":null},{\"name\":\"_destroyed\",\"kind\":\"Any\",\"default\":false}]},{\"type\":\"model\",\"name\":\"TemplateActions1\",\"properties\":[{\"name\":\"open_modal\",\"kind\":\"Any\",\"default\":0},{\"name\":\"close_modal\",\"kind\":\"Any\",\"default\":0}]},{\"type\":\"model\",\"name\":\"BootstrapTemplateActions1\",\"properties\":[{\"name\":\"open_modal\",\"kind\":\"Any\",\"default\":0},{\"name\":\"close_modal\",\"kind\":\"Any\",\"default\":0}]},{\"type\":\"model\",\"name\":\"TemplateEditor1\",\"properties\":[{\"name\":\"layout\",\"kind\":\"Any\",\"default\":[]}]},{\"type\":\"model\",\"name\":\"MaterialTemplateActions1\",\"properties\":[{\"name\":\"open_modal\",\"kind\":\"Any\",\"default\":0},{\"name\":\"close_modal\",\"kind\":\"Any\",\"default\":0}]},{\"type\":\"model\",\"name\":\"ReactiveESM1\"},{\"type\":\"model\",\"name\":\"JSComponent1\"},{\"type\":\"model\",\"name\":\"ReactComponent1\"},{\"type\":\"model\",\"name\":\"AnyWidgetComponent1\"},{\"type\":\"model\",\"name\":\"request_value1\",\"properties\":[{\"name\":\"fill\",\"kind\":\"Any\",\"default\":\"none\"},{\"name\":\"_synced\",\"kind\":\"Any\",\"default\":null},{\"name\":\"_request_sync\",\"kind\":\"Any\",\"default\":0}]}]}};\n",
       "  var render_items = [{\"docid\":\"8f766759-18c5-492f-ad21-6e81148de9e9\",\"roots\":{\"p1004\":\"f749fd76-d577-4577-b77b-16be49ceee3d\"},\"root_ids\":[\"p1004\"]}];\n",
       "  var docs = Object.values(docs_json)\n",
       "  if (!docs) {\n",
       "    return\n",
       "  }\n",
       "  const py_version = docs[0].version.replace('rc', '-rc.').replace('.dev', '-dev.')\n",
       "  async function embed_document(root) {\n",
       "    var Bokeh = get_bokeh(root)\n",
       "    await Bokeh.embed.embed_items_notebook(docs_json, render_items);\n",
       "    for (const render_item of render_items) {\n",
       "      for (const root_id of render_item.root_ids) {\n",
       "\tconst id_el = document.getElementById(root_id)\n",
       "\tif (id_el.children.length && id_el.children[0].hasAttribute('data-root-id')) {\n",
       "\t  const root_el = id_el.children[0]\n",
       "\t  root_el.id = root_el.id + '-rendered'\n",
       "\t  for (const child of root_el.children) {\n",
       "            // Ensure JupyterLab does not capture keyboard shortcuts\n",
       "            // see: https://jupyterlab.readthedocs.io/en/4.1.x/extension/notebook.html#keyboard-interaction-model\n",
       "\t    child.setAttribute('data-lm-suppress-shortcuts', 'true')\n",
       "\t  }\n",
       "\t}\n",
       "      }\n",
       "    }\n",
       "  }\n",
       "  function get_bokeh(root) {\n",
       "    if (root.Bokeh === undefined) {\n",
       "      return null\n",
       "    } else if (root.Bokeh.version !== py_version) {\n",
       "      if (root.Bokeh.versions === undefined || !root.Bokeh.versions.has(py_version)) {\n",
       "\treturn null\n",
       "      }\n",
       "      return root.Bokeh.versions.get(py_version);\n",
       "    } else if (root.Bokeh.version === py_version) {\n",
       "      return root.Bokeh\n",
       "    }\n",
       "    return null\n",
       "  }\n",
       "  function is_loaded(root) {\n",
       "    var Bokeh = get_bokeh(root)\n",
       "    return (Bokeh != null && Bokeh.Panel !== undefined)\n",
       "  }\n",
       "  if (is_loaded(root)) {\n",
       "    embed_document(root);\n",
       "  } else {\n",
       "    var attempts = 0;\n",
       "    var timer = setInterval(function(root) {\n",
       "      if (is_loaded(root)) {\n",
       "        clearInterval(timer);\n",
       "        embed_document(root);\n",
       "      } else if (document.readyState == \"complete\") {\n",
       "        attempts++;\n",
       "        if (attempts > 200) {\n",
       "          clearInterval(timer);\n",
       "\t  var Bokeh = get_bokeh(root)\n",
       "\t  if (Bokeh == null || Bokeh.Panel == null) {\n",
       "            console.warn(\"Panel: ERROR: Unable to run Panel code because Bokeh or Panel library is missing\");\n",
       "\t  } else {\n",
       "\t    console.warn(\"Panel: WARNING: Attempting to render but not all required libraries could be resolved.\")\n",
       "\t    embed_document(root)\n",
       "\t  }\n",
       "        }\n",
       "      }\n",
       "    }, 25, root)\n",
       "  }\n",
       "})(window);</script>"
      ]
     },
     "metadata": {
      "application/vnd.holoviews_exec.v0+json": {
       "id": "p1004"
      }
     },
     "output_type": "display_data"
    }
   ],
   "source": [
    "from doit import load_ipython_extension\n",
    "load_ipython_extension()\n",
    "import pandas as pd\n",
    "import hvplot.pandas\n",
    "import import_ipynb"
   ]
  },
  {
   "cell_type": "markdown",
   "id": "f801d2c9-8318-4532-bca9-2ed0f661ed7f",
   "metadata": {},
   "source": [
    "# Building Workflows in Jupyter Notebooks"
   ]
  },
  {
   "cell_type": "markdown",
   "id": "48469ef3-4986-4053-a756-6953c3e4d79d",
   "metadata": {},
   "source": [
    "## Functions\n",
    "\n",
    "Functions are reusable blocks of code that perform a specific task. \n",
    "They help organize code, make it more readable, and allow you to avoid repetition by encapsulating logic that can be called multiple times throughout a program.\n",
    "\n",
    "A function is defined using the def keyword followed by the function name and parentheses `()`. \n",
    "The code that performs the task is placed inside the function body, indented under the function definition\n",
    "\n",
    "```python\n",
    "def function_name(parameters):  # definition, name, parameters\n",
    "    # body\n",
    "    return value  # return (optional)\n",
    "```"
   ]
  },
  {
   "cell_type": "markdown",
   "id": "bcc031b7-26a5-4eee-8fa6-48965ce0a757",
   "metadata": {},
   "source": [
    "**Example** Make a function called `download_data` the replaces the below code:\n",
    "\n",
    "```python\n",
    "url = \"https://uni-bonn.sciebo.de/s/FYJPmdTyPo1qwRX/download\"\n",
    "output_csv = \"data/data.csv\"\n",
    "df = pd.read_csv(url)\n",
    "df.to_csv(output_csv, index=False)\n",
    "```"
   ]
  },
  {
   "cell_type": "code",
   "execution_count": 15,
   "id": "6daccec5-1fa4-4df1-bb28-aabe20fb841a",
   "metadata": {},
   "outputs": [],
   "source": [
    "def download_data():\n",
    "    url = \"https://uni-bonn.sciebo.de/s/FYJPmdTyPo1qwRX/download\"\n",
    "    output_csv = \"data/data.csv\"\n",
    "    df = pd.read_csv(url)\n",
    "    df.to_csv(output_csv, index=False)"
   ]
  },
  {
   "cell_type": "code",
   "execution_count": 17,
   "id": "e95b0573-b436-4255-b0a5-cb2cdd752b87",
   "metadata": {},
   "outputs": [],
   "source": [
    "# download_data()"
   ]
  },
  {
   "cell_type": "markdown",
   "id": "92648ad5-3466-4c6a-bede-c22dd6e58ee9",
   "metadata": {},
   "source": [
    "Make a function called `calculate_stats` that replaces the below code\n",
    "\n",
    "```python\n",
    "csv_file = \"data/data.csv\"\n",
    "output_csv = \"data/data_stats.csv\"\n",
    "df = pd.read_csv(csv_file)\n",
    "df_stat = df.describe().reset_index()\n",
    "df_stat.to_csv(output_csv, index=False)\n",
    "```"
   ]
  },
  {
   "cell_type": "code",
   "execution_count": 18,
   "id": "21039584-e52d-4976-8116-6bb5cb09c811",
   "metadata": {},
   "outputs": [],
   "source": [
    "def calculate_stats():\n",
    "    csv_file = \"data/data.csv\"\n",
    "    output_csv = \"data/data_stats.csv\"\n",
    "    df = pd.read_csv(csv_file)\n",
    "    df_stat = df.describe().reset_index()\n",
    "    df_stat.to_csv(output_csv, index=False)"
   ]
  },
  {
   "cell_type": "code",
   "execution_count": 20,
   "id": "d96b21ea-31ce-44e5-9825-b1048269c802",
   "metadata": {},
   "outputs": [],
   "source": [
    "# calculate_stats()"
   ]
  },
  {
   "cell_type": "markdown",
   "id": "e42f8d00-2c55-4602-9ccf-7ad91964638d",
   "metadata": {},
   "source": [
    "Make a function called `create_visualization` that replaces the below code\n",
    "\n",
    "```python\n",
    "csv_file = \"data/data.csv\"\n",
    "hist_col_name = 'response_time'\n",
    "df = pd.read_csv(csv_file)\n",
    "df[hist_col_name].hvplot.hist()\n",
    "```"
   ]
  },
  {
   "cell_type": "code",
   "execution_count": 21,
   "id": "e375cb85-c454-4a24-b4a3-d362876172e2",
   "metadata": {},
   "outputs": [],
   "source": [
    "def create_vizualization():\n",
    "    csv_file = \"data/data.csv\"\n",
    "    hist_col_name = 'response_time'\n",
    "    df = pd.read_csv(csv_file)\n",
    "    df[hist_col_name].hvplot.hist()"
   ]
  },
  {
   "cell_type": "markdown",
   "id": "1307dc8a-5fdc-4cac-8c40-3539adae4d89",
   "metadata": {},
   "source": [
    "**Example** Make `url` a parameter in `download_data` function"
   ]
  },
  {
   "cell_type": "code",
   "execution_count": 22,
   "id": "4f3d69c2-48f8-40e5-a713-bb4522161b86",
   "metadata": {},
   "outputs": [],
   "source": [
    "def download_data(url):\n",
    "    output_csv = \"data/data.csv\"\n",
    "    df = pd.read_csv(url)\n",
    "    df.to_csv(output_csv, index=False)"
   ]
  },
  {
   "cell_type": "code",
   "execution_count": 24,
   "id": "4529ad43-d944-4bf0-b832-1a6b266b7464",
   "metadata": {},
   "outputs": [],
   "source": [
    "# download_data(\"https://uni-bonn.sciebo.de/s/FYJPmdTyPo1qwRX/download\")"
   ]
  },
  {
   "cell_type": "markdown",
   "id": "7bad3550-551c-499a-96ff-48994dd03665",
   "metadata": {},
   "source": [
    "Make `csv_file` a parameter in `calculate_stats` function"
   ]
  },
  {
   "cell_type": "code",
   "execution_count": 25,
   "id": "a9f2d855-f3bc-4021-ae43-99ce4b48fe37",
   "metadata": {},
   "outputs": [],
   "source": [
    "def calculate_stats(csv_file):\n",
    "    output_csv = \"data/data_stats.csv\"\n",
    "    df = pd.read_csv(csv_file)\n",
    "    df_stat = df.describe().reset_index()\n",
    "    df_stat.to_csv(output_csv, index=False)"
   ]
  },
  {
   "cell_type": "code",
   "execution_count": 28,
   "id": "2571a0e3-fe4e-463c-bc64-1b27c444e35b",
   "metadata": {},
   "outputs": [],
   "source": [
    "# calculate_stats(\"data/data.csv\")"
   ]
  },
  {
   "cell_type": "markdown",
   "id": "f4cc9120-a01d-4669-8208-bb35449371ea",
   "metadata": {},
   "source": [
    "Make `csv_file` a parameter in `create_visualization` function"
   ]
  },
  {
   "cell_type": "code",
   "execution_count": 29,
   "id": "fec55d5f-a509-4dbe-a37c-c0b772948d2a",
   "metadata": {},
   "outputs": [],
   "source": [
    "def create_vizualization(csv_file):\n",
    "    hist_col_name = 'response_time'\n",
    "    df = pd.read_csv(csv_file)\n",
    "    df[hist_col_name].hvplot.hist()"
   ]
  },
  {
   "cell_type": "code",
   "execution_count": 32,
   "id": "2d8d6cc4-158c-4428-890c-07b1e40e3988",
   "metadata": {},
   "outputs": [],
   "source": [
    "# calculate_stats(\"data/data.csv\")"
   ]
  },
  {
   "cell_type": "markdown",
   "id": "5ea52550-3204-4c50-807f-94358be7e3bf",
   "metadata": {},
   "source": [
    "**Example** Make `url` and `output_csv` as parameters in `download_data` function"
   ]
  },
  {
   "cell_type": "code",
   "execution_count": 33,
   "id": "fb99910d-ee10-44fe-aafc-53acbc93f647",
   "metadata": {},
   "outputs": [],
   "source": [
    "def download_data(url, output_csv):\n",
    "    df = pd.read_csv(url)\n",
    "    df.to_csv(output_csv, index=False)"
   ]
  },
  {
   "cell_type": "markdown",
   "id": "08c0e001-645f-407a-8833-dff1645d1651",
   "metadata": {},
   "source": [
    "Make `csv_file` and `output_csv` as parameters in `calculate_stats` function"
   ]
  },
  {
   "cell_type": "code",
   "execution_count": 34,
   "id": "627f7c01-4d94-4077-a736-69d168c06861",
   "metadata": {
    "editable": true,
    "slideshow": {
     "slide_type": ""
    },
    "tags": []
   },
   "outputs": [],
   "source": [
    "def calculate_stats(csv_file, output_csv):\n",
    "    df = pd.read_csv(csv_file)\n",
    "    df_stat = df.describe().reset_index()\n",
    "    df_stat.to_csv(output_csv, index=False)"
   ]
  },
  {
   "cell_type": "markdown",
   "id": "f160c060-faf9-41bb-b6bf-4ea87dcefd4c",
   "metadata": {},
   "source": [
    "Make `csv_file` and `hist_col_name` as parameters in `create_visualization` function"
   ]
  },
  {
   "cell_type": "code",
   "execution_count": 35,
   "id": "8679a5f2-4e6c-4480-a1ac-e8a67d89e315",
   "metadata": {},
   "outputs": [],
   "source": [
    "def create_vizualization(csv_file, hist_col_name):\n",
    "    df = pd.read_csv(csv_file)\n",
    "    df[hist_col_name].hvplot.hist()"
   ]
  },
  {
   "cell_type": "markdown",
   "id": "c5df85f9-bd80-4104-896f-dd2e44f59c1b",
   "metadata": {},
   "source": [
    "## doit Workflows\n",
    "\n",
    "<font color='red'> A short introductory text saying what doit is and does might be useful here. </font>"
   ]
  },
  {
   "cell_type": "markdown",
   "id": "d6f1e7cc-0550-4945-a62d-6d93e7246ddd",
   "metadata": {},
   "source": [
    "**Example** Add a doit task called `download` that implements the below code\n",
    "\n",
    "```python\n",
    "def download_data():\n",
    "    url = \"https://uni-bonn.sciebo.de/s/FYJPmdTyPo1qwRX/download\"\n",
    "    output_csv = \"data/data.csv\"\n",
    "    df = pd.read_csv(url)\n",
    "    df.to_csv(output_csv, index=False)\n",
    "```"
   ]
  },
  {
   "cell_type": "code",
   "execution_count": 36,
   "id": "dc5b3d73-c0b1-4556-8b10-a32081b3f723",
   "metadata": {},
   "outputs": [],
   "source": [
    "def task_download():\n",
    "    def download_data():\n",
    "        url = \"https://uni-bonn.sciebo.de/s/FYJPmdTyPo1qwRX/download\"\n",
    "        output_csv = \"data/data.csv\"\n",
    "        df = pd.read_csv(url)\n",
    "        df.to_csv(output_csv, index=False)\n",
    "    \n",
    "    return {\n",
    "        'actions': [download_data],\n",
    "    }"
   ]
  },
  {
   "cell_type": "code",
   "execution_count": 37,
   "id": "ae93f8ac-f2fd-4d3d-a0bb-430f88d51ab1",
   "metadata": {},
   "outputs": [
    {
     "name": "stdout",
     "output_type": "stream",
     "text": [
      "download   \n"
     ]
    }
   ],
   "source": [
    "%doit list"
   ]
  },
  {
   "cell_type": "markdown",
   "id": "193b766b-154b-4137-a630-4c5f795fc2a4",
   "metadata": {},
   "source": [
    "Add a doit task called stats that implements the below code\n",
    "\n",
    "```python\n",
    "def calculate_stats():\n",
    "    csv_file = \"data/data.csv\"\n",
    "    output_csv = \"data/data_stats.csv\"\n",
    "    df = pd.read_csv(csv_file)\n",
    "    df_stat = df.describe().reset_index()\n",
    "    df_stat.to_csv(output_csv, index=False)  \n",
    "```"
   ]
  },
  {
   "cell_type": "code",
   "execution_count": 38,
   "id": "670be9ee-1335-49e5-bc57-ca84cde4bb12",
   "metadata": {},
   "outputs": [],
   "source": [
    "def task_stats():\n",
    "    def calculate_stats():\n",
    "        csv_file = \"data/data.csv\"\n",
    "        output_csv = \"data/data_stats.csv\"\n",
    "        df = pd.read_csv(csv_file)\n",
    "        df_stat = df.describe().reset_index()\n",
    "        df_stat.to_csv(output_csv, index=False)    \n",
    "    return {\n",
    "        'actions': [calculate_stats],\n",
    "    }"
   ]
  },
  {
   "cell_type": "code",
   "execution_count": 39,
   "id": "f7979a79-b89b-414f-aaa8-7de216ebb574",
   "metadata": {},
   "outputs": [
    {
     "name": "stdout",
     "output_type": "stream",
     "text": [
      "download   \n",
      "stats      \n"
     ]
    }
   ],
   "source": [
    "%doit list"
   ]
  },
  {
   "cell_type": "markdown",
   "id": "7a66c58b-eb1e-40b3-b13f-178e7fae2e89",
   "metadata": {},
   "source": [
    "Add a doit task called `plot` that implements the below code\n",
    "\n",
    "```python\n",
    "def create_vizualization():\n",
    "    csv_file = \"data/data.csv\"\n",
    "    hist_col_name = 'response_time'\n",
    "    df = pd.read_csv(csv_file)\n",
    "    df[hist_col_name].hvplot.hist()\n",
    "```"
   ]
  },
  {
   "cell_type": "code",
   "execution_count": 40,
   "id": "09f5855b-34df-45ef-920a-821c21a5af2f",
   "metadata": {},
   "outputs": [],
   "source": [
    "def task_plot():\n",
    "    def create_vizualization():\n",
    "        csv_file = \"data/data.csv\"\n",
    "        hist_col_name = 'response_time'\n",
    "        df = pd.read_csv(csv_file)\n",
    "        df[hist_col_name].hvplot.hist()\n",
    "    return {\n",
    "        'actions': [create_vizualization],\n",
    "    }"
   ]
  },
  {
   "cell_type": "code",
   "execution_count": 41,
   "id": "da0dcf80-51ea-4761-bfae-732af2b1c047",
   "metadata": {},
   "outputs": [
    {
     "name": "stdout",
     "output_type": "stream",
     "text": [
      "download   \n",
      "plot       \n",
      "stats      \n"
     ]
    }
   ],
   "source": [
    "%doit list"
   ]
  },
  {
   "cell_type": "markdown",
   "id": "12ce1657-dd79-4f28-a378-25f77593e3c5",
   "metadata": {},
   "source": [
    "**Example** Change `download` task so that it accepts `url` parameter"
   ]
  },
  {
   "cell_type": "code",
   "execution_count": 42,
   "id": "352d8e6d-76af-40a5-a37a-527944ce9726",
   "metadata": {},
   "outputs": [],
   "source": [
    "def task_download_data():\n",
    "    def download_data(url):\n",
    "        output_csv = \"data/data.csv\"\n",
    "        df = pd.read_csv(url)\n",
    "        df.to_csv(output_csv, index=False)\n",
    "    \n",
    "    return {\n",
    "        'actions': [(download_data, [\"https://uni-bonn.sciebo.de/s/FYJPmdTyPo1qwRX/download\"])],\n",
    "    }"
   ]
  },
  {
   "cell_type": "code",
   "execution_count": 43,
   "id": "8a9151f2-1815-4778-a71f-d6592fa603b2",
   "metadata": {},
   "outputs": [
    {
     "name": "stdout",
     "output_type": "stream",
     "text": [
      ".  download_data\n"
     ]
    }
   ],
   "source": [
    "%doit download_data"
   ]
  },
  {
   "cell_type": "markdown",
   "id": "c7f1384d-9261-4c7d-8f8a-55d71eb90f2c",
   "metadata": {},
   "source": [
    "Change `stats` task so that it accepts `csv_file` argument"
   ]
  },
  {
   "cell_type": "code",
   "execution_count": 44,
   "id": "55269e1e-119d-4f3e-97d6-77ad82068a6c",
   "metadata": {},
   "outputs": [],
   "source": [
    "def task_stats():\n",
    "    def calculate_stats(csv_file):\n",
    "        output_csv = \"data/data_stats.csv\"\n",
    "        df = pd.read_csv(csv_file)\n",
    "        df_stat = df.describe().reset_index()\n",
    "        df_stat.to_csv(output_csv, index=False)\n",
    "    return {\n",
    "        'actions': [(calculate_stats, [\"data/data.csv\"])],\n",
    "    }"
   ]
  },
  {
   "cell_type": "code",
   "execution_count": 45,
   "id": "667424ac-eca7-456a-83d1-4588779209be",
   "metadata": {},
   "outputs": [
    {
     "name": "stdout",
     "output_type": "stream",
     "text": [
      ".  stats\n"
     ]
    }
   ],
   "source": [
    "%doit stats"
   ]
  },
  {
   "cell_type": "markdown",
   "id": "606ad18a-52d2-4d82-9b6e-f26a9c7f5284",
   "metadata": {},
   "source": [
    "Change `plot` task so that it accepts `csv_file` argument"
   ]
  },
  {
   "cell_type": "code",
   "execution_count": 46,
   "id": "4c7764fe-59d3-48a0-a484-05ff909843c7",
   "metadata": {},
   "outputs": [],
   "source": [
    "def task_plot():\n",
    "    def create_vizualization(csv_file):\n",
    "        hist_col_name = 'count'\n",
    "        df = pd.read_csv(csv_file)\n",
    "        df[hist_col_name].hvplot.hist()\n",
    "    return {\n",
    "        'actions': [(create_vizualization, [\"data/data.csv\"])],\n",
    "    }"
   ]
  },
  {
   "cell_type": "code",
   "execution_count": 47,
   "id": "78b561b4-a6e8-44d6-ad60-44009d4b9fa7",
   "metadata": {},
   "outputs": [
    {
     "name": "stdout",
     "output_type": "stream",
     "text": [
      ".  plot\n"
     ]
    }
   ],
   "source": [
    "%doit plot"
   ]
  },
  {
   "cell_type": "markdown",
   "id": "8b3ae2bc-2eb5-42cd-81f3-bd913e4c4e2a",
   "metadata": {},
   "source": [
    "**Example** Change `download` task so that it accepts both `url` and `output_csv` parameters"
   ]
  },
  {
   "cell_type": "code",
   "execution_count": 48,
   "id": "a478460d-ac82-4018-b777-e8472d0a9c69",
   "metadata": {},
   "outputs": [],
   "source": [
    "def task_download():\n",
    "    def download_data(url, output_csv):\n",
    "        df = pd.read_csv(url)\n",
    "        df.to_csv(output_csv, index=False)\n",
    "    \n",
    "    return {\n",
    "        'actions': [(download_data, [\"https://uni-bonn.sciebo.de/s/FYJPmdTyPo1qwRX/download\", \"data/data.csv\"])],\n",
    "    }"
   ]
  },
  {
   "cell_type": "code",
   "execution_count": 49,
   "id": "f2f26efe-b9d1-4d69-bcfd-1205b783d1cb",
   "metadata": {},
   "outputs": [
    {
     "name": "stdout",
     "output_type": "stream",
     "text": [
      ".  download\n",
      ".  download_data\n",
      ".  plot\n",
      ".  stats\n"
     ]
    }
   ],
   "source": [
    "%doit"
   ]
  },
  {
   "cell_type": "markdown",
   "id": "fa73d821-cab9-495d-a526-45ecf87d530a",
   "metadata": {},
   "source": [
    "Change `stats` task so that it accepts both `csv_file` and `output_csv` parameters"
   ]
  },
  {
   "cell_type": "code",
   "execution_count": 50,
   "id": "a2d842eb-0e1f-4d6f-b7e7-af596a8066b3",
   "metadata": {},
   "outputs": [],
   "source": [
    "def task_stats():\n",
    "    def calculate_stats(csv_file, output_csv):\n",
    "        df = pd.read_csv(csv_file)\n",
    "        df_stat = df.describe().reset_index()\n",
    "        df_stat.to_csv(output_csv, index=False)\n",
    "    return {\n",
    "        'actions': [(calculate_stats, [\"data/data.csv\", \"data/data_stats.csv\"])],\n",
    "    }"
   ]
  },
  {
   "cell_type": "code",
   "execution_count": 51,
   "id": "7624b825-2777-40e1-947e-fdec11e69787",
   "metadata": {},
   "outputs": [
    {
     "name": "stdout",
     "output_type": "stream",
     "text": [
      ".  download\n",
      ".  download_data\n",
      ".  plot\n",
      ".  stats\n"
     ]
    }
   ],
   "source": [
    "%doit"
   ]
  },
  {
   "cell_type": "markdown",
   "id": "f09c7716-e3a7-428d-b805-862a085c0ec1",
   "metadata": {},
   "source": [
    "Change `plot` task so that it accepts both `csvfile` and `hist_col_name` as parameters <font color='red'> I get a KeyError when I try to run this code. </font>"
   ]
  },
  {
   "cell_type": "code",
   "execution_count": 52,
   "id": "0a9aabc0-c27d-490f-b24e-64754182aec8",
   "metadata": {},
   "outputs": [],
   "source": [
    "def task_plot():\n",
    "    def create_vizualization(csv_file, hist_col_name):\n",
    "        df = pd.read_csv(csv_file)\n",
    "        df[hist_col_name].hvplot.hist()\n",
    "    return {\n",
    "        'actions': [(create_vizualization, [\"data/data.csv\", 'response_time'])],\n",
    "    }"
   ]
  },
  {
   "cell_type": "code",
   "execution_count": 53,
   "id": "341599c5-46d3-4797-bf64-c15108a0a53e",
   "metadata": {},
   "outputs": [
    {
     "name": "stdout",
     "output_type": "stream",
     "text": [
      ".  download\n",
      ".  download_data\n",
      ".  plot\n",
      "TaskError - taskid:plot\n",
      "PythonAction Error\n",
      "Traceback (most recent call last):\n",
      "  File \"c:\\Users\\atle_\\anaconda3\\envs\\notebook_driven_development_test\\Lib\\site-packages\\pandas\\core\\indexes\\base.py\", line 3805, in get_loc\n",
      "    return self._engine.get_loc(casted_key)\n",
      "           ~~~~~~~~~~~~~~~~~~~~^^^^^^^^^^^^\n",
      "  File \"index.pyx\", line 167, in pandas._libs.index.IndexEngine.get_loc\n",
      "  File \"index.pyx\", line 196, in pandas._libs.index.IndexEngine.get_loc\n",
      "  File \"pandas\\\\_libs\\\\hashtable_class_helper.pxi\", line 7081, in pandas._libs.hashtable.PyObjectHashTable.get_item\n",
      "  File \"pandas\\\\_libs\\\\hashtable_class_helper.pxi\", line 7089, in pandas._libs.hashtable.PyObjectHashTable.get_item\n",
      "KeyError: 'response_time'\n",
      "\n",
      "The above exception was the direct cause of the following exception:\n",
      "\n",
      "Traceback (most recent call last):\n",
      "  File \"c:\\Users\\atle_\\anaconda3\\envs\\notebook_driven_development_test\\Lib\\site-packages\\doit\\action.py\", line 461, in execute\n",
      "    returned_value = self.py_callable(*self.args, **kwargs)\n",
      "  File \"C:\\Users\\atle_\\AppData\\Local\\Temp\\ipykernel_48172\\186263830.py\", line 4, in create_vizualization\n",
      "    df[hist_col_name].hvplot.hist()\n",
      "    ~~^^^^^^^^^^^^^^^\n",
      "  File \"c:\\Users\\atle_\\anaconda3\\envs\\notebook_driven_development_test\\Lib\\site-packages\\pandas\\core\\frame.py\", line 4102, in __getitem__\n",
      "    indexer = self.columns.get_loc(key)\n",
      "  File \"c:\\Users\\atle_\\anaconda3\\envs\\notebook_driven_development_test\\Lib\\site-packages\\pandas\\core\\indexes\\base.py\", line 3812, in get_loc\n",
      "    raise KeyError(key) from err\n",
      "KeyError: 'response_time'\n",
      "\n",
      "########################################\n",
      "plot <stdout>:\n",
      "\n"
     ]
    }
   ],
   "source": [
    "%doit"
   ]
  },
  {
   "cell_type": "markdown",
   "id": "c72d8049-a82e-408f-8967-3a5394f5c97a",
   "metadata": {},
   "source": [
    "## Using Notebooks To Make Documented Functions"
   ]
  },
  {
   "cell_type": "markdown",
   "id": "6f128c3b-5e2d-4e8f-8cef-cb040e9a50ae",
   "metadata": {},
   "source": [
    "Create a `data_access.ipynb` for the download task such that the below code works.\n",
    "\n",
    "Hints: \n",
    "1. Add function in a cell and use markdown to add details around it.\n",
    "2. Use markdown to add more details about the function (example, column description of kind of data expected, what experiment is it for, etc)"
   ]
  },
  {
   "cell_type": "code",
   "execution_count": 54,
   "id": "d165e553-8e76-4e81-a8dd-460fce8e1487",
   "metadata": {},
   "outputs": [
    {
     "ename": "ModuleNotFoundError",
     "evalue": "No module named 'data_access'",
     "output_type": "error",
     "traceback": [
      "\u001b[1;31m---------------------------------------------------------------------------\u001b[0m",
      "\u001b[1;31mModuleNotFoundError\u001b[0m                       Traceback (most recent call last)",
      "Cell \u001b[1;32mIn[54], line 1\u001b[0m\n\u001b[1;32m----> 1\u001b[0m \u001b[38;5;28;01mfrom\u001b[39;00m \u001b[38;5;21;01mdata_access\u001b[39;00m \u001b[38;5;28;01mimport\u001b[39;00m download_steinmetz_data\n\u001b[0;32m      3\u001b[0m \u001b[38;5;28;01mdef\u001b[39;00m \u001b[38;5;21mtask_download\u001b[39m():  \n\u001b[0;32m      4\u001b[0m     \u001b[38;5;28;01mreturn\u001b[39;00m {\n\u001b[0;32m      5\u001b[0m         \u001b[38;5;124m'\u001b[39m\u001b[38;5;124mactions\u001b[39m\u001b[38;5;124m'\u001b[39m: [(download_steinmetz_data, [\u001b[38;5;124m\"\u001b[39m\u001b[38;5;124mhttps://uni-bonn.sciebo.de/s/FYJPmdTyPo1qwRX/download\u001b[39m\u001b[38;5;124m\"\u001b[39m, \u001b[38;5;124m\"\u001b[39m\u001b[38;5;124mdata/data.csv\u001b[39m\u001b[38;5;124m\"\u001b[39m])],\n\u001b[0;32m      6\u001b[0m     }\n",
      "\u001b[1;31mModuleNotFoundError\u001b[0m: No module named 'data_access'"
     ]
    }
   ],
   "source": [
    "from data_access import download_steinmetz_data\n",
    "\n",
    "def task_download():  \n",
    "    return {\n",
    "        'actions': [(download_steinmetz_data, [\"https://uni-bonn.sciebo.de/s/FYJPmdTyPo1qwRX/download\", \"data/data.csv\"])],\n",
    "    }"
   ]
  },
  {
   "cell_type": "markdown",
   "id": "37288ab3-b7a0-41d8-a59e-e95119d3390a",
   "metadata": {},
   "source": [
    "Create a `stats.ipynb` for the stat task such that the below code works"
   ]
  },
  {
   "cell_type": "code",
   "execution_count": null,
   "id": "5086616a-85cd-4e1e-be4d-139d0117dd89",
   "metadata": {},
   "outputs": [],
   "source": [
    "from stats import calculate_steinmetz_stats\n",
    "\n",
    "def task_stats():\n",
    "    return {\n",
    "        'actions': [(calculate_steinmetz_stats, [\"data/data.csv\", \"data/data_stats.csv\"])],\n",
    "    }"
   ]
  },
  {
   "cell_type": "markdown",
   "id": "023c2940-d252-4b73-99ea-d785b6e2a60a",
   "metadata": {},
   "source": [
    "Create a `visualization.ipynb` notebook such that the below code works"
   ]
  },
  {
   "cell_type": "code",
   "execution_count": null,
   "id": "323c347a-be6d-42b0-bb39-4c71e399e628",
   "metadata": {},
   "outputs": [],
   "source": [
    "from visualization import plot_steinmetz\n",
    "\n",
    "def task_plot():\n",
    "    return {\n",
    "        'actions': [(plot_steinmetz, [\"data/data.csv\", 'response_time'])],\n",
    "    }"
   ]
  }
 ],
 "metadata": {
  "kernelspec": {
   "display_name": "notebook_driven_development_test",
   "language": "python",
   "name": "python3"
  },
  "language_info": {
   "codemirror_mode": {
    "name": "ipython",
    "version": 3
   },
   "file_extension": ".py",
   "mimetype": "text/x-python",
   "name": "python",
   "nbconvert_exporter": "python",
   "pygments_lexer": "ipython3",
   "version": "3.13.0"
  }
 },
 "nbformat": 4,
 "nbformat_minor": 5
}
