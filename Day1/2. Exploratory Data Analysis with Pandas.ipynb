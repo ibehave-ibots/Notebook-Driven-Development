{
 "cells": [
  {
   "cell_type": "code",
   "execution_count": null,
   "id": "f9eacdf3-8736-4a3f-94a8-706f32057a65",
   "metadata": {},
   "outputs": [],
   "source": [
    "import pandas as pd"
   ]
  },
  {
   "cell_type": "markdown",
   "id": "7d8cbf24-554a-45b2-9810-47864400862d",
   "metadata": {},
   "source": [
    "# Exploratory Data Analysis with Pandas\n",
    "\n",
    "Exploratory Data Analysis (EDA) is a crucial step in data analysis process. The purpose of EDA is mainly to summarize the data into few key statistical measures and visualizations to help us understand underlying patterns in the data. During EDA, we are still in discovery phase of our entire analysis process which means that we would benefit from a tool offering these two main features\n",
    "\n",
    "1. Accommodate rapid experimentation of data analysis\n",
    "2. Give immediate result in the form of table/numbers/visualizations\n",
    "3. Integrate text based explanations for future use\n",
    "\n",
    "Notebooks are excellent tools for these as we can do multiple \"experimental\" analyses on our data in different cells or sections, get immediate results, and also document our thought process behind each \"experiment\".\n",
    "\n",
    "In this session, we learn how to use `Pandas`, a popular Python library to analyze tabular data. "
   ]
  },
  {
   "cell_type": "markdown",
   "id": "f605e724-f78d-4947-8cef-c58ab4ac34d7",
   "metadata": {},
   "source": [
    "## Introduction to Pandas"
   ]
  },
  {
   "cell_type": "code",
   "execution_count": null,
   "id": "e5dbf4a1-f06e-4939-b640-cd526293b58e",
   "metadata": {},
   "outputs": [],
   "source": [
    "# loading csv file directly from url\n",
    "\n",
    "url = 'https://raw.githubusercontent.com/resbaz/r-novice-gapminder-files/master/data/gapminder-FiveYearData.csv'\n",
    "df = pd.read_csv(url)"
   ]
  },
  {
   "cell_type": "code",
   "execution_count": null,
   "id": "6fa3ed6b-5131-42ed-85a8-1dce453c7bd9",
   "metadata": {},
   "outputs": [],
   "source": [
    "df.head()"
   ]
  },
  {
   "cell_type": "code",
   "execution_count": null,
   "id": "815e65d2-9c38-472b-a901-7c9497d99e7a",
   "metadata": {},
   "outputs": [],
   "source": [
    "df.head(10)"
   ]
  },
  {
   "cell_type": "code",
   "execution_count": null,
   "id": "8a0c5da1-4b51-4ed4-be1e-bb8a0a0e26d6",
   "metadata": {},
   "outputs": [],
   "source": [
    "df.tail()"
   ]
  },
  {
   "cell_type": "code",
   "execution_count": null,
   "id": "89e93818-a7b7-44cb-8de3-62f1c2b60f98",
   "metadata": {},
   "outputs": [],
   "source": [
    "df.tail(7)"
   ]
  },
  {
   "cell_type": "code",
   "execution_count": null,
   "id": "2c5b6770-7efe-4593-b10c-c3d0aa4f3110",
   "metadata": {},
   "outputs": [],
   "source": [
    "df.info()"
   ]
  },
  {
   "cell_type": "code",
   "execution_count": null,
   "id": "3d96d783-d1de-4b25-a49c-a0ee3b64e7f8",
   "metadata": {},
   "outputs": [],
   "source": [
    "df.columns"
   ]
  },
  {
   "cell_type": "code",
   "execution_count": null,
   "id": "cc50cd1a-e861-43c7-b509-a9f1c6c81108",
   "metadata": {},
   "outputs": [],
   "source": [
    "len(df)"
   ]
  },
  {
   "cell_type": "code",
   "execution_count": null,
   "id": "e7ebb36f-6fa3-425e-8ccf-3557e2f85d91",
   "metadata": {},
   "outputs": [],
   "source": [
    "df['continent'].nunique()"
   ]
  },
  {
   "cell_type": "code",
   "execution_count": null,
   "id": "ef175e54-4b59-409c-ba07-ec73c67157e2",
   "metadata": {},
   "outputs": [],
   "source": []
  },
  {
   "cell_type": "code",
   "execution_count": null,
   "id": "6556034a-0d5d-4df3-92cb-58038d144022",
   "metadata": {},
   "outputs": [],
   "source": []
  },
  {
   "cell_type": "code",
   "execution_count": null,
   "id": "be7ef6fc-8e47-4fb7-a78e-d571194b25b9",
   "metadata": {},
   "outputs": [],
   "source": []
  },
  {
   "cell_type": "code",
   "execution_count": null,
   "id": "be8cb539-de99-4218-bfb2-7bd82b95f151",
   "metadata": {},
   "outputs": [],
   "source": [
    "df['continent'].unique()"
   ]
  },
  {
   "cell_type": "code",
   "execution_count": null,
   "id": "e2626154-6ede-4817-aa1e-b973188aec6a",
   "metadata": {},
   "outputs": [],
   "source": []
  },
  {
   "cell_type": "code",
   "execution_count": null,
   "id": "61d31e3f-482a-46fd-90a6-257deff76782",
   "metadata": {},
   "outputs": [],
   "source": []
  },
  {
   "cell_type": "code",
   "execution_count": null,
   "id": "819fdc32-a65d-4fb8-a3d4-af2343e994fe",
   "metadata": {},
   "outputs": [],
   "source": []
  },
  {
   "cell_type": "code",
   "execution_count": null,
   "id": "9705cc4a-70a4-4b6d-badb-cdcd2500f42a",
   "metadata": {},
   "outputs": [],
   "source": [
    "df['continent'].value_counts()"
   ]
  },
  {
   "cell_type": "code",
   "execution_count": null,
   "id": "69900e37-785c-431e-8969-e9270f7e45bd",
   "metadata": {},
   "outputs": [],
   "source": []
  },
  {
   "cell_type": "code",
   "execution_count": null,
   "id": "69536e61-c9ff-4df2-b6db-40fd2b558750",
   "metadata": {},
   "outputs": [],
   "source": []
  },
  {
   "cell_type": "code",
   "execution_count": null,
   "id": "6b96caa4-7b76-4b1f-9e63-47d6e1e6ce03",
   "metadata": {},
   "outputs": [],
   "source": []
  },
  {
   "cell_type": "code",
   "execution_count": null,
   "id": "20a24a0e-562f-45c4-baac-ab47f2b349f6",
   "metadata": {},
   "outputs": [],
   "source": [
    "df[['continent', 'year']].value_counts()"
   ]
  },
  {
   "cell_type": "code",
   "execution_count": null,
   "id": "b54b92f4-6da1-4ca2-8a1c-0725b8992ed0",
   "metadata": {},
   "outputs": [],
   "source": []
  },
  {
   "cell_type": "code",
   "execution_count": null,
   "id": "170717ed-65dd-48fd-a73e-592903317d3f",
   "metadata": {},
   "outputs": [],
   "source": []
  },
  {
   "cell_type": "code",
   "execution_count": null,
   "id": "e411cfa8-dded-4956-ab66-605970c492b5",
   "metadata": {},
   "outputs": [],
   "source": []
  },
  {
   "cell_type": "markdown",
   "id": "0178108d-cf27-4cc5-bd00-6862515975ee",
   "metadata": {},
   "source": [
    "## Column Operations"
   ]
  },
  {
   "cell_type": "code",
   "execution_count": null,
   "id": "0b86c69c-ae96-449b-9c03-fc91ab6e056d",
   "metadata": {},
   "outputs": [],
   "source": [
    "df['country']"
   ]
  },
  {
   "cell_type": "code",
   "execution_count": null,
   "id": "b577fa3b-5664-48df-8019-5b609f3c81db",
   "metadata": {},
   "outputs": [],
   "source": [
    "df['continent']"
   ]
  },
  {
   "cell_type": "code",
   "execution_count": null,
   "id": "e51ec7d2-a001-4b44-90b2-e026bf5dd000",
   "metadata": {},
   "outputs": [],
   "source": []
  },
  {
   "cell_type": "code",
   "execution_count": null,
   "id": "24ed2a44-731d-47fc-a72c-323a7e457d4d",
   "metadata": {},
   "outputs": [],
   "source": [
    "df[df['continent']== 'Asia'] "
   ]
  },
  {
   "cell_type": "code",
   "execution_count": null,
   "id": "75a45759-cc93-4484-89b1-e9b7f6d0137a",
   "metadata": {},
   "outputs": [],
   "source": []
  },
  {
   "cell_type": "code",
   "execution_count": null,
   "id": "86cebba8-322c-46e9-8187-10418abc03df",
   "metadata": {},
   "outputs": [],
   "source": []
  },
  {
   "cell_type": "code",
   "execution_count": null,
   "id": "7f6a9aea-617a-425a-9a72-89743098c45d",
   "metadata": {},
   "outputs": [],
   "source": []
  },
  {
   "cell_type": "code",
   "execution_count": null,
   "id": "c767f365-e421-467b-946e-decd52167bf0",
   "metadata": {},
   "outputs": [],
   "source": [
    "df[(df['continent'] == 'Asia') | (df['continent'] == 'Europe')]"
   ]
  },
  {
   "cell_type": "code",
   "execution_count": null,
   "id": "6ea6c407-fa7a-4f52-a898-44fffd45f910",
   "metadata": {},
   "outputs": [],
   "source": [
    "df[(df['continent'] == 'Europe') & (df['country'] == 'Germany')]"
   ]
  },
  {
   "cell_type": "code",
   "execution_count": null,
   "id": "9c6b254d-ddf8-4c5f-b298-d0e68e6f6837",
   "metadata": {},
   "outputs": [],
   "source": []
  },
  {
   "cell_type": "code",
   "execution_count": null,
   "id": "efc3a3d8-a465-4248-969b-6aa14d26c448",
   "metadata": {},
   "outputs": [],
   "source": [
    "# assume a global increase in life expectancy by 5 years\n",
    "df['lifeexp_Future'] = df['lifeExp'] + 5\n",
    "df.head()"
   ]
  },
  {
   "cell_type": "code",
   "execution_count": null,
   "id": "ea267dc3-b08a-44a0-a434-39d2134170fa",
   "metadata": {},
   "outputs": [],
   "source": [
    "# subtract a constant value of 500 from gdppercapita\n",
    "df['gdpPercap_inflation'] = df['gdpPercap'] - 500\n",
    "df.head()"
   ]
  },
  {
   "cell_type": "code",
   "execution_count": null,
   "id": "d61c5710-24db-4523-8bf4-b9e1abde6c12",
   "metadata": {},
   "outputs": [],
   "source": [
    "# future population projection at 10years with a growth factor of 1.2\n",
    "df['pop_10yrs'] = df['pop'] * 1.02\n",
    "df.head()"
   ]
  },
  {
   "cell_type": "code",
   "execution_count": null,
   "id": "ed413bcb-8a02-4f15-b96f-9dde9c206cf2",
   "metadata": {},
   "outputs": [],
   "source": [
    "# convert population to million\n",
    "df['pop_million'] = df['pop'] / 1e6\n",
    "df.head()"
   ]
  },
  {
   "cell_type": "code",
   "execution_count": null,
   "id": "9abac8c5-7301-4bba-a020-3be4fd72517d",
   "metadata": {},
   "outputs": [],
   "source": [
    "# multiplying columns\n",
    "df['gdp_billion'] = (df['gdpPercap'] * df['pop'])/1e9\n",
    "df.head()"
   ]
  },
  {
   "cell_type": "code",
   "execution_count": null,
   "id": "6f8c1561-3a67-4042-b9f6-06b72fc07bfa",
   "metadata": {},
   "outputs": [],
   "source": [
    "df.drop(columns=['lifeexp_Future'])"
   ]
  },
  {
   "cell_type": "code",
   "execution_count": null,
   "id": "d41e5673-2b72-4588-a4a7-437acd7e7ab3",
   "metadata": {},
   "outputs": [],
   "source": [
    "df.drop(columns=['pop_10yrs', 'gdpPercap_inflation'])"
   ]
  },
  {
   "cell_type": "markdown",
   "id": "0e432ee8-9a7b-4425-bfef-a09802d6efe9",
   "metadata": {},
   "source": [
    "## Basic Statics of Continuous Data"
   ]
  },
  {
   "cell_type": "code",
   "execution_count": null,
   "id": "86dfe958-56b5-41b8-9523-6a4407dd53b2",
   "metadata": {},
   "outputs": [],
   "source": [
    "df['pop_million'].min()"
   ]
  },
  {
   "cell_type": "code",
   "execution_count": null,
   "id": "14a40aa7-dfc7-44d2-883f-b7ccda3000f8",
   "metadata": {},
   "outputs": [],
   "source": []
  },
  {
   "cell_type": "code",
   "execution_count": null,
   "id": "0a8a0417-3f90-4350-be2a-6f75798fb8db",
   "metadata": {},
   "outputs": [],
   "source": []
  },
  {
   "cell_type": "code",
   "execution_count": null,
   "id": "644d424d-5f08-4c0b-b2b8-675a82448dc2",
   "metadata": {},
   "outputs": [],
   "source": []
  },
  {
   "cell_type": "code",
   "execution_count": null,
   "id": "88c2fb81-7b06-4160-84f4-83fea9de93ac",
   "metadata": {},
   "outputs": [],
   "source": [
    "df['pop_million'].max()"
   ]
  },
  {
   "cell_type": "code",
   "execution_count": null,
   "id": "7d77cdbd-7e4a-4fa1-9814-48d690baf87a",
   "metadata": {},
   "outputs": [],
   "source": []
  },
  {
   "cell_type": "code",
   "execution_count": null,
   "id": "e98b3b24-5664-40b7-ab1e-864b1379a2ed",
   "metadata": {},
   "outputs": [],
   "source": []
  },
  {
   "cell_type": "code",
   "execution_count": null,
   "id": "347193e7-e31d-4cbc-af44-21ad94cd19c6",
   "metadata": {},
   "outputs": [],
   "source": []
  },
  {
   "cell_type": "code",
   "execution_count": null,
   "id": "511e6f0a-dfba-45f0-9d75-6c4035e7f9a0",
   "metadata": {},
   "outputs": [],
   "source": [
    "df['pop_million'].mean()"
   ]
  },
  {
   "cell_type": "code",
   "execution_count": null,
   "id": "10f431ec-1cc4-4c92-bcb1-6583fac4e155",
   "metadata": {},
   "outputs": [],
   "source": []
  },
  {
   "cell_type": "code",
   "execution_count": null,
   "id": "1324a6de-569d-4d66-bd17-880eb72c5b73",
   "metadata": {},
   "outputs": [],
   "source": []
  },
  {
   "cell_type": "code",
   "execution_count": null,
   "id": "6a606e0b-0107-450f-8d35-dc0cf95643ad",
   "metadata": {},
   "outputs": [],
   "source": []
  },
  {
   "cell_type": "code",
   "execution_count": null,
   "id": "ae45df6e-bfe3-4f29-948c-e3ed93cee978",
   "metadata": {},
   "outputs": [],
   "source": [
    "df['pop_million'].median()"
   ]
  },
  {
   "cell_type": "code",
   "execution_count": null,
   "id": "51b39e1f-3926-46c5-95f7-368ea3fa9269",
   "metadata": {},
   "outputs": [],
   "source": []
  },
  {
   "cell_type": "code",
   "execution_count": null,
   "id": "37f76920-c0f9-49f8-9969-27f4897ffe8d",
   "metadata": {},
   "outputs": [],
   "source": []
  },
  {
   "cell_type": "code",
   "execution_count": null,
   "id": "6040c471-5493-4d82-ac53-2385cc784f9a",
   "metadata": {},
   "outputs": [],
   "source": []
  },
  {
   "cell_type": "code",
   "execution_count": null,
   "id": "5c0f61d4-de95-43d7-984a-f60ed05d0ad8",
   "metadata": {},
   "outputs": [],
   "source": [
    "df['pop_million'].std()"
   ]
  },
  {
   "cell_type": "code",
   "execution_count": null,
   "id": "9b9ad59f-a6da-48ce-a0d4-5b11e0d6a1d0",
   "metadata": {},
   "outputs": [],
   "source": []
  },
  {
   "cell_type": "code",
   "execution_count": null,
   "id": "beba68e2-6781-43f6-b6c9-ad0a1bb16cce",
   "metadata": {},
   "outputs": [],
   "source": []
  },
  {
   "cell_type": "code",
   "execution_count": null,
   "id": "6ccb9517-478b-4d9f-9108-ad51b65bb9a4",
   "metadata": {},
   "outputs": [],
   "source": []
  },
  {
   "cell_type": "code",
   "execution_count": null,
   "id": "b20740c8-664f-4d19-a83d-5bca387b6f33",
   "metadata": {},
   "outputs": [],
   "source": [
    "df[['pop_million', 'gdp_billion']].mean()"
   ]
  },
  {
   "cell_type": "code",
   "execution_count": null,
   "id": "ed2e68b4-c649-41af-90e7-e6bacc9cb6aa",
   "metadata": {},
   "outputs": [],
   "source": []
  },
  {
   "cell_type": "code",
   "execution_count": null,
   "id": "d1732210-9b94-4876-af2e-070d47d14b3f",
   "metadata": {},
   "outputs": [],
   "source": []
  },
  {
   "cell_type": "code",
   "execution_count": null,
   "id": "f50a9334-140d-4934-9b07-0b1ac41a6fb4",
   "metadata": {},
   "outputs": [],
   "source": []
  },
  {
   "cell_type": "code",
   "execution_count": null,
   "id": "0c2a687b-918f-4843-a92d-6935bb521314",
   "metadata": {},
   "outputs": [],
   "source": [
    "df[['pop_million', 'gdp_billion']].agg(['mean', 'std'])"
   ]
  },
  {
   "cell_type": "code",
   "execution_count": null,
   "id": "fa5d1f11-ff3c-4947-b6fb-ffebc3f7d845",
   "metadata": {},
   "outputs": [],
   "source": []
  },
  {
   "cell_type": "code",
   "execution_count": null,
   "id": "507b0b34-30c6-456c-be16-f8e8813c4bb4",
   "metadata": {},
   "outputs": [],
   "source": []
  },
  {
   "cell_type": "code",
   "execution_count": null,
   "id": "547f32f7-d5cb-42b9-9208-62cb156583fb",
   "metadata": {},
   "outputs": [],
   "source": []
  },
  {
   "cell_type": "code",
   "execution_count": null,
   "id": "0723dcb9-9732-4e5e-a9bf-f2faf075b7a9",
   "metadata": {},
   "outputs": [],
   "source": [
    "df.describe()"
   ]
  },
  {
   "cell_type": "code",
   "execution_count": null,
   "id": "fb84f788-2d97-45b3-a162-f093a5b5096c",
   "metadata": {},
   "outputs": [],
   "source": [
    "df[['pop_million', 'gdp_billion', 'lifeExp']].describe()"
   ]
  },
  {
   "cell_type": "code",
   "execution_count": null,
   "id": "ca131ae6-c2ca-4b50-b667-fd895810a2fd",
   "metadata": {},
   "outputs": [],
   "source": []
  },
  {
   "cell_type": "code",
   "execution_count": null,
   "id": "bd9f8d21-06a1-44dd-b9d9-ffcbceef3630",
   "metadata": {},
   "outputs": [],
   "source": []
  },
  {
   "cell_type": "code",
   "execution_count": null,
   "id": "9bfc0f3c-5fa7-470f-9968-88c76d07ffbc",
   "metadata": {},
   "outputs": [],
   "source": []
  },
  {
   "cell_type": "markdown",
   "id": "3d13d8d4-aac0-4c2e-a57f-cf9dfed52cf9",
   "metadata": {},
   "source": [
    "## Group-by Statistics"
   ]
  },
  {
   "cell_type": "code",
   "execution_count": null,
   "id": "98ef9cd2-0f0d-4ed0-bf0d-0c86f1cbbd12",
   "metadata": {},
   "outputs": [],
   "source": [
    "df.groupby('continent')['pop_million'].mean()"
   ]
  },
  {
   "cell_type": "code",
   "execution_count": null,
   "id": "f0e8756a-1b8c-4007-9afe-e55d21059eca",
   "metadata": {},
   "outputs": [],
   "source": []
  },
  {
   "cell_type": "code",
   "execution_count": null,
   "id": "24574a2c-893a-44bd-8b58-b9586026bfe2",
   "metadata": {},
   "outputs": [],
   "source": []
  },
  {
   "cell_type": "code",
   "execution_count": null,
   "id": "7735bf7a-4b2a-4da4-835b-88052bd7cfde",
   "metadata": {},
   "outputs": [],
   "source": []
  },
  {
   "cell_type": "code",
   "execution_count": null,
   "id": "0b2ff4aa-c5d4-426e-8d47-b79c3cd5c284",
   "metadata": {},
   "outputs": [],
   "source": [
    "df.groupby('continent')['pop_million'].min()"
   ]
  },
  {
   "cell_type": "code",
   "execution_count": null,
   "id": "b86099bf-2605-470f-be12-271f8726adbe",
   "metadata": {},
   "outputs": [],
   "source": []
  },
  {
   "cell_type": "code",
   "execution_count": null,
   "id": "a99b28cd-056f-4bae-b744-cd6ce8995de2",
   "metadata": {},
   "outputs": [],
   "source": []
  },
  {
   "cell_type": "code",
   "execution_count": null,
   "id": "a6e9fd53-ee1f-42c9-aa83-fbbdf071af4c",
   "metadata": {},
   "outputs": [],
   "source": []
  },
  {
   "cell_type": "code",
   "execution_count": null,
   "id": "eb2d6b6e-e243-435e-94d1-5b866403f73e",
   "metadata": {},
   "outputs": [],
   "source": [
    "df.groupby('continent')[['pop_million', 'gdp_billion']].mean()"
   ]
  },
  {
   "cell_type": "code",
   "execution_count": null,
   "id": "3415ec2d-4f8e-4624-80c6-d2f7bd4a1a8b",
   "metadata": {},
   "outputs": [],
   "source": []
  },
  {
   "cell_type": "code",
   "execution_count": null,
   "id": "49b9d39e-c3fb-4496-8d02-8f8ed1b048e7",
   "metadata": {},
   "outputs": [],
   "source": []
  },
  {
   "cell_type": "code",
   "execution_count": null,
   "id": "9bbf3e57-4cfd-4956-878b-50e1973cc15f",
   "metadata": {},
   "outputs": [],
   "source": []
  },
  {
   "cell_type": "code",
   "execution_count": null,
   "id": "e88e55b7-8596-4879-a773-c7a28b83d81a",
   "metadata": {},
   "outputs": [],
   "source": [
    "df.groupby(['continent', 'year'])['pop_million'].mean()"
   ]
  },
  {
   "cell_type": "code",
   "execution_count": null,
   "id": "38c7b3f7-b847-4de9-9d03-993a9ed02981",
   "metadata": {},
   "outputs": [],
   "source": []
  },
  {
   "cell_type": "code",
   "execution_count": null,
   "id": "825bba02-9753-4e0a-a87c-4a2ca51e98ec",
   "metadata": {},
   "outputs": [],
   "source": []
  },
  {
   "cell_type": "code",
   "execution_count": null,
   "id": "42629e53-8b23-4693-ba78-868768ec2360",
   "metadata": {},
   "outputs": [],
   "source": []
  },
  {
   "cell_type": "code",
   "execution_count": null,
   "id": "4e86df80-1f56-45f1-bee9-c0561e770038",
   "metadata": {},
   "outputs": [],
   "source": [
    "df.groupby(['continent', 'year'])[['pop_million', 'gdp_billion']].mean()"
   ]
  },
  {
   "cell_type": "code",
   "execution_count": null,
   "id": "617207d2-d7f8-4ba3-a2fe-e02e6b31bd76",
   "metadata": {},
   "outputs": [],
   "source": []
  },
  {
   "cell_type": "code",
   "execution_count": null,
   "id": "de1e12b9-2a9f-4daa-bc02-5e76c66fdd73",
   "metadata": {},
   "outputs": [],
   "source": []
  },
  {
   "cell_type": "code",
   "execution_count": null,
   "id": "abff3ee0-072e-47d8-8755-493c9c5b2c44",
   "metadata": {},
   "outputs": [],
   "source": []
  },
  {
   "cell_type": "code",
   "execution_count": null,
   "id": "b40e729a-2b1a-455f-8897-6b847c917056",
   "metadata": {},
   "outputs": [],
   "source": [
    "df.groupby(['continent', 'year'])[['pop_million', 'gdp_billion']].agg(['mean', 'median', 'std'])"
   ]
  },
  {
   "cell_type": "code",
   "execution_count": null,
   "id": "2754b9fc-8b49-4662-ba54-bbf906f7b602",
   "metadata": {},
   "outputs": [],
   "source": []
  },
  {
   "cell_type": "code",
   "execution_count": null,
   "id": "6089b2d8-b67c-43dc-b64f-ca5d6d5f6391",
   "metadata": {},
   "outputs": [],
   "source": []
  },
  {
   "cell_type": "code",
   "execution_count": null,
   "id": "efd0cc4d-570b-4fdb-98b8-09726865a84b",
   "metadata": {},
   "outputs": [],
   "source": []
  }
 ],
 "metadata": {
  "kernelspec": {
   "display_name": "Python 3 (ipykernel)",
   "language": "python",
   "name": "python3"
  },
  "language_info": {
   "codemirror_mode": {
    "name": "ipython",
    "version": 3
   },
   "file_extension": ".py",
   "mimetype": "text/x-python",
   "name": "python",
   "nbconvert_exporter": "python",
   "pygments_lexer": "ipython3",
   "version": "3.12.5"
  }
 },
 "nbformat": 4,
 "nbformat_minor": 5
}
