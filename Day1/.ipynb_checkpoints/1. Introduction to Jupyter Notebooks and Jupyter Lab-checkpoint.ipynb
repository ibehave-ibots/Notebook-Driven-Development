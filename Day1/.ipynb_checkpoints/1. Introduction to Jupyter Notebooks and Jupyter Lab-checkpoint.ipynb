{
 "cells": [
  {
   "cell_type": "markdown",
   "id": "acc0e317-b7ba-4f45-a985-0f8665d133f7",
   "metadata": {
    "editable": true,
    "slideshow": {
     "slide_type": ""
    },
    "tags": []
   },
   "source": [
    "# Introduction to Jupyter Notebooks and Jupyter Lab\n",
    "\n",
    "Data science notebooks are powerful tools for researchers because \n",
    "\n",
    "- they make interactive coding possible\n",
    "- they support many programming languages like Python, R, Julia, etc\n",
    "- they keep your code and related explanations together. This makes them an excellent platform to share your analysis with your lab and collaborators\n",
    "- you can even call shell commands from within the notebook allowing you to install necessary libraries\n",
    "- you can do interactive visualizations\n",
    "- you can even present your entire notebook or a sample of it as presentation!\n",
    "\n",
    "We will work with one such data science notebook called Jupyter notebooks on a web-based development environment called Jupyter Lab. "
   ]
  },
  {
   "cell_type": "code",
   "execution_count": 1,
   "id": "6ef31579-1c11-48b1-82d7-b0189a01f787",
   "metadata": {},
   "outputs": [
    {
     "data": {
      "text/plain": [
       "3"
      ]
     },
     "execution_count": 1,
     "metadata": {},
     "output_type": "execute_result"
    }
   ],
   "source": [
    "1 + 2"
   ]
  },
  {
   "cell_type": "markdown",
   "id": "ad585e30-5502-4a14-8a7a-bd5fc118c633",
   "metadata": {},
   "source": [
    "## Jupyter Lab Interface\n",
    "\n",
    "Jupyter lab's interface lets you browse your files and folders, work with terminals, jupyter notebooks, and scripts which you can see in the `Launcher`. There are typically three sections in the Launcher.\n",
    "1. Notebooks: This is for jupyter notebooks\n",
    "2. Console: This is for ipykernels which are also a tool for interactive coding\n",
    "3. Other: Here you can see terminal, Python files, etc.\n",
    "\n",
    "![Launcher](img/jupyter_launcher.png). \n",
    "\n",
    "You can always access the Launcher by going to `File -> New Launcher` or the keyboard shortcut Ctrl+Shift+L. There is also a button ![launcherbutton](img/launcher.png).\n",
    "\n",
    "**Example** Open a new Text File from the Launcher and type in your name.\n",
    "\n",
    "![textfile](img/text_file.png). \n",
    "\n",
    "Do you see the gray dot next to the file name? It means that the changes you made in the file are not saved yet. You can save any changes by using the usual short cut Ctrl+S. **Remember to always save any changes you want to keep**\n",
    "\n",
    "Your newly created file should now be visible in the file explorer. \n",
    "\n",
    "![fileexp](img/file_explorer.png)\n"
   ]
  },
  {
   "cell_type": "markdown",
   "id": "4f0c88f6-0091-4d2d-beba-f50942128f5a",
   "metadata": {},
   "source": [
    "Open a Python File from another section in the Launcher. You don't have to write any code. Just rename it as 'my_python.py' either by\n",
    "\n",
    "1. Right-click on the file -> Rename\n",
    "2. Click once on the file -> F2"
   ]
  },
  {
   "cell_type": "markdown",
   "id": "4d402720-45d1-4194-9f51-1c3af17f1a55",
   "metadata": {
    "editable": true,
    "slideshow": {
     "slide_type": ""
    },
    "tags": []
   },
   "source": [
    "Open a `Python 3 (ipykernel)` from the Console section in the Launcher. How is this different from the Python File? The Python Console is used for interactive python coding. You can type in Python commands into the input cell shown by red arrow in the below image. Your command will be evaluated and will be shown along with the output as shown within red rectangle.\n",
    "\n",
    "![Console](img/console.png).\n",
    "\n",
    "This is similar to how a Jupyter notebook functions which we will explore in the next section."
   ]
  },
  {
   "cell_type": "markdown",
   "id": "4a1f140c-8e4f-41d2-b2e6-df6447e05a45",
   "metadata": {
    "editable": true,
    "slideshow": {
     "slide_type": ""
    },
    "tags": []
   },
   "source": [
    "## Jupyter Notebook Basics\n",
    "\n",
    "We will be working with Jupyter notebooks, which evolved from IPython (the console you saw earlier). The basic unit of Jupyter notebooks is called a `cell`. A cell can be of two types:\n",
    "\n",
    "- **Code cell**: Whatever you type here will be executed as code.\n",
    "- **Markdown cell**: Whatever you type here will be treated as text.\n",
    "\n",
    "Combining them, you can create a documented analysis. The document you are reading right now is a Jupyter notebook. To create one, you can use the Notebook section in the Launcher. You will see a toolbar at the top of the notebook.\n",
    "\n",
    "![code_cell](img/code_cell.png)\n",
    "\n",
    "This image above shows a part of the toolbar in a **Jupyter Notebook** interface, displaying several useful controls for managing cells and executing code. Here is an explanation of important icons and items shown in the toolbar:\n",
    "\n",
    "1. **Add Cell (+)** (red arrow pointing to it):\n",
    "    - This icon is used to insert a new cell below the currently selected cell. In Jupyter Notebooks, a new cell can be used to either write code or text (Markdown).\n",
    "\n",
    "2. **Run Cell (Right Arrow/Play Icon)**:\n",
    "    - This icon runs the currently selected cell. If it contains code, it will execute the code and display the output directly below the cell.\n",
    "\n",
    "3. **Cell Type Dropdown (Markdown, Code, etc.)** (green arrow pointing to \"Markdown\"):\n",
    "    - This dropdown allows you to change the selected cell's type. The two main types are:\n",
    "        - **Code**: Cells that contain code, which will be executed when run.\n",
    "        - **Markdown**: Cells used to write formatted text, explanations, and LaTeX equations. These cells do not run code, but are useful for documentation.\n"
   ]
  },
  {
   "cell_type": "markdown",
   "id": "92e9aa98-1962-42c9-a69e-732e2e64e38d",
   "metadata": {},
   "source": [
    "Create a new code cell and execute `1+1`\n",
    "\n",
    "1. Use the `+` on toolbar to create a new cell and change it to `Code` (**You can also use short cuts Ctrl+B to create cell below current cell or Ctrl+A to create above**)\n",
    "    - If the new cell is Markdown cell, you can turn it into Code cell by `Ctrl+Y`\n",
    "3. Click on the play button on the toolbar (**Ctrl+Enter** or **Shift+Enter**)"
   ]
  },
  {
   "cell_type": "markdown",
   "id": "670efcd4-2b77-43a1-bc6d-854d34f8cb59",
   "metadata": {},
   "source": [
    "Create a new Markdown cell and type in some text\n",
    "\n",
    "1. Use the `+` on toolbar to create a new cell and change it to `Code` (**You can also use shortcuts Ctrl+B to create a cell below or Ctrl+A to create a cell above the current one**)\n",
    "    - If the new cell is Code cell, you can turn it into Markdown by `Ctrl+M`\n",
    "2. Click on the play button on the toolbar (**Ctrl+Enter** or **Shift+Enter**)"
   ]
  },
  {
   "cell_type": "markdown",
   "id": "187bc6ea-4a29-4f7b-b6bc-be12766259b6",
   "metadata": {
    "editable": true,
    "slideshow": {
     "slide_type": ""
    },
    "tags": []
   },
   "source": [
    "Great! You know the enough Jupyter notebook functions to be able to work with one. However, to get the best out of Jupyter notebooks, you should explore some of the features given in [Markdown Cheat Sheet](Markdown_Cheat_Sheet.pdf)"
   ]
  },
  {
   "cell_type": "markdown",
   "id": "620de0bb-332b-4a47-b108-1926d242a4fd",
   "metadata": {},
   "source": [
    "## Running system commands\n",
    "\n",
    "Now that you are familiar with the interface, let's have some fun. As you saw earlier, you can run code within code cells. We can also use external system commands to install libraries and run scripts. Let's try some of them now. All you have to do is start the command with an exclamation point (!)."
   ]
  },
  {
   "cell_type": "markdown",
   "id": "549a209b-6464-4aa8-b51a-c5c4162e5e30",
   "metadata": {},
   "source": [
    "**Example** Install `numpy` library using pip"
   ]
  },
  {
   "cell_type": "code",
   "execution_count": null,
   "id": "252375c9-f859-457d-87ad-db2ba9d9b9a5",
   "metadata": {},
   "outputs": [],
   "source": [
    "!pip install numpy"
   ]
  },
  {
   "cell_type": "markdown",
   "id": "be7eb43f-1c38-43d2-92e6-1e22ee6a37d7",
   "metadata": {},
   "source": [
    "Install `pandas` library using pip"
   ]
  },
  {
   "cell_type": "code",
   "execution_count": null,
   "id": "676ed602-a4f4-47ec-bc54-98f32d248075",
   "metadata": {
    "editable": true,
    "slideshow": {
     "slide_type": ""
    },
    "tags": []
   },
   "outputs": [],
   "source": []
  },
  {
   "cell_type": "markdown",
   "id": "0849800a-c3fa-41d4-8585-f97133304123",
   "metadata": {},
   "source": [
    "To run a python script we use command `python`. For example, `python script_name.py`. Can you run `hello.py` script from here?"
   ]
  },
  {
   "cell_type": "code",
   "execution_count": null,
   "id": "13d4e8ec-5f86-4a80-acea-1187708535aa",
   "metadata": {},
   "outputs": [],
   "source": []
  },
  {
   "cell_type": "markdown",
   "id": "ddfc9d71-d18a-47a4-aab7-0c4f3c31e3e8",
   "metadata": {},
   "source": [
    "## Reporting through notebooks\n",
    "\n",
    "You can use your analysis within Jupyter notebook as PDF, HTML, or even slides! \n",
    "\n",
    "Once you are happy with your notebook, go to File -> Save and Export As \n",
    "\n",
    "You will see several options. It's common to export notebooks as PDF, HTML, or executable scripts. For these option, you can directly choose them from the list. However, if you want to make slides, there are a few things to remember.\n",
    "\n",
    "1. **Create or Open a Jupyter Notebook**\n",
    "\n",
    "2. **Configure Cell Metadata for Slides**\n",
    "   - To configure a cell for slides, click on the **cell** and then click on the **cell toolbar** (a gear icon).\n",
    "   - In JupyterLab:\n",
    "     1. Click the cell you want to configure.\n",
    "     2. You'll now see a \"Slide Type\" dropdown next to each cell. This is where you can choose how each cell appears in the slideshow:\n",
    "        - **Slide**: Starts a new slide.\n",
    "        - **Sub-slide**: Starts a new subsection under the current slide.\n",
    "        - **Fragment**: Appears as a step-by-step reveal on the same slide.\n",
    "        - **Skip**: Skips the cell (won't be shown in the slideshow).\n",
    "        - **Notes**: Adds presenter notes, not shown in the slideshow.\n",
    "\n",
    "3. **Save Your Notebook**\n",
    "\n",
    "4. **Convert the Notebook to Slides**\n",
    "   - From the toolbar, select **File > Export Notebook As > Reveal.js (Slides)**.\n"
   ]
  },
  {
   "cell_type": "markdown",
   "id": "a89dbbc2-0591-4799-b224-9614d7d69d8c",
   "metadata": {},
   "source": [
    "For your final exercise, make few slides with code and Markdown. Have a title slide and play around with different Slide Types to see how your presentation looks!"
   ]
  }
 ],
 "metadata": {
  "kernelspec": {
   "display_name": "Python 3 (ipykernel)",
   "language": "python",
   "name": "python3"
  },
  "language_info": {
   "codemirror_mode": {
    "name": "ipython",
    "version": 3
   },
   "file_extension": ".py",
   "mimetype": "text/x-python",
   "name": "python",
   "nbconvert_exporter": "python",
   "pygments_lexer": "ipython3",
   "version": "3.12.5"
  }
 },
 "nbformat": 4,
 "nbformat_minor": 5
}
