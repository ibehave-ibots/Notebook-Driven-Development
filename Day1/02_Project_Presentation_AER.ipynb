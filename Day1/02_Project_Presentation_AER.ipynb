{
 "cells": [
  {
   "cell_type": "markdown",
   "id": "da423b58-fd7d-49b2-9877-3e4abb215a1d",
   "metadata": {
    "editable": true,
    "slideshow": {
     "slide_type": ""
    },
    "tags": []
   },
   "source": [
    "# Making Reports and Presentations in Jupyter Notebook\n",
    "\n",
    "Creating reports and presentations directly from Jupyter notebooks is helpful because it keeps everything—code, data, and explanations—in one place. \n",
    "You don’t have to move things between different programs, so your results and graphs are always up-to-date and consistent. \n",
    "Jupyter lets you export your work into formats like PDFs or slides, which makes sharing easier. \n",
    "This approach saves time, avoids mistakes, and makes it simpler to explain complex information."
   ]
  },
  {
   "cell_type": "markdown",
   "id": "93563916-bc69-4a84-ac8c-efbcbf34ca51",
   "metadata": {
    "editable": true,
    "slideshow": {
     "slide_type": ""
    },
    "tags": []
   },
   "source": [
    "## Made for: NDD course"
   ]
  },
  {
   "cell_type": "markdown",
   "id": "6585e536-7a7e-49b1-8e2b-79345b026c5f",
   "metadata": {
    "editable": true,
    "slideshow": {
     "slide_type": ""
    },
    "tags": []
   },
   "source": [
    "**Table of Contents**\n",
    "\n",
    "1. Starting Code\n",
    "2. Statistics\n",
    "3. Visualization"
   ]
  },
  {
   "cell_type": "code",
   "execution_count": null,
   "id": "ee0a37b9-112b-4a29-8e03-418b6ba0d12e",
   "metadata": {
    "editable": true,
    "slideshow": {
     "slide_type": ""
    },
    "tags": []
   },
   "outputs": [],
   "source": [
    "import pandas as pd\n",
    "import hvplot.pandas"
   ]
  },
  {
   "cell_type": "code",
   "execution_count": null,
   "id": "31bee11f-1dab-40fc-9b90-bde7cb2caf4e",
   "metadata": {
    "editable": true,
    "slideshow": {
     "slide_type": ""
    },
    "tags": []
   },
   "outputs": [],
   "source": [
    "# downloading file\n",
    "import sys\n",
    "sys.path.append('src')\n",
    "import sciebo\n",
    "sciebo.download_file('https://uni-bonn.sciebo.de/s/G5rdvTsoESXolF4', 'data/steinmetz_winter2017.csv')"
   ]
  },
  {
   "cell_type": "markdown",
   "id": "4a922e99-a496-4e97-a661-9ed4bb482f08",
   "metadata": {
    "editable": true,
    "slideshow": {
     "slide_type": ""
    },
    "tags": []
   },
   "source": [
    "---"
   ]
  },
  {
   "cell_type": "code",
   "execution_count": null,
   "id": "2c29cf3f-5f86-4139-b883-7ec64df5270e",
   "metadata": {
    "editable": true,
    "slideshow": {
     "slide_type": ""
    },
    "tags": []
   },
   "outputs": [],
   "source": [
    "# Reading and displaying data\n",
    "df = pd.read_csv(\"data/steinmetz_winter2017.csv\")\n",
    "df.head(10)"
   ]
  },
  {
   "cell_type": "code",
   "execution_count": null,
   "id": "c4389c4e-04fb-4192-af83-51cc04ff3386",
   "metadata": {
    "editable": true,
    "slideshow": {
     "slide_type": ""
    },
    "tags": []
   },
   "outputs": [],
   "source": [
    "# Mean and standard deviation of response time and feedback time\n",
    "\n",
    "df[\"response_time\"].mean()\n",
    "df[\"feedback_time\"].mean()\n",
    "df[[\"response_time\", \"feedback_time\"]].agg([\"mean\", \"std\"])"
   ]
  },
  {
   "cell_type": "code",
   "execution_count": null,
   "id": "3fa9ff8a-85f4-4ab7-8530-4a8609a0610e",
   "metadata": {
    "editable": true,
    "slideshow": {
     "slide_type": ""
    },
    "tags": []
   },
   "outputs": [],
   "source": [
    "# box plot of response time \n",
    "df[\"response_time\"].hvplot.box()"
   ]
  },
  {
   "cell_type": "code",
   "execution_count": null,
   "id": "94fc882e-cd68-4bc3-ac24-1962ab539ced",
   "metadata": {
    "editable": true,
    "slideshow": {
     "slide_type": ""
    },
    "tags": []
   },
   "outputs": [],
   "source": [
    "# box plot of response time and feedback time\n",
    "df[\"feedback_time\"].hvplot.box()"
   ]
  },
  {
   "cell_type": "markdown",
   "id": "f30afff7-4613-40d1-a7b4-514f6cffa975",
   "metadata": {
    "editable": true,
    "slideshow": {
     "slide_type": ""
    },
    "tags": []
   },
   "source": [
    "---"
   ]
  }
 ],
 "metadata": {
  "kernelspec": {
   "display_name": "Python 3 (ipykernel)",
   "language": "python",
   "name": "python3"
  },
  "language_info": {
   "codemirror_mode": {
    "name": "ipython",
    "version": 3
   },
   "file_extension": ".py",
   "mimetype": "text/x-python",
   "name": "python",
   "nbconvert_exporter": "python",
   "pygments_lexer": "ipython3",
   "version": "3.12.7"
  }
 },
 "nbformat": 4,
 "nbformat_minor": 5
}
